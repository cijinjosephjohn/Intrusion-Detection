{
  "cells": [
    {
      "cell_type": "markdown",
      "metadata": {
        "id": "view-in-github",
        "colab_type": "text"
      },
      "source": [
        "<a href=\"https://colab.research.google.com/github/cijinjosephjohn/Intrusion-Detection/blob/main/MiniProject_demo.ipynb\" target=\"_parent\"><img src=\"https://colab.research.google.com/assets/colab-badge.svg\" alt=\"Open In Colab\"/></a>"
      ]
    },
    {
      "cell_type": "code",
      "execution_count": 156,
      "metadata": {
        "id": "MHSfO_H6mOHi"
      },
      "outputs": [],
      "source": [
        "#-------data preprocessing\n",
        "\n",
        "import matplotlib.pyplot as plt\n",
        "import pandas as pd\n",
        "import numpy as np\n"
      ]
    },
    {
      "cell_type": "markdown",
      "metadata": {
        "id": "8ld4xP9WIV_x"
      },
      "source": [
        ""
      ]
    },
    {
      "cell_type": "code",
      "execution_count": 157,
      "metadata": {
        "colab": {
          "base_uri": "https://localhost:8080/"
        },
        "id": "Yio_GdYuqC-E",
        "outputId": "456f3462-beda-4334-934c-8a3bf1b089f0"
      },
      "outputs": [
        {
          "output_type": "stream",
          "name": "stdout",
          "text": [
            "Drive already mounted at /content/drive; to attempt to forcibly remount, call drive.mount(\"/content/drive\", force_remount=True).\n"
          ]
        }
      ],
      "source": [
        "from google.colab import drive\n",
        "drive.mount('/content/drive')"
      ]
    },
    {
      "cell_type": "code",
      "execution_count": 158,
      "metadata": {
        "id": "Emw7Yzv3U97j"
      },
      "outputs": [],
      "source": [
        "data1 = pd.read_csv(\"/content/drive/MyDrive/data_set for intrusion detection/KDDCup99.csv\")"
      ]
    },
    {
      "cell_type": "code",
      "execution_count": 159,
      "metadata": {
        "colab": {
          "base_uri": "https://localhost:8080/",
          "height": 299
        },
        "id": "mj8F6RyNmcz4",
        "outputId": "f9623db7-fa73-4215-98e8-c7bf4c7c68d0"
      },
      "outputs": [
        {
          "output_type": "execute_result",
          "data": {
            "text/plain": [
              "   id  duration protocol_type service flag  src_bytes  dst_bytes  land  \\\n",
              "0   1         0           tcp    http   SF        181       5450     0   \n",
              "1   2         0           tcp    http   SF        239        486     0   \n",
              "2   3         0           tcp    http   SF        235       1337     0   \n",
              "3   4         0           tcp    http   SF        219       1337     0   \n",
              "4   5         0           tcp    http   SF        217       2032     0   \n",
              "\n",
              "   wrong_fragment  urgent  ...  dst_host_srv_count  dst_host_same_srv_rate  \\\n",
              "0               0       0  ...                   9                     1.0   \n",
              "1               0       0  ...                  19                     1.0   \n",
              "2               0       0  ...                  29                     1.0   \n",
              "3               0       0  ...                  39                     1.0   \n",
              "4               0       0  ...                  49                     1.0   \n",
              "\n",
              "   dst_host_diff_srv_rate  dst_host_same_src_port_rate  \\\n",
              "0                     0.0                         0.11   \n",
              "1                     0.0                         0.05   \n",
              "2                     0.0                         0.03   \n",
              "3                     0.0                         0.03   \n",
              "4                     0.0                         0.02   \n",
              "\n",
              "   dst_host_srv_diff_host_rate  dst_host_serror_rate  \\\n",
              "0                          0.0                   0.0   \n",
              "1                          0.0                   0.0   \n",
              "2                          0.0                   0.0   \n",
              "3                          0.0                   0.0   \n",
              "4                          0.0                   0.0   \n",
              "\n",
              "   dst_host_srv_serror_rate  dst_host_rerror_rate  dst_host_srv_rerror_rate  \\\n",
              "0                       0.0                   0.0                       0.0   \n",
              "1                       0.0                   0.0                       0.0   \n",
              "2                       0.0                   0.0                       0.0   \n",
              "3                       0.0                   0.0                       0.0   \n",
              "4                       0.0                   0.0                       0.0   \n",
              "\n",
              "    label  \n",
              "0  normal  \n",
              "1  normal  \n",
              "2  normal  \n",
              "3  normal  \n",
              "4  normal  \n",
              "\n",
              "[5 rows x 43 columns]"
            ],
            "text/html": [
              "\n",
              "  <div id=\"df-d0504dd6-c403-4e8a-81d4-da41ea101801\">\n",
              "    <div class=\"colab-df-container\">\n",
              "      <div>\n",
              "<style scoped>\n",
              "    .dataframe tbody tr th:only-of-type {\n",
              "        vertical-align: middle;\n",
              "    }\n",
              "\n",
              "    .dataframe tbody tr th {\n",
              "        vertical-align: top;\n",
              "    }\n",
              "\n",
              "    .dataframe thead th {\n",
              "        text-align: right;\n",
              "    }\n",
              "</style>\n",
              "<table border=\"1\" class=\"dataframe\">\n",
              "  <thead>\n",
              "    <tr style=\"text-align: right;\">\n",
              "      <th></th>\n",
              "      <th>id</th>\n",
              "      <th>duration</th>\n",
              "      <th>protocol_type</th>\n",
              "      <th>service</th>\n",
              "      <th>flag</th>\n",
              "      <th>src_bytes</th>\n",
              "      <th>dst_bytes</th>\n",
              "      <th>land</th>\n",
              "      <th>wrong_fragment</th>\n",
              "      <th>urgent</th>\n",
              "      <th>...</th>\n",
              "      <th>dst_host_srv_count</th>\n",
              "      <th>dst_host_same_srv_rate</th>\n",
              "      <th>dst_host_diff_srv_rate</th>\n",
              "      <th>dst_host_same_src_port_rate</th>\n",
              "      <th>dst_host_srv_diff_host_rate</th>\n",
              "      <th>dst_host_serror_rate</th>\n",
              "      <th>dst_host_srv_serror_rate</th>\n",
              "      <th>dst_host_rerror_rate</th>\n",
              "      <th>dst_host_srv_rerror_rate</th>\n",
              "      <th>label</th>\n",
              "    </tr>\n",
              "  </thead>\n",
              "  <tbody>\n",
              "    <tr>\n",
              "      <th>0</th>\n",
              "      <td>1</td>\n",
              "      <td>0</td>\n",
              "      <td>tcp</td>\n",
              "      <td>http</td>\n",
              "      <td>SF</td>\n",
              "      <td>181</td>\n",
              "      <td>5450</td>\n",
              "      <td>0</td>\n",
              "      <td>0</td>\n",
              "      <td>0</td>\n",
              "      <td>...</td>\n",
              "      <td>9</td>\n",
              "      <td>1.0</td>\n",
              "      <td>0.0</td>\n",
              "      <td>0.11</td>\n",
              "      <td>0.0</td>\n",
              "      <td>0.0</td>\n",
              "      <td>0.0</td>\n",
              "      <td>0.0</td>\n",
              "      <td>0.0</td>\n",
              "      <td>normal</td>\n",
              "    </tr>\n",
              "    <tr>\n",
              "      <th>1</th>\n",
              "      <td>2</td>\n",
              "      <td>0</td>\n",
              "      <td>tcp</td>\n",
              "      <td>http</td>\n",
              "      <td>SF</td>\n",
              "      <td>239</td>\n",
              "      <td>486</td>\n",
              "      <td>0</td>\n",
              "      <td>0</td>\n",
              "      <td>0</td>\n",
              "      <td>...</td>\n",
              "      <td>19</td>\n",
              "      <td>1.0</td>\n",
              "      <td>0.0</td>\n",
              "      <td>0.05</td>\n",
              "      <td>0.0</td>\n",
              "      <td>0.0</td>\n",
              "      <td>0.0</td>\n",
              "      <td>0.0</td>\n",
              "      <td>0.0</td>\n",
              "      <td>normal</td>\n",
              "    </tr>\n",
              "    <tr>\n",
              "      <th>2</th>\n",
              "      <td>3</td>\n",
              "      <td>0</td>\n",
              "      <td>tcp</td>\n",
              "      <td>http</td>\n",
              "      <td>SF</td>\n",
              "      <td>235</td>\n",
              "      <td>1337</td>\n",
              "      <td>0</td>\n",
              "      <td>0</td>\n",
              "      <td>0</td>\n",
              "      <td>...</td>\n",
              "      <td>29</td>\n",
              "      <td>1.0</td>\n",
              "      <td>0.0</td>\n",
              "      <td>0.03</td>\n",
              "      <td>0.0</td>\n",
              "      <td>0.0</td>\n",
              "      <td>0.0</td>\n",
              "      <td>0.0</td>\n",
              "      <td>0.0</td>\n",
              "      <td>normal</td>\n",
              "    </tr>\n",
              "    <tr>\n",
              "      <th>3</th>\n",
              "      <td>4</td>\n",
              "      <td>0</td>\n",
              "      <td>tcp</td>\n",
              "      <td>http</td>\n",
              "      <td>SF</td>\n",
              "      <td>219</td>\n",
              "      <td>1337</td>\n",
              "      <td>0</td>\n",
              "      <td>0</td>\n",
              "      <td>0</td>\n",
              "      <td>...</td>\n",
              "      <td>39</td>\n",
              "      <td>1.0</td>\n",
              "      <td>0.0</td>\n",
              "      <td>0.03</td>\n",
              "      <td>0.0</td>\n",
              "      <td>0.0</td>\n",
              "      <td>0.0</td>\n",
              "      <td>0.0</td>\n",
              "      <td>0.0</td>\n",
              "      <td>normal</td>\n",
              "    </tr>\n",
              "    <tr>\n",
              "      <th>4</th>\n",
              "      <td>5</td>\n",
              "      <td>0</td>\n",
              "      <td>tcp</td>\n",
              "      <td>http</td>\n",
              "      <td>SF</td>\n",
              "      <td>217</td>\n",
              "      <td>2032</td>\n",
              "      <td>0</td>\n",
              "      <td>0</td>\n",
              "      <td>0</td>\n",
              "      <td>...</td>\n",
              "      <td>49</td>\n",
              "      <td>1.0</td>\n",
              "      <td>0.0</td>\n",
              "      <td>0.02</td>\n",
              "      <td>0.0</td>\n",
              "      <td>0.0</td>\n",
              "      <td>0.0</td>\n",
              "      <td>0.0</td>\n",
              "      <td>0.0</td>\n",
              "      <td>normal</td>\n",
              "    </tr>\n",
              "  </tbody>\n",
              "</table>\n",
              "<p>5 rows × 43 columns</p>\n",
              "</div>\n",
              "      <button class=\"colab-df-convert\" onclick=\"convertToInteractive('df-d0504dd6-c403-4e8a-81d4-da41ea101801')\"\n",
              "              title=\"Convert this dataframe to an interactive table.\"\n",
              "              style=\"display:none;\">\n",
              "        \n",
              "  <svg xmlns=\"http://www.w3.org/2000/svg\" height=\"24px\"viewBox=\"0 0 24 24\"\n",
              "       width=\"24px\">\n",
              "    <path d=\"M0 0h24v24H0V0z\" fill=\"none\"/>\n",
              "    <path d=\"M18.56 5.44l.94 2.06.94-2.06 2.06-.94-2.06-.94-.94-2.06-.94 2.06-2.06.94zm-11 1L8.5 8.5l.94-2.06 2.06-.94-2.06-.94L8.5 2.5l-.94 2.06-2.06.94zm10 10l.94 2.06.94-2.06 2.06-.94-2.06-.94-.94-2.06-.94 2.06-2.06.94z\"/><path d=\"M17.41 7.96l-1.37-1.37c-.4-.4-.92-.59-1.43-.59-.52 0-1.04.2-1.43.59L10.3 9.45l-7.72 7.72c-.78.78-.78 2.05 0 2.83L4 21.41c.39.39.9.59 1.41.59.51 0 1.02-.2 1.41-.59l7.78-7.78 2.81-2.81c.8-.78.8-2.07 0-2.86zM5.41 20L4 18.59l7.72-7.72 1.47 1.35L5.41 20z\"/>\n",
              "  </svg>\n",
              "      </button>\n",
              "      \n",
              "  <style>\n",
              "    .colab-df-container {\n",
              "      display:flex;\n",
              "      flex-wrap:wrap;\n",
              "      gap: 12px;\n",
              "    }\n",
              "\n",
              "    .colab-df-convert {\n",
              "      background-color: #E8F0FE;\n",
              "      border: none;\n",
              "      border-radius: 50%;\n",
              "      cursor: pointer;\n",
              "      display: none;\n",
              "      fill: #1967D2;\n",
              "      height: 32px;\n",
              "      padding: 0 0 0 0;\n",
              "      width: 32px;\n",
              "    }\n",
              "\n",
              "    .colab-df-convert:hover {\n",
              "      background-color: #E2EBFA;\n",
              "      box-shadow: 0px 1px 2px rgba(60, 64, 67, 0.3), 0px 1px 3px 1px rgba(60, 64, 67, 0.15);\n",
              "      fill: #174EA6;\n",
              "    }\n",
              "\n",
              "    [theme=dark] .colab-df-convert {\n",
              "      background-color: #3B4455;\n",
              "      fill: #D2E3FC;\n",
              "    }\n",
              "\n",
              "    [theme=dark] .colab-df-convert:hover {\n",
              "      background-color: #434B5C;\n",
              "      box-shadow: 0px 1px 3px 1px rgba(0, 0, 0, 0.15);\n",
              "      filter: drop-shadow(0px 1px 2px rgba(0, 0, 0, 0.3));\n",
              "      fill: #FFFFFF;\n",
              "    }\n",
              "  </style>\n",
              "\n",
              "      <script>\n",
              "        const buttonEl =\n",
              "          document.querySelector('#df-d0504dd6-c403-4e8a-81d4-da41ea101801 button.colab-df-convert');\n",
              "        buttonEl.style.display =\n",
              "          google.colab.kernel.accessAllowed ? 'block' : 'none';\n",
              "\n",
              "        async function convertToInteractive(key) {\n",
              "          const element = document.querySelector('#df-d0504dd6-c403-4e8a-81d4-da41ea101801');\n",
              "          const dataTable =\n",
              "            await google.colab.kernel.invokeFunction('convertToInteractive',\n",
              "                                                     [key], {});\n",
              "          if (!dataTable) return;\n",
              "\n",
              "          const docLinkHtml = 'Like what you see? Visit the ' +\n",
              "            '<a target=\"_blank\" href=https://colab.research.google.com/notebooks/data_table.ipynb>data table notebook</a>'\n",
              "            + ' to learn more about interactive tables.';\n",
              "          element.innerHTML = '';\n",
              "          dataTable['output_type'] = 'display_data';\n",
              "          await google.colab.output.renderOutput(dataTable, element);\n",
              "          const docLink = document.createElement('div');\n",
              "          docLink.innerHTML = docLinkHtml;\n",
              "          element.appendChild(docLink);\n",
              "        }\n",
              "      </script>\n",
              "    </div>\n",
              "  </div>\n",
              "  "
            ]
          },
          "metadata": {},
          "execution_count": 159
        }
      ],
      "source": [
        "data1.head()"
      ]
    },
    {
      "cell_type": "code",
      "execution_count": 160,
      "metadata": {
        "colab": {
          "base_uri": "https://localhost:8080/"
        },
        "id": "GOqzBrGRmo9T",
        "outputId": "6c0c87eb-1e3b-44ee-f41b-a3418fc8957b"
      },
      "outputs": [
        {
          "output_type": "stream",
          "name": "stdout",
          "text": [
            "Train data has 494020 rows & 43 columns\n"
          ]
        }
      ],
      "source": [
        "print(\"Train data has {} rows & {} columns\".format(data1.shape[0],data1.shape[1]))"
      ]
    },
    {
      "cell_type": "code",
      "execution_count": 161,
      "metadata": {
        "colab": {
          "base_uri": "https://localhost:8080/"
        },
        "id": "H9GuPIGPnZvn",
        "outputId": "353d2919-c689-4a24-f200-fc5c2a3d4dc8"
      },
      "outputs": [
        {
          "output_type": "execute_result",
          "data": {
            "text/plain": [
              "smurf              280790\n",
              "neptune            107201\n",
              "normal              97277\n",
              "back                 2203\n",
              "satan                1589\n",
              "ipsweep              1247\n",
              "portsweep            1040\n",
              "warezclient          1020\n",
              "teardrop              979\n",
              "pod                   264\n",
              "nmap                  231\n",
              "guess_passwd           53\n",
              "buffer_overflow        30\n",
              "land                   21\n",
              "warezmaster            20\n",
              "imap                   12\n",
              "rootkit                10\n",
              "loadmodule              9\n",
              "ftp_write               8\n",
              "multihop                7\n",
              "phf                     4\n",
              "perl                    3\n",
              "spy                     2\n",
              "Name: label, dtype: int64"
            ]
          },
          "metadata": {},
          "execution_count": 161
        }
      ],
      "source": [
        "data1['label'].value_counts()"
      ]
    },
    {
      "cell_type": "code",
      "execution_count": 162,
      "metadata": {
        "colab": {
          "base_uri": "https://localhost:8080/",
          "height": 961
        },
        "id": "94-za9NlNV7T",
        "outputId": "85eba972-b9fa-4f7f-f8f1-d142c65b0810"
      },
      "outputs": [
        {
          "output_type": "display_data",
          "data": {
            "text/plain": [
              "<Figure size 1440x1080 with 1 Axes>"
            ],
            "image/png": "[encoded data removed]"
          },
          "metadata": {
            "needs_background": "light"
          }
        }
      ],
      "source": [
        "plt.figure(figsize=(20,15))\n",
        "class_distribution = data1['label'].value_counts()\n",
        "class_distribution.plot(kind='bar')\n",
        "plt.xlabel('Label')\n",
        "plt.ylabel('Data points per Label')\n",
        "plt.title('Distribution of y in  data')\n",
        "plt.grid()\n",
        "plt.show()"
      ]
    },
    {
      "cell_type": "code",
      "execution_count": 163,
      "metadata": {
        "id": "uqxLTAskNn_7"
      },
      "outputs": [],
      "source": [
        "\n",
        "attacks_types = {\n",
        "    'normal': 'normal',\n",
        "'back': 'dos',\n",
        "'buffer_overflow': 'u2r',\n",
        "'ftp_write': 'r2l',\n",
        "'guess_passwd': 'r2l',\n",
        "'imap': 'r2l',\n",
        "'ipsweep': 'probe',\n",
        "'land': 'dos',\n",
        "'loadmodule': 'u2r',\n",
        "'multihop': 'r2l',\n",
        "'neptune': 'dos',\n",
        "'nmap': 'probe',\n",
        "'perl': 'u2r',\n",
        "'phf': 'r2l',\n",
        "'pod': 'dos',\n",
        "'portsweep': 'probe',\n",
        "'rootkit': 'u2r',\n",
        "'satan': 'probe',\n",
        "'smurf': 'dos',\n",
        "'spy': 'r2l',\n",
        "'teardrop': 'dos',\n",
        "'warezclient': 'r2l',\n",
        "'warezmaster': 'r2l',\n",
        "}"
      ]
    },
    {
      "cell_type": "code",
      "execution_count": 164,
      "metadata": {
        "id": "7lwHaENkNrJR"
      },
      "outputs": [],
      "source": [
        "\n",
        "data1['label'] = data1['label'].apply(lambda v : attacks_types[v])"
      ]
    },
    {
      "cell_type": "code",
      "execution_count": 165,
      "metadata": {
        "colab": {
          "base_uri": "https://localhost:8080/",
          "height": 299
        },
        "id": "VduzPPhlO0f2",
        "outputId": "5db431ef-d6b9-4692-cb88-5905acdb3329"
      },
      "outputs": [
        {
          "output_type": "execute_result",
          "data": {
            "text/plain": [
              "   id  duration protocol_type service flag  src_bytes  dst_bytes  land  \\\n",
              "0   1         0           tcp    http   SF        181       5450     0   \n",
              "1   2         0           tcp    http   SF        239        486     0   \n",
              "2   3         0           tcp    http   SF        235       1337     0   \n",
              "3   4         0           tcp    http   SF        219       1337     0   \n",
              "4   5         0           tcp    http   SF        217       2032     0   \n",
              "\n",
              "   wrong_fragment  urgent  ...  dst_host_srv_count  dst_host_same_srv_rate  \\\n",
              "0               0       0  ...                   9                     1.0   \n",
              "1               0       0  ...                  19                     1.0   \n",
              "2               0       0  ...                  29                     1.0   \n",
              "3               0       0  ...                  39                     1.0   \n",
              "4               0       0  ...                  49                     1.0   \n",
              "\n",
              "   dst_host_diff_srv_rate  dst_host_same_src_port_rate  \\\n",
              "0                     0.0                         0.11   \n",
              "1                     0.0                         0.05   \n",
              "2                     0.0                         0.03   \n",
              "3                     0.0                         0.03   \n",
              "4                     0.0                         0.02   \n",
              "\n",
              "   dst_host_srv_diff_host_rate  dst_host_serror_rate  \\\n",
              "0                          0.0                   0.0   \n",
              "1                          0.0                   0.0   \n",
              "2                          0.0                   0.0   \n",
              "3                          0.0                   0.0   \n",
              "4                          0.0                   0.0   \n",
              "\n",
              "   dst_host_srv_serror_rate  dst_host_rerror_rate  dst_host_srv_rerror_rate  \\\n",
              "0                       0.0                   0.0                       0.0   \n",
              "1                       0.0                   0.0                       0.0   \n",
              "2                       0.0                   0.0                       0.0   \n",
              "3                       0.0                   0.0                       0.0   \n",
              "4                       0.0                   0.0                       0.0   \n",
              "\n",
              "    label  \n",
              "0  normal  \n",
              "1  normal  \n",
              "2  normal  \n",
              "3  normal  \n",
              "4  normal  \n",
              "\n",
              "[5 rows x 43 columns]"
            ],
            "text/html": [
              "\n",
              "  <div id=\"df-a8baa2ab-5247-4089-a1c7-56cd4a35b119\">\n",
              "    <div class=\"colab-df-container\">\n",
              "      <div>\n",
              "<style scoped>\n",
              "    .dataframe tbody tr th:only-of-type {\n",
              "        vertical-align: middle;\n",
              "    }\n",
              "\n",
              "    .dataframe tbody tr th {\n",
              "        vertical-align: top;\n",
              "    }\n",
              "\n",
              "    .dataframe thead th {\n",
              "        text-align: right;\n",
              "    }\n",
              "</style>\n",
              "<table border=\"1\" class=\"dataframe\">\n",
              "  <thead>\n",
              "    <tr style=\"text-align: right;\">\n",
              "      <th></th>\n",
              "      <th>id</th>\n",
              "      <th>duration</th>\n",
              "      <th>protocol_type</th>\n",
              "      <th>service</th>\n",
              "      <th>flag</th>\n",
              "      <th>src_bytes</th>\n",
              "      <th>dst_bytes</th>\n",
              "      <th>land</th>\n",
              "      <th>wrong_fragment</th>\n",
              "      <th>urgent</th>\n",
              "      <th>...</th>\n",
              "      <th>dst_host_srv_count</th>\n",
              "      <th>dst_host_same_srv_rate</th>\n",
              "      <th>dst_host_diff_srv_rate</th>\n",
              "      <th>dst_host_same_src_port_rate</th>\n",
              "      <th>dst_host_srv_diff_host_rate</th>\n",
              "      <th>dst_host_serror_rate</th>\n",
              "      <th>dst_host_srv_serror_rate</th>\n",
              "      <th>dst_host_rerror_rate</th>\n",
              "      <th>dst_host_srv_rerror_rate</th>\n",
              "      <th>label</th>\n",
              "    </tr>\n",
              "  </thead>\n",
              "  <tbody>\n",
              "    <tr>\n",
              "      <th>0</th>\n",
              "      <td>1</td>\n",
              "      <td>0</td>\n",
              "      <td>tcp</td>\n",
              "      <td>http</td>\n",
              "      <td>SF</td>\n",
              "      <td>181</td>\n",
              "      <td>5450</td>\n",
              "      <td>0</td>\n",
              "      <td>0</td>\n",
              "      <td>0</td>\n",
              "      <td>...</td>\n",
              "      <td>9</td>\n",
              "      <td>1.0</td>\n",
              "      <td>0.0</td>\n",
              "      <td>0.11</td>\n",
              "      <td>0.0</td>\n",
              "      <td>0.0</td>\n",
              "      <td>0.0</td>\n",
              "      <td>0.0</td>\n",
              "      <td>0.0</td>\n",
              "      <td>normal</td>\n",
              "    </tr>\n",
              "    <tr>\n",
              "      <th>1</th>\n",
              "      <td>2</td>\n",
              "      <td>0</td>\n",
              "      <td>tcp</td>\n",
              "      <td>http</td>\n",
              "      <td>SF</td>\n",
              "      <td>239</td>\n",
              "      <td>486</td>\n",
              "      <td>0</td>\n",
              "      <td>0</td>\n",
              "      <td>0</td>\n",
              "      <td>...</td>\n",
              "      <td>19</td>\n",
              "      <td>1.0</td>\n",
              "      <td>0.0</td>\n",
              "      <td>0.05</td>\n",
              "      <td>0.0</td>\n",
              "      <td>0.0</td>\n",
              "      <td>0.0</td>\n",
              "      <td>0.0</td>\n",
              "      <td>0.0</td>\n",
              "      <td>normal</td>\n",
              "    </tr>\n",
              "    <tr>\n",
              "      <th>2</th>\n",
              "      <td>3</td>\n",
              "      <td>0</td>\n",
              "      <td>tcp</td>\n",
              "      <td>http</td>\n",
              "      <td>SF</td>\n",
              "      <td>235</td>\n",
              "      <td>1337</td>\n",
              "      <td>0</td>\n",
              "      <td>0</td>\n",
              "      <td>0</td>\n",
              "      <td>...</td>\n",
              "      <td>29</td>\n",
              "      <td>1.0</td>\n",
              "      <td>0.0</td>\n",
              "      <td>0.03</td>\n",
              "      <td>0.0</td>\n",
              "      <td>0.0</td>\n",
              "      <td>0.0</td>\n",
              "      <td>0.0</td>\n",
              "      <td>0.0</td>\n",
              "      <td>normal</td>\n",
              "    </tr>\n",
              "    <tr>\n",
              "      <th>3</th>\n",
              "      <td>4</td>\n",
              "      <td>0</td>\n",
              "      <td>tcp</td>\n",
              "      <td>http</td>\n",
              "      <td>SF</td>\n",
              "      <td>219</td>\n",
              "      <td>1337</td>\n",
              "      <td>0</td>\n",
              "      <td>0</td>\n",
              "      <td>0</td>\n",
              "      <td>...</td>\n",
              "      <td>39</td>\n",
              "      <td>1.0</td>\n",
              "      <td>0.0</td>\n",
              "      <td>0.03</td>\n",
              "      <td>0.0</td>\n",
              "      <td>0.0</td>\n",
              "      <td>0.0</td>\n",
              "      <td>0.0</td>\n",
              "      <td>0.0</td>\n",
              "      <td>normal</td>\n",
              "    </tr>\n",
              "    <tr>\n",
              "      <th>4</th>\n",
              "      <td>5</td>\n",
              "      <td>0</td>\n",
              "      <td>tcp</td>\n",
              "      <td>http</td>\n",
              "      <td>SF</td>\n",
              "      <td>217</td>\n",
              "      <td>2032</td>\n",
              "      <td>0</td>\n",
              "      <td>0</td>\n",
              "      <td>0</td>\n",
              "      <td>...</td>\n",
              "      <td>49</td>\n",
              "      <td>1.0</td>\n",
              "      <td>0.0</td>\n",
              "      <td>0.02</td>\n",
              "      <td>0.0</td>\n",
              "      <td>0.0</td>\n",
              "      <td>0.0</td>\n",
              "      <td>0.0</td>\n",
              "      <td>0.0</td>\n",
              "      <td>normal</td>\n",
              "    </tr>\n",
              "  </tbody>\n",
              "</table>\n",
              "<p>5 rows × 43 columns</p>\n",
              "</div>\n",
              "      <button class=\"colab-df-convert\" onclick=\"convertToInteractive('df-a8baa2ab-5247-4089-a1c7-56cd4a35b119')\"\n",
              "              title=\"Convert this dataframe to an interactive table.\"\n",
              "              style=\"display:none;\">\n",
              "        \n",
              "  <svg xmlns=\"http://www.w3.org/2000/svg\" height=\"24px\"viewBox=\"0 0 24 24\"\n",
              "       width=\"24px\">\n",
              "    <path d=\"M0 0h24v24H0V0z\" fill=\"none\"/>\n",
              "    <path d=\"M18.56 5.44l.94 2.06.94-2.06 2.06-.94-2.06-.94-.94-2.06-.94 2.06-2.06.94zm-11 1L8.5 8.5l.94-2.06 2.06-.94-2.06-.94L8.5 2.5l-.94 2.06-2.06.94zm10 10l.94 2.06.94-2.06 2.06-.94-2.06-.94-.94-2.06-.94 2.06-2.06.94z\"/><path d=\"M17.41 7.96l-1.37-1.37c-.4-.4-.92-.59-1.43-.59-.52 0-1.04.2-1.43.59L10.3 9.45l-7.72 7.72c-.78.78-.78 2.05 0 2.83L4 21.41c.39.39.9.59 1.41.59.51 0 1.02-.2 1.41-.59l7.78-7.78 2.81-2.81c.8-.78.8-2.07 0-2.86zM5.41 20L4 18.59l7.72-7.72 1.47 1.35L5.41 20z\"/>\n",
              "  </svg>\n",
              "      </button>\n",
              "      \n",
              "  <style>\n",
              "    .colab-df-container {\n",
              "      display:flex;\n",
              "      flex-wrap:wrap;\n",
              "      gap: 12px;\n",
              "    }\n",
              "\n",
              "    .colab-df-convert {\n",
              "      background-color: #E8F0FE;\n",
              "      border: none;\n",
              "      border-radius: 50%;\n",
              "      cursor: pointer;\n",
              "      display: none;\n",
              "      fill: #1967D2;\n",
              "      height: 32px;\n",
              "      padding: 0 0 0 0;\n",
              "      width: 32px;\n",
              "    }\n",
              "\n",
              "    .colab-df-convert:hover {\n",
              "      background-color: #E2EBFA;\n",
              "      box-shadow: 0px 1px 2px rgba(60, 64, 67, 0.3), 0px 1px 3px 1px rgba(60, 64, 67, 0.15);\n",
              "      fill: #174EA6;\n",
              "    }\n",
              "\n",
              "    [theme=dark] .colab-df-convert {\n",
              "      background-color: #3B4455;\n",
              "      fill: #D2E3FC;\n",
              "    }\n",
              "\n",
              "    [theme=dark] .colab-df-convert:hover {\n",
              "      background-color: #434B5C;\n",
              "      box-shadow: 0px 1px 3px 1px rgba(0, 0, 0, 0.15);\n",
              "      filter: drop-shadow(0px 1px 2px rgba(0, 0, 0, 0.3));\n",
              "      fill: #FFFFFF;\n",
              "    }\n",
              "  </style>\n",
              "\n",
              "      <script>\n",
              "        const buttonEl =\n",
              "          document.querySelector('#df-a8baa2ab-5247-4089-a1c7-56cd4a35b119 button.colab-df-convert');\n",
              "        buttonEl.style.display =\n",
              "          google.colab.kernel.accessAllowed ? 'block' : 'none';\n",
              "\n",
              "        async function convertToInteractive(key) {\n",
              "          const element = document.querySelector('#df-a8baa2ab-5247-4089-a1c7-56cd4a35b119');\n",
              "          const dataTable =\n",
              "            await google.colab.kernel.invokeFunction('convertToInteractive',\n",
              "                                                     [key], {});\n",
              "          if (!dataTable) return;\n",
              "\n",
              "          const docLinkHtml = 'Like what you see? Visit the ' +\n",
              "            '<a target=\"_blank\" href=https://colab.research.google.com/notebooks/data_table.ipynb>data table notebook</a>'\n",
              "            + ' to learn more about interactive tables.';\n",
              "          element.innerHTML = '';\n",
              "          dataTable['output_type'] = 'display_data';\n",
              "          await google.colab.output.renderOutput(dataTable, element);\n",
              "          const docLink = document.createElement('div');\n",
              "          docLink.innerHTML = docLinkHtml;\n",
              "          element.appendChild(docLink);\n",
              "        }\n",
              "      </script>\n",
              "    </div>\n",
              "  </div>\n",
              "  "
            ]
          },
          "metadata": {},
          "execution_count": 165
        }
      ],
      "source": [
        "data1.head()"
      ]
    },
    {
      "cell_type": "code",
      "execution_count": 166,
      "metadata": {
        "colab": {
          "base_uri": "https://localhost:8080/"
        },
        "id": "FhVExjn5O7Ya",
        "outputId": "915b0c7a-7dfd-4f15-bcf1-aa96416c99fd"
      },
      "outputs": [
        {
          "output_type": "execute_result",
          "data": {
            "text/plain": [
              "dos       391458\n",
              "normal     97277\n",
              "probe       4107\n",
              "r2l         1126\n",
              "u2r           52\n",
              "Name: label, dtype: int64"
            ]
          },
          "metadata": {},
          "execution_count": 166
        }
      ],
      "source": [
        "data1['label'].value_counts()"
      ]
    },
    {
      "cell_type": "code",
      "execution_count": 167,
      "metadata": {
        "colab": {
          "base_uri": "https://localhost:8080/",
          "height": 918
        },
        "id": "b5C9wtBhPW5-",
        "outputId": "2cb3473f-2381-48fb-8f21-c4bd93cda9ad"
      },
      "outputs": [
        {
          "output_type": "display_data",
          "data": {
            "text/plain": [
              "<Figure size 1440x1080 with 1 Axes>"
            ],
            "image/png": "[encoded data removed]"
          },
          "metadata": {
            "needs_background": "light"
          }
        }
      ],
      "source": [
        "plt.figure(figsize=(20,15))\n",
        "class_distribution = data1['label'].value_counts()\n",
        "class_distribution.plot(kind='bar')\n",
        "plt.xlabel('Label')\n",
        "plt.ylabel('Data points per Label')\n",
        "plt.title('Distribution of y in  data')\n",
        "plt.grid()\n",
        "plt.show()"
      ]
    },
    {
      "cell_type": "code",
      "execution_count": 168,
      "metadata": {
        "colab": {
          "base_uri": "https://localhost:8080/"
        },
        "id": "76PaFZIfrm0w",
        "outputId": "005a63c4-4f0f-4459-f878-1316b4d2a41b"
      },
      "outputs": [
        {
          "output_type": "stream",
          "name": "stdout",
          "text": [
            "data has 494020 rows & 43 columns\n"
          ]
        }
      ],
      "source": [
        "print(\"data has {} rows & {} columns\".format(data1.shape[0],data1.shape[1]))"
      ]
    },
    {
      "cell_type": "code",
      "execution_count": 169,
      "metadata": {
        "id": "HgGZnvQ1vq91"
      },
      "outputs": [],
      "source": [
        "#-------feature selection"
      ]
    },
    {
      "cell_type": "code",
      "execution_count": 170,
      "metadata": {
        "colab": {
          "base_uri": "https://localhost:8080/"
        },
        "id": "gPO0PRTmBuxJ",
        "outputId": "53c3b29d-2030-4bcb-c60e-ff4c219faf10"
      },
      "outputs": [
        {
          "output_type": "execute_result",
          "data": {
            "text/plain": [
              "id                               int64\n",
              "duration                         int64\n",
              "protocol_type                   object\n",
              "service                         object\n",
              "flag                            object\n",
              "src_bytes                        int64\n",
              "dst_bytes                        int64\n",
              "land                             int64\n",
              "wrong_fragment                   int64\n",
              "urgent                           int64\n",
              "hot                              int64\n",
              "num_failed_logins                int64\n",
              "logged_in                        int64\n",
              "lnum_compromised                 int64\n",
              "lroot_shell                      int64\n",
              "lsu_attempted                    int64\n",
              "lnum_root                        int64\n",
              "lnum_file_creations              int64\n",
              "lnum_shells                      int64\n",
              "lnum_access_files                int64\n",
              "lnum_outbound_cmds               int64\n",
              "is_host_login                    int64\n",
              "is_guest_login                   int64\n",
              "count                            int64\n",
              "srv_count                        int64\n",
              "serror_rate                    float64\n",
              "srv_serror_rate                float64\n",
              "rerror_rate                    float64\n",
              "srv_rerror_rate                float64\n",
              "same_srv_rate                  float64\n",
              "diff_srv_rate                  float64\n",
              "srv_diff_host_rate             float64\n",
              "dst_host_count                   int64\n",
              "dst_host_srv_count               int64\n",
              "dst_host_same_srv_rate         float64\n",
              "dst_host_diff_srv_rate         float64\n",
              "dst_host_same_src_port_rate    float64\n",
              "dst_host_srv_diff_host_rate    float64\n",
              "dst_host_serror_rate           float64\n",
              "dst_host_srv_serror_rate       float64\n",
              "dst_host_rerror_rate           float64\n",
              "dst_host_srv_rerror_rate       float64\n",
              "label                           object\n",
              "dtype: object"
            ]
          },
          "metadata": {},
          "execution_count": 170
        }
      ],
      "source": [
        "data1.dtypes"
      ]
    },
    {
      "cell_type": "code",
      "execution_count": 171,
      "metadata": {
        "id": "RGjenghHrr1P"
      },
      "outputs": [],
      "source": [
        "from sklearn.preprocessing import StandardScaler\n",
        "scaler = StandardScaler()\n",
        "\n",
        "# extract numerical attributes and scale it to have zero mean and unit variance  \n",
        "cols = data1.select_dtypes(include=['float64','int64']).columns\n",
        "sc_data = scaler.fit_transform(data1.select_dtypes(include=['float64','int64']))\n",
        "\n",
        "# turn the result back to a dataframe\n",
        "sc_dataframe1 = pd.DataFrame(sc_data, columns = cols)"
      ]
    },
    {
      "cell_type": "code",
      "execution_count": 172,
      "metadata": {
        "id": "Q2d_hRr6sI89"
      },
      "outputs": [],
      "source": [
        "from sklearn.preprocessing import LabelEncoder\n",
        "encoder = LabelEncoder()\n",
        "\n",
        "# extract categorical attributes from data sets \n",
        "cat_data1 = data1.select_dtypes(include=['object']).copy()\n",
        "\n",
        "# encode the categorical attributes\n",
        "en_data1 = cat_data1.apply(encoder.fit_transform)\n"
      ]
    },
    {
      "cell_type": "code",
      "execution_count": 173,
      "metadata": {
        "colab": {
          "base_uri": "https://localhost:8080/"
        },
        "id": "N7TKXESatJc9",
        "outputId": "5c141b6f-dd0a-4f50-a088-2bd220827a93"
      },
      "outputs": [
        {
          "output_type": "execute_result",
          "data": {
            "text/plain": [
              "(494020, 43)"
            ]
          },
          "metadata": {},
          "execution_count": 173
        }
      ],
      "source": [
        "data1_df = pd.concat([sc_dataframe1,en_data1],axis=1)\n",
        "data1_df.shape"
      ]
    },
    {
      "cell_type": "code",
      "execution_count": 174,
      "metadata": {
        "colab": {
          "base_uri": "https://localhost:8080/",
          "height": 480
        },
        "id": "oC9v6Ao94QdT",
        "outputId": "cc7c7549-b13d-413a-86c5-a6d20fe6b5e5"
      },
      "outputs": [
        {
          "output_type": "execute_result",
          "data": {
            "text/plain": [
              "                 id      duration     src_bytes     dst_bytes          land  \\\n",
              "count  4.940200e+05  4.940200e+05  4.940200e+05  4.940200e+05  4.940200e+05   \n",
              "mean   3.313814e-17 -3.720849e-17 -4.818263e-19  1.369250e-17  7.479094e-18   \n",
              "std    1.000001e+00  1.000001e+00  1.000001e+00  1.000001e+00  1.000001e+00   \n",
              "min   -1.732047e+00 -6.779179e-02 -3.061688e-03 -2.628725e-02 -6.673424e-03   \n",
              "25%   -8.660237e-01 -6.779179e-02 -3.016152e-03 -2.628725e-02 -6.673424e-03   \n",
              "50%    0.000000e+00 -6.779179e-02 -2.535489e-03 -2.628725e-02 -6.673424e-03   \n",
              "75%    8.660237e-01 -6.779179e-02 -2.017384e-03 -2.628725e-02 -6.673424e-03   \n",
              "max    1.732047e+00  8.234731e+01  7.016393e+02  1.560109e+02  1.498481e+02   \n",
              "\n",
              "       wrong_fragment        urgent           hot  num_failed_logins  \\\n",
              "count    4.940200e+05  4.940200e+05  4.940200e+05       4.940200e+05   \n",
              "mean     3.428877e-17 -2.443291e-18 -2.876575e-17       5.968893e-18   \n",
              "std      1.000001e+00  1.000001e+00  1.000001e+00       1.000001e+00   \n",
              "min     -4.772023e-02 -2.571471e-03 -4.413596e-02      -9.782195e-03   \n",
              "25%     -4.772023e-02 -2.571471e-03 -4.413596e-02      -9.782195e-03   \n",
              "50%     -4.772023e-02 -2.571471e-03 -4.413596e-02      -9.782195e-03   \n",
              "75%     -4.772023e-02 -2.571471e-03 -4.413596e-02      -9.782195e-03   \n",
              "max      2.220661e+01  5.444366e+02  3.831400e+01       3.221635e+02   \n",
              "\n",
              "          logged_in  ...  dst_host_same_src_port_rate  \\\n",
              "count  4.940200e+05  ...                 4.940200e+05   \n",
              "mean  -9.941442e-17  ...                 2.107954e-16   \n",
              "std    1.000001e+00  ...                 1.000001e+00   \n",
              "min   -4.171889e-01  ...                -1.250624e+00   \n",
              "25%   -4.171889e-01  ...                -1.250624e+00   \n",
              "50%   -4.171889e-01  ...                 8.270455e-01   \n",
              "75%   -4.171889e-01  ...                 8.270455e-01   \n",
              "max    2.396996e+00  ...                 8.270455e-01   \n",
              "\n",
              "       dst_host_srv_diff_host_rate  dst_host_serror_rate  \\\n",
              "count                 4.940200e+05          4.940200e+05   \n",
              "mean                  8.284535e-18         -2.485361e-17   \n",
              "std                   1.000001e+00          1.000001e+00   \n",
              "min                  -1.586295e-01         -4.644182e-01   \n",
              "25%                  -1.586295e-01         -4.644182e-01   \n",
              "50%                  -1.586295e-01         -4.644182e-01   \n",
              "75%                  -1.586295e-01         -4.644182e-01   \n",
              "max                   2.357581e+01          2.163060e+00   \n",
              "\n",
              "       dst_host_srv_serror_rate  dst_host_rerror_rate  \\\n",
              "count              4.940200e+05          4.940200e+05   \n",
              "mean              -1.896238e-16          2.319670e-16   \n",
              "std                1.000001e+00          1.000001e+00   \n",
              "min               -4.632030e-01         -2.520398e-01   \n",
              "25%               -4.632030e-01         -2.520398e-01   \n",
              "50%               -4.632030e-01         -2.520398e-01   \n",
              "75%               -4.632030e-01         -2.520398e-01   \n",
              "max                2.162025e+00          4.084671e+00   \n",
              "\n",
              "       dst_host_srv_rerror_rate  protocol_type        service           flag  \\\n",
              "count              4.940200e+05  494020.000000  494020.000000  494020.000000   \n",
              "mean               1.146027e-16       0.467131      23.408896       7.842444   \n",
              "std                1.000001e+00       0.575606      13.538346       2.250855   \n",
              "min               -2.494643e-01       0.000000       0.000000       0.000000   \n",
              "25%               -2.494643e-01       0.000000      14.000000       9.000000   \n",
              "50%               -2.494643e-01       0.000000      14.000000       9.000000   \n",
              "75%               -2.494643e-01       1.000000      42.000000       9.000000   \n",
              "max                4.095711e+00       2.000000      65.000000      10.000000   \n",
              "\n",
              "               label  \n",
              "count  494020.000000  \n",
              "mean        0.220795  \n",
              "std         0.451232  \n",
              "min         0.000000  \n",
              "25%         0.000000  \n",
              "50%         0.000000  \n",
              "75%         0.000000  \n",
              "max         4.000000  \n",
              "\n",
              "[8 rows x 43 columns]"
            ],
            "text/html": [
              "\n",
              "  <div id=\"df-94ff7c86-e457-4a84-8be1-5793d7f91e3c\">\n",
              "    <div class=\"colab-df-container\">\n",
              "      <div>\n",
              "<style scoped>\n",
              "    .dataframe tbody tr th:only-of-type {\n",
              "        vertical-align: middle;\n",
              "    }\n",
              "\n",
              "    .dataframe tbody tr th {\n",
              "        vertical-align: top;\n",
              "    }\n",
              "\n",
              "    .dataframe thead th {\n",
              "        text-align: right;\n",
              "    }\n",
              "</style>\n",
              "<table border=\"1\" class=\"dataframe\">\n",
              "  <thead>\n",
              "    <tr style=\"text-align: right;\">\n",
              "      <th></th>\n",
              "      <th>id</th>\n",
              "      <th>duration</th>\n",
              "      <th>src_bytes</th>\n",
              "      <th>dst_bytes</th>\n",
              "      <th>land</th>\n",
              "      <th>wrong_fragment</th>\n",
              "      <th>urgent</th>\n",
              "      <th>hot</th>\n",
              "      <th>num_failed_logins</th>\n",
              "      <th>logged_in</th>\n",
              "      <th>...</th>\n",
              "      <th>dst_host_same_src_port_rate</th>\n",
              "      <th>dst_host_srv_diff_host_rate</th>\n",
              "      <th>dst_host_serror_rate</th>\n",
              "      <th>dst_host_srv_serror_rate</th>\n",
              "      <th>dst_host_rerror_rate</th>\n",
              "      <th>dst_host_srv_rerror_rate</th>\n",
              "      <th>protocol_type</th>\n",
              "      <th>service</th>\n",
              "      <th>flag</th>\n",
              "      <th>label</th>\n",
              "    </tr>\n",
              "  </thead>\n",
              "  <tbody>\n",
              "    <tr>\n",
              "      <th>count</th>\n",
              "      <td>4.940200e+05</td>\n",
              "      <td>4.940200e+05</td>\n",
              "      <td>4.940200e+05</td>\n",
              "      <td>4.940200e+05</td>\n",
              "      <td>4.940200e+05</td>\n",
              "      <td>4.940200e+05</td>\n",
              "      <td>4.940200e+05</td>\n",
              "      <td>4.940200e+05</td>\n",
              "      <td>4.940200e+05</td>\n",
              "      <td>4.940200e+05</td>\n",
              "      <td>...</td>\n",
              "      <td>4.940200e+05</td>\n",
              "      <td>4.940200e+05</td>\n",
              "      <td>4.940200e+05</td>\n",
              "      <td>4.940200e+05</td>\n",
              "      <td>4.940200e+05</td>\n",
              "      <td>4.940200e+05</td>\n",
              "      <td>494020.000000</td>\n",
              "      <td>494020.000000</td>\n",
              "      <td>494020.000000</td>\n",
              "      <td>494020.000000</td>\n",
              "    </tr>\n",
              "    <tr>\n",
              "      <th>mean</th>\n",
              "      <td>3.313814e-17</td>\n",
              "      <td>-3.720849e-17</td>\n",
              "      <td>-4.818263e-19</td>\n",
              "      <td>1.369250e-17</td>\n",
              "      <td>7.479094e-18</td>\n",
              "      <td>3.428877e-17</td>\n",
              "      <td>-2.443291e-18</td>\n",
              "      <td>-2.876575e-17</td>\n",
              "      <td>5.968893e-18</td>\n",
              "      <td>-9.941442e-17</td>\n",
              "      <td>...</td>\n",
              "      <td>2.107954e-16</td>\n",
              "      <td>8.284535e-18</td>\n",
              "      <td>-2.485361e-17</td>\n",
              "      <td>-1.896238e-16</td>\n",
              "      <td>2.319670e-16</td>\n",
              "      <td>1.146027e-16</td>\n",
              "      <td>0.467131</td>\n",
              "      <td>23.408896</td>\n",
              "      <td>7.842444</td>\n",
              "      <td>0.220795</td>\n",
              "    </tr>\n",
              "    <tr>\n",
              "      <th>std</th>\n",
              "      <td>1.000001e+00</td>\n",
              "      <td>1.000001e+00</td>\n",
              "      <td>1.000001e+00</td>\n",
              "      <td>1.000001e+00</td>\n",
              "      <td>1.000001e+00</td>\n",
              "      <td>1.000001e+00</td>\n",
              "      <td>1.000001e+00</td>\n",
              "      <td>1.000001e+00</td>\n",
              "      <td>1.000001e+00</td>\n",
              "      <td>1.000001e+00</td>\n",
              "      <td>...</td>\n",
              "      <td>1.000001e+00</td>\n",
              "      <td>1.000001e+00</td>\n",
              "      <td>1.000001e+00</td>\n",
              "      <td>1.000001e+00</td>\n",
              "      <td>1.000001e+00</td>\n",
              "      <td>1.000001e+00</td>\n",
              "      <td>0.575606</td>\n",
              "      <td>13.538346</td>\n",
              "      <td>2.250855</td>\n",
              "      <td>0.451232</td>\n",
              "    </tr>\n",
              "    <tr>\n",
              "      <th>min</th>\n",
              "      <td>-1.732047e+00</td>\n",
              "      <td>-6.779179e-02</td>\n",
              "      <td>-3.061688e-03</td>\n",
              "      <td>-2.628725e-02</td>\n",
              "      <td>-6.673424e-03</td>\n",
              "      <td>-4.772023e-02</td>\n",
              "      <td>-2.571471e-03</td>\n",
              "      <td>-4.413596e-02</td>\n",
              "      <td>-9.782195e-03</td>\n",
              "      <td>-4.171889e-01</td>\n",
              "      <td>...</td>\n",
              "      <td>-1.250624e+00</td>\n",
              "      <td>-1.586295e-01</td>\n",
              "      <td>-4.644182e-01</td>\n",
              "      <td>-4.632030e-01</td>\n",
              "      <td>-2.520398e-01</td>\n",
              "      <td>-2.494643e-01</td>\n",
              "      <td>0.000000</td>\n",
              "      <td>0.000000</td>\n",
              "      <td>0.000000</td>\n",
              "      <td>0.000000</td>\n",
              "    </tr>\n",
              "    <tr>\n",
              "      <th>25%</th>\n",
              "      <td>-8.660237e-01</td>\n",
              "      <td>-6.779179e-02</td>\n",
              "      <td>-3.016152e-03</td>\n",
              "      <td>-2.628725e-02</td>\n",
              "      <td>-6.673424e-03</td>\n",
              "      <td>-4.772023e-02</td>\n",
              "      <td>-2.571471e-03</td>\n",
              "      <td>-4.413596e-02</td>\n",
              "      <td>-9.782195e-03</td>\n",
              "      <td>-4.171889e-01</td>\n",
              "      <td>...</td>\n",
              "      <td>-1.250624e+00</td>\n",
              "      <td>-1.586295e-01</td>\n",
              "      <td>-4.644182e-01</td>\n",
              "      <td>-4.632030e-01</td>\n",
              "      <td>-2.520398e-01</td>\n",
              "      <td>-2.494643e-01</td>\n",
              "      <td>0.000000</td>\n",
              "      <td>14.000000</td>\n",
              "      <td>9.000000</td>\n",
              "      <td>0.000000</td>\n",
              "    </tr>\n",
              "    <tr>\n",
              "      <th>50%</th>\n",
              "      <td>0.000000e+00</td>\n",
              "      <td>-6.779179e-02</td>\n",
              "      <td>-2.535489e-03</td>\n",
              "      <td>-2.628725e-02</td>\n",
              "      <td>-6.673424e-03</td>\n",
              "      <td>-4.772023e-02</td>\n",
              "      <td>-2.571471e-03</td>\n",
              "      <td>-4.413596e-02</td>\n",
              "      <td>-9.782195e-03</td>\n",
              "      <td>-4.171889e-01</td>\n",
              "      <td>...</td>\n",
              "      <td>8.270455e-01</td>\n",
              "      <td>-1.586295e-01</td>\n",
              "      <td>-4.644182e-01</td>\n",
              "      <td>-4.632030e-01</td>\n",
              "      <td>-2.520398e-01</td>\n",
              "      <td>-2.494643e-01</td>\n",
              "      <td>0.000000</td>\n",
              "      <td>14.000000</td>\n",
              "      <td>9.000000</td>\n",
              "      <td>0.000000</td>\n",
              "    </tr>\n",
              "    <tr>\n",
              "      <th>75%</th>\n",
              "      <td>8.660237e-01</td>\n",
              "      <td>-6.779179e-02</td>\n",
              "      <td>-2.017384e-03</td>\n",
              "      <td>-2.628725e-02</td>\n",
              "      <td>-6.673424e-03</td>\n",
              "      <td>-4.772023e-02</td>\n",
              "      <td>-2.571471e-03</td>\n",
              "      <td>-4.413596e-02</td>\n",
              "      <td>-9.782195e-03</td>\n",
              "      <td>-4.171889e-01</td>\n",
              "      <td>...</td>\n",
              "      <td>8.270455e-01</td>\n",
              "      <td>-1.586295e-01</td>\n",
              "      <td>-4.644182e-01</td>\n",
              "      <td>-4.632030e-01</td>\n",
              "      <td>-2.520398e-01</td>\n",
              "      <td>-2.494643e-01</td>\n",
              "      <td>1.000000</td>\n",
              "      <td>42.000000</td>\n",
              "      <td>9.000000</td>\n",
              "      <td>0.000000</td>\n",
              "    </tr>\n",
              "    <tr>\n",
              "      <th>max</th>\n",
              "      <td>1.732047e+00</td>\n",
              "      <td>8.234731e+01</td>\n",
              "      <td>7.016393e+02</td>\n",
              "      <td>1.560109e+02</td>\n",
              "      <td>1.498481e+02</td>\n",
              "      <td>2.220661e+01</td>\n",
              "      <td>5.444366e+02</td>\n",
              "      <td>3.831400e+01</td>\n",
              "      <td>3.221635e+02</td>\n",
              "      <td>2.396996e+00</td>\n",
              "      <td>...</td>\n",
              "      <td>8.270455e-01</td>\n",
              "      <td>2.357581e+01</td>\n",
              "      <td>2.163060e+00</td>\n",
              "      <td>2.162025e+00</td>\n",
              "      <td>4.084671e+00</td>\n",
              "      <td>4.095711e+00</td>\n",
              "      <td>2.000000</td>\n",
              "      <td>65.000000</td>\n",
              "      <td>10.000000</td>\n",
              "      <td>4.000000</td>\n",
              "    </tr>\n",
              "  </tbody>\n",
              "</table>\n",
              "<p>8 rows × 43 columns</p>\n",
              "</div>\n",
              "      <button class=\"colab-df-convert\" onclick=\"convertToInteractive('df-94ff7c86-e457-4a84-8be1-5793d7f91e3c')\"\n",
              "              title=\"Convert this dataframe to an interactive table.\"\n",
              "              style=\"display:none;\">\n",
              "        \n",
              "  <svg xmlns=\"http://www.w3.org/2000/svg\" height=\"24px\"viewBox=\"0 0 24 24\"\n",
              "       width=\"24px\">\n",
              "    <path d=\"M0 0h24v24H0V0z\" fill=\"none\"/>\n",
              "    <path d=\"M18.56 5.44l.94 2.06.94-2.06 2.06-.94-2.06-.94-.94-2.06-.94 2.06-2.06.94zm-11 1L8.5 8.5l.94-2.06 2.06-.94-2.06-.94L8.5 2.5l-.94 2.06-2.06.94zm10 10l.94 2.06.94-2.06 2.06-.94-2.06-.94-.94-2.06-.94 2.06-2.06.94z\"/><path d=\"M17.41 7.96l-1.37-1.37c-.4-.4-.92-.59-1.43-.59-.52 0-1.04.2-1.43.59L10.3 9.45l-7.72 7.72c-.78.78-.78 2.05 0 2.83L4 21.41c.39.39.9.59 1.41.59.51 0 1.02-.2 1.41-.59l7.78-7.78 2.81-2.81c.8-.78.8-2.07 0-2.86zM5.41 20L4 18.59l7.72-7.72 1.47 1.35L5.41 20z\"/>\n",
              "  </svg>\n",
              "      </button>\n",
              "      \n",
              "  <style>\n",
              "    .colab-df-container {\n",
              "      display:flex;\n",
              "      flex-wrap:wrap;\n",
              "      gap: 12px;\n",
              "    }\n",
              "\n",
              "    .colab-df-convert {\n",
              "      background-color: #E8F0FE;\n",
              "      border: none;\n",
              "      border-radius: 50%;\n",
              "      cursor: pointer;\n",
              "      display: none;\n",
              "      fill: #1967D2;\n",
              "      height: 32px;\n",
              "      padding: 0 0 0 0;\n",
              "      width: 32px;\n",
              "    }\n",
              "\n",
              "    .colab-df-convert:hover {\n",
              "      background-color: #E2EBFA;\n",
              "      box-shadow: 0px 1px 2px rgba(60, 64, 67, 0.3), 0px 1px 3px 1px rgba(60, 64, 67, 0.15);\n",
              "      fill: #174EA6;\n",
              "    }\n",
              "\n",
              "    [theme=dark] .colab-df-convert {\n",
              "      background-color: #3B4455;\n",
              "      fill: #D2E3FC;\n",
              "    }\n",
              "\n",
              "    [theme=dark] .colab-df-convert:hover {\n",
              "      background-color: #434B5C;\n",
              "      box-shadow: 0px 1px 3px 1px rgba(0, 0, 0, 0.15);\n",
              "      filter: drop-shadow(0px 1px 2px rgba(0, 0, 0, 0.3));\n",
              "      fill: #FFFFFF;\n",
              "    }\n",
              "  </style>\n",
              "\n",
              "      <script>\n",
              "        const buttonEl =\n",
              "          document.querySelector('#df-94ff7c86-e457-4a84-8be1-5793d7f91e3c button.colab-df-convert');\n",
              "        buttonEl.style.display =\n",
              "          google.colab.kernel.accessAllowed ? 'block' : 'none';\n",
              "\n",
              "        async function convertToInteractive(key) {\n",
              "          const element = document.querySelector('#df-94ff7c86-e457-4a84-8be1-5793d7f91e3c');\n",
              "          const dataTable =\n",
              "            await google.colab.kernel.invokeFunction('convertToInteractive',\n",
              "                                                     [key], {});\n",
              "          if (!dataTable) return;\n",
              "\n",
              "          const docLinkHtml = 'Like what you see? Visit the ' +\n",
              "            '<a target=\"_blank\" href=https://colab.research.google.com/notebooks/data_table.ipynb>data table notebook</a>'\n",
              "            + ' to learn more about interactive tables.';\n",
              "          element.innerHTML = '';\n",
              "          dataTable['output_type'] = 'display_data';\n",
              "          await google.colab.output.renderOutput(dataTable, element);\n",
              "          const docLink = document.createElement('div');\n",
              "          docLink.innerHTML = docLinkHtml;\n",
              "          element.appendChild(docLink);\n",
              "        }\n",
              "      </script>\n",
              "    </div>\n",
              "  </div>\n",
              "  "
            ]
          },
          "metadata": {},
          "execution_count": 174
        }
      ],
      "source": [
        "data1_df.describe()"
      ]
    },
    {
      "cell_type": "code",
      "execution_count": 175,
      "metadata": {
        "colab": {
          "base_uri": "https://localhost:8080/",
          "height": 299
        },
        "id": "c1Whab2j4hp_",
        "outputId": "210c7fd9-4512-475a-e2d9-45b16f936080"
      },
      "outputs": [
        {
          "output_type": "execute_result",
          "data": {
            "text/plain": [
              "         id  duration  src_bytes  dst_bytes      land  wrong_fragment  \\\n",
              "0 -1.732047 -0.067792  -0.002879   0.138664 -0.006673        -0.04772   \n",
              "1 -1.732040 -0.067792  -0.002820  -0.011578 -0.006673        -0.04772   \n",
              "2 -1.732033 -0.067792  -0.002824   0.014179 -0.006673        -0.04772   \n",
              "3 -1.732026 -0.067792  -0.002840   0.014179 -0.006673        -0.04772   \n",
              "4 -1.732019 -0.067792  -0.002842   0.035214 -0.006673        -0.04772   \n",
              "\n",
              "     urgent       hot  num_failed_logins  logged_in  ...  \\\n",
              "0 -0.002571 -0.044136          -0.009782   2.396996  ...   \n",
              "1 -0.002571 -0.044136          -0.009782   2.396996  ...   \n",
              "2 -0.002571 -0.044136          -0.009782   2.396996  ...   \n",
              "3 -0.002571 -0.044136          -0.009782   2.396996  ...   \n",
              "4 -0.002571 -0.044136          -0.009782   2.396996  ...   \n",
              "\n",
              "   dst_host_same_src_port_rate  dst_host_srv_diff_host_rate  \\\n",
              "0                    -1.022080                    -0.158629   \n",
              "1                    -1.146741                    -0.158629   \n",
              "2                    -1.188294                    -0.158629   \n",
              "3                    -1.188294                    -0.158629   \n",
              "4                    -1.209071                    -0.158629   \n",
              "\n",
              "   dst_host_serror_rate  dst_host_srv_serror_rate  dst_host_rerror_rate  \\\n",
              "0             -0.464418                 -0.463203              -0.25204   \n",
              "1             -0.464418                 -0.463203              -0.25204   \n",
              "2             -0.464418                 -0.463203              -0.25204   \n",
              "3             -0.464418                 -0.463203              -0.25204   \n",
              "4             -0.464418                 -0.463203              -0.25204   \n",
              "\n",
              "   dst_host_srv_rerror_rate  protocol_type  service  flag  label  \n",
              "0                 -0.249464              1       22     9      1  \n",
              "1                 -0.249464              1       22     9      1  \n",
              "2                 -0.249464              1       22     9      1  \n",
              "3                 -0.249464              1       22     9      1  \n",
              "4                 -0.249464              1       22     9      1  \n",
              "\n",
              "[5 rows x 43 columns]"
            ],
            "text/html": [
              "\n",
              "  <div id=\"df-3b52e94f-c12e-4713-8b10-d4f0a5bac975\">\n",
              "    <div class=\"colab-df-container\">\n",
              "      <div>\n",
              "<style scoped>\n",
              "    .dataframe tbody tr th:only-of-type {\n",
              "        vertical-align: middle;\n",
              "    }\n",
              "\n",
              "    .dataframe tbody tr th {\n",
              "        vertical-align: top;\n",
              "    }\n",
              "\n",
              "    .dataframe thead th {\n",
              "        text-align: right;\n",
              "    }\n",
              "</style>\n",
              "<table border=\"1\" class=\"dataframe\">\n",
              "  <thead>\n",
              "    <tr style=\"text-align: right;\">\n",
              "      <th></th>\n",
              "      <th>id</th>\n",
              "      <th>duration</th>\n",
              "      <th>src_bytes</th>\n",
              "      <th>dst_bytes</th>\n",
              "      <th>land</th>\n",
              "      <th>wrong_fragment</th>\n",
              "      <th>urgent</th>\n",
              "      <th>hot</th>\n",
              "      <th>num_failed_logins</th>\n",
              "      <th>logged_in</th>\n",
              "      <th>...</th>\n",
              "      <th>dst_host_same_src_port_rate</th>\n",
              "      <th>dst_host_srv_diff_host_rate</th>\n",
              "      <th>dst_host_serror_rate</th>\n",
              "      <th>dst_host_srv_serror_rate</th>\n",
              "      <th>dst_host_rerror_rate</th>\n",
              "      <th>dst_host_srv_rerror_rate</th>\n",
              "      <th>protocol_type</th>\n",
              "      <th>service</th>\n",
              "      <th>flag</th>\n",
              "      <th>label</th>\n",
              "    </tr>\n",
              "  </thead>\n",
              "  <tbody>\n",
              "    <tr>\n",
              "      <th>0</th>\n",
              "      <td>-1.732047</td>\n",
              "      <td>-0.067792</td>\n",
              "      <td>-0.002879</td>\n",
              "      <td>0.138664</td>\n",
              "      <td>-0.006673</td>\n",
              "      <td>-0.04772</td>\n",
              "      <td>-0.002571</td>\n",
              "      <td>-0.044136</td>\n",
              "      <td>-0.009782</td>\n",
              "      <td>2.396996</td>\n",
              "      <td>...</td>\n",
              "      <td>-1.022080</td>\n",
              "      <td>-0.158629</td>\n",
              "      <td>-0.464418</td>\n",
              "      <td>-0.463203</td>\n",
              "      <td>-0.25204</td>\n",
              "      <td>-0.249464</td>\n",
              "      <td>1</td>\n",
              "      <td>22</td>\n",
              "      <td>9</td>\n",
              "      <td>1</td>\n",
              "    </tr>\n",
              "    <tr>\n",
              "      <th>1</th>\n",
              "      <td>-1.732040</td>\n",
              "      <td>-0.067792</td>\n",
              "      <td>-0.002820</td>\n",
              "      <td>-0.011578</td>\n",
              "      <td>-0.006673</td>\n",
              "      <td>-0.04772</td>\n",
              "      <td>-0.002571</td>\n",
              "      <td>-0.044136</td>\n",
              "      <td>-0.009782</td>\n",
              "      <td>2.396996</td>\n",
              "      <td>...</td>\n",
              "      <td>-1.146741</td>\n",
              "      <td>-0.158629</td>\n",
              "      <td>-0.464418</td>\n",
              "      <td>-0.463203</td>\n",
              "      <td>-0.25204</td>\n",
              "      <td>-0.249464</td>\n",
              "      <td>1</td>\n",
              "      <td>22</td>\n",
              "      <td>9</td>\n",
              "      <td>1</td>\n",
              "    </tr>\n",
              "    <tr>\n",
              "      <th>2</th>\n",
              "      <td>-1.732033</td>\n",
              "      <td>-0.067792</td>\n",
              "      <td>-0.002824</td>\n",
              "      <td>0.014179</td>\n",
              "      <td>-0.006673</td>\n",
              "      <td>-0.04772</td>\n",
              "      <td>-0.002571</td>\n",
              "      <td>-0.044136</td>\n",
              "      <td>-0.009782</td>\n",
              "      <td>2.396996</td>\n",
              "      <td>...</td>\n",
              "      <td>-1.188294</td>\n",
              "      <td>-0.158629</td>\n",
              "      <td>-0.464418</td>\n",
              "      <td>-0.463203</td>\n",
              "      <td>-0.25204</td>\n",
              "      <td>-0.249464</td>\n",
              "      <td>1</td>\n",
              "      <td>22</td>\n",
              "      <td>9</td>\n",
              "      <td>1</td>\n",
              "    </tr>\n",
              "    <tr>\n",
              "      <th>3</th>\n",
              "      <td>-1.732026</td>\n",
              "      <td>-0.067792</td>\n",
              "      <td>-0.002840</td>\n",
              "      <td>0.014179</td>\n",
              "      <td>-0.006673</td>\n",
              "      <td>-0.04772</td>\n",
              "      <td>-0.002571</td>\n",
              "      <td>-0.044136</td>\n",
              "      <td>-0.009782</td>\n",
              "      <td>2.396996</td>\n",
              "      <td>...</td>\n",
              "      <td>-1.188294</td>\n",
              "      <td>-0.158629</td>\n",
              "      <td>-0.464418</td>\n",
              "      <td>-0.463203</td>\n",
              "      <td>-0.25204</td>\n",
              "      <td>-0.249464</td>\n",
              "      <td>1</td>\n",
              "      <td>22</td>\n",
              "      <td>9</td>\n",
              "      <td>1</td>\n",
              "    </tr>\n",
              "    <tr>\n",
              "      <th>4</th>\n",
              "      <td>-1.732019</td>\n",
              "      <td>-0.067792</td>\n",
              "      <td>-0.002842</td>\n",
              "      <td>0.035214</td>\n",
              "      <td>-0.006673</td>\n",
              "      <td>-0.04772</td>\n",
              "      <td>-0.002571</td>\n",
              "      <td>-0.044136</td>\n",
              "      <td>-0.009782</td>\n",
              "      <td>2.396996</td>\n",
              "      <td>...</td>\n",
              "      <td>-1.209071</td>\n",
              "      <td>-0.158629</td>\n",
              "      <td>-0.464418</td>\n",
              "      <td>-0.463203</td>\n",
              "      <td>-0.25204</td>\n",
              "      <td>-0.249464</td>\n",
              "      <td>1</td>\n",
              "      <td>22</td>\n",
              "      <td>9</td>\n",
              "      <td>1</td>\n",
              "    </tr>\n",
              "  </tbody>\n",
              "</table>\n",
              "<p>5 rows × 43 columns</p>\n",
              "</div>\n",
              "      <button class=\"colab-df-convert\" onclick=\"convertToInteractive('df-3b52e94f-c12e-4713-8b10-d4f0a5bac975')\"\n",
              "              title=\"Convert this dataframe to an interactive table.\"\n",
              "              style=\"display:none;\">\n",
              "        \n",
              "  <svg xmlns=\"http://www.w3.org/2000/svg\" height=\"24px\"viewBox=\"0 0 24 24\"\n",
              "       width=\"24px\">\n",
              "    <path d=\"M0 0h24v24H0V0z\" fill=\"none\"/>\n",
              "    <path d=\"M18.56 5.44l.94 2.06.94-2.06 2.06-.94-2.06-.94-.94-2.06-.94 2.06-2.06.94zm-11 1L8.5 8.5l.94-2.06 2.06-.94-2.06-.94L8.5 2.5l-.94 2.06-2.06.94zm10 10l.94 2.06.94-2.06 2.06-.94-2.06-.94-.94-2.06-.94 2.06-2.06.94z\"/><path d=\"M17.41 7.96l-1.37-1.37c-.4-.4-.92-.59-1.43-.59-.52 0-1.04.2-1.43.59L10.3 9.45l-7.72 7.72c-.78.78-.78 2.05 0 2.83L4 21.41c.39.39.9.59 1.41.59.51 0 1.02-.2 1.41-.59l7.78-7.78 2.81-2.81c.8-.78.8-2.07 0-2.86zM5.41 20L4 18.59l7.72-7.72 1.47 1.35L5.41 20z\"/>\n",
              "  </svg>\n",
              "      </button>\n",
              "      \n",
              "  <style>\n",
              "    .colab-df-container {\n",
              "      display:flex;\n",
              "      flex-wrap:wrap;\n",
              "      gap: 12px;\n",
              "    }\n",
              "\n",
              "    .colab-df-convert {\n",
              "      background-color: #E8F0FE;\n",
              "      border: none;\n",
              "      border-radius: 50%;\n",
              "      cursor: pointer;\n",
              "      display: none;\n",
              "      fill: #1967D2;\n",
              "      height: 32px;\n",
              "      padding: 0 0 0 0;\n",
              "      width: 32px;\n",
              "    }\n",
              "\n",
              "    .colab-df-convert:hover {\n",
              "      background-color: #E2EBFA;\n",
              "      box-shadow: 0px 1px 2px rgba(60, 64, 67, 0.3), 0px 1px 3px 1px rgba(60, 64, 67, 0.15);\n",
              "      fill: #174EA6;\n",
              "    }\n",
              "\n",
              "    [theme=dark] .colab-df-convert {\n",
              "      background-color: #3B4455;\n",
              "      fill: #D2E3FC;\n",
              "    }\n",
              "\n",
              "    [theme=dark] .colab-df-convert:hover {\n",
              "      background-color: #434B5C;\n",
              "      box-shadow: 0px 1px 3px 1px rgba(0, 0, 0, 0.15);\n",
              "      filter: drop-shadow(0px 1px 2px rgba(0, 0, 0, 0.3));\n",
              "      fill: #FFFFFF;\n",
              "    }\n",
              "  </style>\n",
              "\n",
              "      <script>\n",
              "        const buttonEl =\n",
              "          document.querySelector('#df-3b52e94f-c12e-4713-8b10-d4f0a5bac975 button.colab-df-convert');\n",
              "        buttonEl.style.display =\n",
              "          google.colab.kernel.accessAllowed ? 'block' : 'none';\n",
              "\n",
              "        async function convertToInteractive(key) {\n",
              "          const element = document.querySelector('#df-3b52e94f-c12e-4713-8b10-d4f0a5bac975');\n",
              "          const dataTable =\n",
              "            await google.colab.kernel.invokeFunction('convertToInteractive',\n",
              "                                                     [key], {});\n",
              "          if (!dataTable) return;\n",
              "\n",
              "          const docLinkHtml = 'Like what you see? Visit the ' +\n",
              "            '<a target=\"_blank\" href=https://colab.research.google.com/notebooks/data_table.ipynb>data table notebook</a>'\n",
              "            + ' to learn more about interactive tables.';\n",
              "          element.innerHTML = '';\n",
              "          dataTable['output_type'] = 'display_data';\n",
              "          await google.colab.output.renderOutput(dataTable, element);\n",
              "          const docLink = document.createElement('div');\n",
              "          docLink.innerHTML = docLinkHtml;\n",
              "          element.appendChild(docLink);\n",
              "        }\n",
              "      </script>\n",
              "    </div>\n",
              "  </div>\n",
              "  "
            ]
          },
          "metadata": {},
          "execution_count": 175
        }
      ],
      "source": [
        "data1_df.head()"
      ]
    },
    {
      "cell_type": "code",
      "source": [
        ""
      ],
      "metadata": {
        "id": "TOyFJ_d4V8M-"
      },
      "execution_count": 175,
      "outputs": []
    },
    {
      "cell_type": "code",
      "execution_count": 176,
      "metadata": {
        "id": "QutvhN5m40XR"
      },
      "outputs": [],
      "source": [
        "#dividing the data to 2 categories X and Y for training\n",
        "X = data1_df.drop(columns=['id','label'],axis=1)\n",
        "Y = data1_df['label']"
      ]
    },
    {
      "cell_type": "code",
      "execution_count": 177,
      "metadata": {
        "colab": {
          "base_uri": "https://localhost:8080/",
          "height": 299
        },
        "id": "TcW3zyIeT9Uz",
        "outputId": "2209b966-72aa-4e61-a86f-717f5895e1ce"
      },
      "outputs": [
        {
          "output_type": "execute_result",
          "data": {
            "text/plain": [
              "   duration  src_bytes  dst_bytes      land  wrong_fragment    urgent  \\\n",
              "0 -0.067792  -0.002879   0.138664 -0.006673        -0.04772 -0.002571   \n",
              "1 -0.067792  -0.002820  -0.011578 -0.006673        -0.04772 -0.002571   \n",
              "2 -0.067792  -0.002824   0.014179 -0.006673        -0.04772 -0.002571   \n",
              "3 -0.067792  -0.002840   0.014179 -0.006673        -0.04772 -0.002571   \n",
              "4 -0.067792  -0.002842   0.035214 -0.006673        -0.04772 -0.002571   \n",
              "\n",
              "        hot  num_failed_logins  logged_in  lnum_compromised  ...  \\\n",
              "0 -0.044136          -0.009782   2.396996         -0.005679  ...   \n",
              "1 -0.044136          -0.009782   2.396996         -0.005679  ...   \n",
              "2 -0.044136          -0.009782   2.396996         -0.005679  ...   \n",
              "3 -0.044136          -0.009782   2.396996         -0.005679  ...   \n",
              "4 -0.044136          -0.009782   2.396996         -0.005679  ...   \n",
              "\n",
              "   dst_host_diff_srv_rate  dst_host_same_src_port_rate  \\\n",
              "0               -0.282867                    -1.022080   \n",
              "1               -0.282867                    -1.146741   \n",
              "2               -0.282867                    -1.188294   \n",
              "3               -0.282867                    -1.188294   \n",
              "4               -0.282867                    -1.209071   \n",
              "\n",
              "   dst_host_srv_diff_host_rate  dst_host_serror_rate  \\\n",
              "0                    -0.158629             -0.464418   \n",
              "1                    -0.158629             -0.464418   \n",
              "2                    -0.158629             -0.464418   \n",
              "3                    -0.158629             -0.464418   \n",
              "4                    -0.158629             -0.464418   \n",
              "\n",
              "   dst_host_srv_serror_rate  dst_host_rerror_rate  dst_host_srv_rerror_rate  \\\n",
              "0                 -0.463203              -0.25204                 -0.249464   \n",
              "1                 -0.463203              -0.25204                 -0.249464   \n",
              "2                 -0.463203              -0.25204                 -0.249464   \n",
              "3                 -0.463203              -0.25204                 -0.249464   \n",
              "4                 -0.463203              -0.25204                 -0.249464   \n",
              "\n",
              "   protocol_type  service  flag  \n",
              "0              1       22     9  \n",
              "1              1       22     9  \n",
              "2              1       22     9  \n",
              "3              1       22     9  \n",
              "4              1       22     9  \n",
              "\n",
              "[5 rows x 41 columns]"
            ],
            "text/html": [
              "\n",
              "  <div id=\"df-f6c75224-2bf2-473c-b731-d1547f6608e4\">\n",
              "    <div class=\"colab-df-container\">\n",
              "      <div>\n",
              "<style scoped>\n",
              "    .dataframe tbody tr th:only-of-type {\n",
              "        vertical-align: middle;\n",
              "    }\n",
              "\n",
              "    .dataframe tbody tr th {\n",
              "        vertical-align: top;\n",
              "    }\n",
              "\n",
              "    .dataframe thead th {\n",
              "        text-align: right;\n",
              "    }\n",
              "</style>\n",
              "<table border=\"1\" class=\"dataframe\">\n",
              "  <thead>\n",
              "    <tr style=\"text-align: right;\">\n",
              "      <th></th>\n",
              "      <th>duration</th>\n",
              "      <th>src_bytes</th>\n",
              "      <th>dst_bytes</th>\n",
              "      <th>land</th>\n",
              "      <th>wrong_fragment</th>\n",
              "      <th>urgent</th>\n",
              "      <th>hot</th>\n",
              "      <th>num_failed_logins</th>\n",
              "      <th>logged_in</th>\n",
              "      <th>lnum_compromised</th>\n",
              "      <th>...</th>\n",
              "      <th>dst_host_diff_srv_rate</th>\n",
              "      <th>dst_host_same_src_port_rate</th>\n",
              "      <th>dst_host_srv_diff_host_rate</th>\n",
              "      <th>dst_host_serror_rate</th>\n",
              "      <th>dst_host_srv_serror_rate</th>\n",
              "      <th>dst_host_rerror_rate</th>\n",
              "      <th>dst_host_srv_rerror_rate</th>\n",
              "      <th>protocol_type</th>\n",
              "      <th>service</th>\n",
              "      <th>flag</th>\n",
              "    </tr>\n",
              "  </thead>\n",
              "  <tbody>\n",
              "    <tr>\n",
              "      <th>0</th>\n",
              "      <td>-0.067792</td>\n",
              "      <td>-0.002879</td>\n",
              "      <td>0.138664</td>\n",
              "      <td>-0.006673</td>\n",
              "      <td>-0.04772</td>\n",
              "      <td>-0.002571</td>\n",
              "      <td>-0.044136</td>\n",
              "      <td>-0.009782</td>\n",
              "      <td>2.396996</td>\n",
              "      <td>-0.005679</td>\n",
              "      <td>...</td>\n",
              "      <td>-0.282867</td>\n",
              "      <td>-1.022080</td>\n",
              "      <td>-0.158629</td>\n",
              "      <td>-0.464418</td>\n",
              "      <td>-0.463203</td>\n",
              "      <td>-0.25204</td>\n",
              "      <td>-0.249464</td>\n",
              "      <td>1</td>\n",
              "      <td>22</td>\n",
              "      <td>9</td>\n",
              "    </tr>\n",
              "    <tr>\n",
              "      <th>1</th>\n",
              "      <td>-0.067792</td>\n",
              "      <td>-0.002820</td>\n",
              "      <td>-0.011578</td>\n",
              "      <td>-0.006673</td>\n",
              "      <td>-0.04772</td>\n",
              "      <td>-0.002571</td>\n",
              "      <td>-0.044136</td>\n",
              "      <td>-0.009782</td>\n",
              "      <td>2.396996</td>\n",
              "      <td>-0.005679</td>\n",
              "      <td>...</td>\n",
              "      <td>-0.282867</td>\n",
              "      <td>-1.146741</td>\n",
              "      <td>-0.158629</td>\n",
              "      <td>-0.464418</td>\n",
              "      <td>-0.463203</td>\n",
              "      <td>-0.25204</td>\n",
              "      <td>-0.249464</td>\n",
              "      <td>1</td>\n",
              "      <td>22</td>\n",
              "      <td>9</td>\n",
              "    </tr>\n",
              "    <tr>\n",
              "      <th>2</th>\n",
              "      <td>-0.067792</td>\n",
              "      <td>-0.002824</td>\n",
              "      <td>0.014179</td>\n",
              "      <td>-0.006673</td>\n",
              "      <td>-0.04772</td>\n",
              "      <td>-0.002571</td>\n",
              "      <td>-0.044136</td>\n",
              "      <td>-0.009782</td>\n",
              "      <td>2.396996</td>\n",
              "      <td>-0.005679</td>\n",
              "      <td>...</td>\n",
              "      <td>-0.282867</td>\n",
              "      <td>-1.188294</td>\n",
              "      <td>-0.158629</td>\n",
              "      <td>-0.464418</td>\n",
              "      <td>-0.463203</td>\n",
              "      <td>-0.25204</td>\n",
              "      <td>-0.249464</td>\n",
              "      <td>1</td>\n",
              "      <td>22</td>\n",
              "      <td>9</td>\n",
              "    </tr>\n",
              "    <tr>\n",
              "      <th>3</th>\n",
              "      <td>-0.067792</td>\n",
              "      <td>-0.002840</td>\n",
              "      <td>0.014179</td>\n",
              "      <td>-0.006673</td>\n",
              "      <td>-0.04772</td>\n",
              "      <td>-0.002571</td>\n",
              "      <td>-0.044136</td>\n",
              "      <td>-0.009782</td>\n",
              "      <td>2.396996</td>\n",
              "      <td>-0.005679</td>\n",
              "      <td>...</td>\n",
              "      <td>-0.282867</td>\n",
              "      <td>-1.188294</td>\n",
              "      <td>-0.158629</td>\n",
              "      <td>-0.464418</td>\n",
              "      <td>-0.463203</td>\n",
              "      <td>-0.25204</td>\n",
              "      <td>-0.249464</td>\n",
              "      <td>1</td>\n",
              "      <td>22</td>\n",
              "      <td>9</td>\n",
              "    </tr>\n",
              "    <tr>\n",
              "      <th>4</th>\n",
              "      <td>-0.067792</td>\n",
              "      <td>-0.002842</td>\n",
              "      <td>0.035214</td>\n",
              "      <td>-0.006673</td>\n",
              "      <td>-0.04772</td>\n",
              "      <td>-0.002571</td>\n",
              "      <td>-0.044136</td>\n",
              "      <td>-0.009782</td>\n",
              "      <td>2.396996</td>\n",
              "      <td>-0.005679</td>\n",
              "      <td>...</td>\n",
              "      <td>-0.282867</td>\n",
              "      <td>-1.209071</td>\n",
              "      <td>-0.158629</td>\n",
              "      <td>-0.464418</td>\n",
              "      <td>-0.463203</td>\n",
              "      <td>-0.25204</td>\n",
              "      <td>-0.249464</td>\n",
              "      <td>1</td>\n",
              "      <td>22</td>\n",
              "      <td>9</td>\n",
              "    </tr>\n",
              "  </tbody>\n",
              "</table>\n",
              "<p>5 rows × 41 columns</p>\n",
              "</div>\n",
              "      <button class=\"colab-df-convert\" onclick=\"convertToInteractive('df-f6c75224-2bf2-473c-b731-d1547f6608e4')\"\n",
              "              title=\"Convert this dataframe to an interactive table.\"\n",
              "              style=\"display:none;\">\n",
              "        \n",
              "  <svg xmlns=\"http://www.w3.org/2000/svg\" height=\"24px\"viewBox=\"0 0 24 24\"\n",
              "       width=\"24px\">\n",
              "    <path d=\"M0 0h24v24H0V0z\" fill=\"none\"/>\n",
              "    <path d=\"M18.56 5.44l.94 2.06.94-2.06 2.06-.94-2.06-.94-.94-2.06-.94 2.06-2.06.94zm-11 1L8.5 8.5l.94-2.06 2.06-.94-2.06-.94L8.5 2.5l-.94 2.06-2.06.94zm10 10l.94 2.06.94-2.06 2.06-.94-2.06-.94-.94-2.06-.94 2.06-2.06.94z\"/><path d=\"M17.41 7.96l-1.37-1.37c-.4-.4-.92-.59-1.43-.59-.52 0-1.04.2-1.43.59L10.3 9.45l-7.72 7.72c-.78.78-.78 2.05 0 2.83L4 21.41c.39.39.9.59 1.41.59.51 0 1.02-.2 1.41-.59l7.78-7.78 2.81-2.81c.8-.78.8-2.07 0-2.86zM5.41 20L4 18.59l7.72-7.72 1.47 1.35L5.41 20z\"/>\n",
              "  </svg>\n",
              "      </button>\n",
              "      \n",
              "  <style>\n",
              "    .colab-df-container {\n",
              "      display:flex;\n",
              "      flex-wrap:wrap;\n",
              "      gap: 12px;\n",
              "    }\n",
              "\n",
              "    .colab-df-convert {\n",
              "      background-color: #E8F0FE;\n",
              "      border: none;\n",
              "      border-radius: 50%;\n",
              "      cursor: pointer;\n",
              "      display: none;\n",
              "      fill: #1967D2;\n",
              "      height: 32px;\n",
              "      padding: 0 0 0 0;\n",
              "      width: 32px;\n",
              "    }\n",
              "\n",
              "    .colab-df-convert:hover {\n",
              "      background-color: #E2EBFA;\n",
              "      box-shadow: 0px 1px 2px rgba(60, 64, 67, 0.3), 0px 1px 3px 1px rgba(60, 64, 67, 0.15);\n",
              "      fill: #174EA6;\n",
              "    }\n",
              "\n",
              "    [theme=dark] .colab-df-convert {\n",
              "      background-color: #3B4455;\n",
              "      fill: #D2E3FC;\n",
              "    }\n",
              "\n",
              "    [theme=dark] .colab-df-convert:hover {\n",
              "      background-color: #434B5C;\n",
              "      box-shadow: 0px 1px 3px 1px rgba(0, 0, 0, 0.15);\n",
              "      filter: drop-shadow(0px 1px 2px rgba(0, 0, 0, 0.3));\n",
              "      fill: #FFFFFF;\n",
              "    }\n",
              "  </style>\n",
              "\n",
              "      <script>\n",
              "        const buttonEl =\n",
              "          document.querySelector('#df-f6c75224-2bf2-473c-b731-d1547f6608e4 button.colab-df-convert');\n",
              "        buttonEl.style.display =\n",
              "          google.colab.kernel.accessAllowed ? 'block' : 'none';\n",
              "\n",
              "        async function convertToInteractive(key) {\n",
              "          const element = document.querySelector('#df-f6c75224-2bf2-473c-b731-d1547f6608e4');\n",
              "          const dataTable =\n",
              "            await google.colab.kernel.invokeFunction('convertToInteractive',\n",
              "                                                     [key], {});\n",
              "          if (!dataTable) return;\n",
              "\n",
              "          const docLinkHtml = 'Like what you see? Visit the ' +\n",
              "            '<a target=\"_blank\" href=https://colab.research.google.com/notebooks/data_table.ipynb>data table notebook</a>'\n",
              "            + ' to learn more about interactive tables.';\n",
              "          element.innerHTML = '';\n",
              "          dataTable['output_type'] = 'display_data';\n",
              "          await google.colab.output.renderOutput(dataTable, element);\n",
              "          const docLink = document.createElement('div');\n",
              "          docLink.innerHTML = docLinkHtml;\n",
              "          element.appendChild(docLink);\n",
              "        }\n",
              "      </script>\n",
              "    </div>\n",
              "  </div>\n",
              "  "
            ]
          },
          "metadata": {},
          "execution_count": 177
        }
      ],
      "source": [
        "X.head()"
      ]
    },
    {
      "cell_type": "code",
      "execution_count": 178,
      "metadata": {
        "colab": {
          "base_uri": "https://localhost:8080/"
        },
        "id": "qFkSJNJpUBaB",
        "outputId": "58107a78-4b02-4e6f-dd3d-e776b16dd2e8"
      },
      "outputs": [
        {
          "output_type": "execute_result",
          "data": {
            "text/plain": [
              "0    1\n",
              "1    1\n",
              "2    1\n",
              "3    1\n",
              "4    1\n",
              "Name: label, dtype: int64"
            ]
          },
          "metadata": {},
          "execution_count": 178
        }
      ],
      "source": [
        "Y.head()"
      ]
    },
    {
      "cell_type": "code",
      "execution_count": 179,
      "metadata": {
        "id": "DqFG0PIL5krG"
      },
      "outputs": [],
      "source": [
        "from sklearn.model_selection import train_test_split\n",
        "x_train,x_test,y_train,y_test = train_test_split(X,Y,test_size=0.2,random_state=2)"
      ]
    },
    {
      "cell_type": "code",
      "execution_count": 180,
      "metadata": {
        "colab": {
          "base_uri": "https://localhost:8080/",
          "height": 414
        },
        "id": "Bat55kwj6Dyc",
        "outputId": "12ed1aa2-23d9-4c17-d7c5-c792a3682cbd"
      },
      "outputs": [
        {
          "output_type": "display_data",
          "data": {
            "text/plain": [
              "<Figure size 792x288 with 1 Axes>"
            ],
            "image/png": "[encoded data removed]"
          },
          "metadata": {
            "needs_background": "light"
          }
        }
      ],
      "source": [
        "from sklearn.ensemble import RandomForestClassifier\n",
        "rfc = RandomForestClassifier();\n",
        "\n",
        "# fit random forest classifier on the training set\n",
        "rfc.fit(x_train,y_train);\n",
        "# extract important features\n",
        "score = np.round(rfc.feature_importances_,3)\n",
        "importances = pd.DataFrame({'feature':x_train.columns,'importance':score})\n",
        "importances = importances.sort_values('importance',ascending=False).set_index('feature')\n",
        "# plot importances\n",
        "plt.rcParams['figure.figsize'] = (11, 4)\n",
        "importances.plot.bar(); "
      ]
    },
    {
      "cell_type": "markdown",
      "metadata": {
        "id": "tO5RrQ96agUa"
      },
      "source": [
        "selecting the important feature by dividing the actual data set into train and test data set\n",
        "and only  using the train data set we plot the importance of the data"
      ]
    },
    {
      "cell_type": "code",
      "execution_count": 181,
      "metadata": {
        "id": "eqOxCP2H9Uqj"
      },
      "outputs": [],
      "source": [
        "from sklearn.feature_selection import RFE\n",
        "import itertools\n",
        "#rfc = RandomForestClassifier()\n",
        "\n",
        "# create the RFE model and select 15 attributes\n",
        "rfe = RFE(rfc, n_features_to_select=15)\n",
        "rfe = rfe.fit(x_train, y_train)\n"
      ]
    },
    {
      "cell_type": "code",
      "execution_count": 182,
      "metadata": {
        "colab": {
          "base_uri": "https://localhost:8080/"
        },
        "id": "b_Qwm-rS9_cG",
        "outputId": "24944127-97b0-49e0-9274-b27acdf0b917"
      },
      "outputs": [
        {
          "output_type": "execute_result",
          "data": {
            "text/plain": [
              "['src_bytes',\n",
              " 'dst_bytes',\n",
              " 'logged_in',\n",
              " 'lnum_compromised',\n",
              " 'count',\n",
              " 'srv_count',\n",
              " 'same_srv_rate',\n",
              " 'diff_srv_rate',\n",
              " 'srv_diff_host_rate',\n",
              " 'dst_host_count',\n",
              " 'dst_host_diff_srv_rate',\n",
              " 'dst_host_same_src_port_rate',\n",
              " 'dst_host_srv_diff_host_rate',\n",
              " 'protocol_type',\n",
              " 'service']"
            ]
          },
          "metadata": {},
          "execution_count": 182
        }
      ],
      "source": [
        "\n",
        "# summarize the selection of the attributes\n",
        "feature_map = [(i, v) for i, v in itertools.zip_longest(rfe.get_support(), x_train.columns)]\n",
        "selected_features = [v for i, v in feature_map if i==True]\n",
        "\n",
        "selected_features"
      ]
    },
    {
      "cell_type": "code",
      "execution_count": 183,
      "metadata": {
        "colab": {
          "base_uri": "https://localhost:8080/"
        },
        "id": "xx9fciM7Dtad",
        "outputId": "3f86e3f3-48db-40e5-e5a0-6bdcdc0c5faf"
      },
      "outputs": [
        {
          "output_type": "execute_result",
          "data": {
            "text/plain": [
              "(395216, 41)"
            ]
          },
          "metadata": {},
          "execution_count": 183
        }
      ],
      "source": [
        "x_train.shape"
      ]
    },
    {
      "cell_type": "code",
      "source": [
        "#---------modeling "
      ],
      "metadata": {
        "id": "VvuCmau_WdvY"
      },
      "execution_count": 184,
      "outputs": []
    },
    {
      "cell_type": "code",
      "execution_count": 185,
      "metadata": {
        "colab": {
          "base_uri": "https://localhost:8080/"
        },
        "id": "bestNInQcQwp",
        "outputId": "0b71b23c-108c-4802-fcbb-b85720614d14"
      },
      "outputs": [
        {
          "output_type": "execute_result",
          "data": {
            "text/plain": [
              "0    313026\n",
              "1     77953\n",
              "2      3285\n",
              "3       911\n",
              "4        41\n",
              "Name: label, dtype: int64"
            ]
          },
          "metadata": {},
          "execution_count": 185
        }
      ],
      "source": [
        "y_train.value_counts()"
      ]
    },
    {
      "cell_type": "code",
      "execution_count": 186,
      "metadata": {
        "id": "e240KZwECl2F"
      },
      "outputs": [],
      "source": [
        "#from sklearn.svm import SVC \n",
        "#\n",
        "\n",
        "#from sklearn.model_selection import cross_val_score\n",
        "# from sklearn.neighbors import K-NeighborsClassifier\n",
        "# from sklearn.linear_model import LogisticRegression\n",
        "\n",
        "\n"
      ]
    },
    {
      "cell_type": "code",
      "execution_count": 187,
      "metadata": {
        "colab": {
          "base_uri": "https://localhost:8080/"
        },
        "id": "IYxAW4W1EETv",
        "outputId": "a8283845-fc6c-415a-f617-60d0876285a9"
      },
      "outputs": [
        {
          "output_type": "execute_result",
          "data": {
            "text/plain": [
              "92954     0\n",
              "225992    0\n",
              "435715    0\n",
              "148092    1\n",
              "283930    0\n",
              "         ..\n",
              "437782    0\n",
              "95816     0\n",
              "203245    0\n",
              "100879    0\n",
              "351400    0\n",
              "Name: label, Length: 395216, dtype: int64"
            ]
          },
          "metadata": {},
          "execution_count": 187
        }
      ],
      "source": [
        "y_train"
      ]
    },
    {
      "cell_type": "code",
      "execution_count": 188,
      "metadata": {
        "id": "AhV8htubDUB4"
      },
      "outputs": [],
      "source": [
        "ans =  ans ={ 0 : 'dos' , 1 : 'normal' ,2 : 'probe', 3 : 'r2l' , 4:'u2r'}\n",
        "y_train = y_train.replace(ans)\n",
        "y_test = y_test.replace(ans)"
      ]
    },
    {
      "cell_type": "markdown",
      "metadata": {
        "id": "t5kpog-dDEiO"
      },
      "source": [
        ""
      ]
    },
    {
      "cell_type": "code",
      "execution_count": 189,
      "metadata": {
        "colab": {
          "base_uri": "https://localhost:8080/"
        },
        "id": "o-GfLs45dUSA",
        "outputId": "7598ea73-9120-4b09-84fc-9277d57e925d"
      },
      "outputs": [
        {
          "output_type": "execute_result",
          "data": {
            "text/plain": [
              "DecisionTreeClassifier(criterion='entropy', random_state=0)"
            ]
          },
          "metadata": {},
          "execution_count": 189
        }
      ],
      "source": [
        "from sklearn import tree\n",
        "# Train Decision Tree Model\n",
        "DTC_Classifier = tree.DecisionTreeClassifier(criterion='entropy', random_state=0)\n",
        "DTC_Classifier.fit(x_train, y_train)"
      ]
    },
    {
      "cell_type": "code",
      "execution_count": 189,
      "metadata": {
        "id": "zZffsfqQYca8"
      },
      "outputs": [],
      "source": [
        ""
      ]
    },
    {
      "cell_type": "code",
      "execution_count": 190,
      "metadata": {
        "id": "lj9bYrZRd9Xm"
      },
      "outputs": [],
      "source": [
        "from sklearn import metrics\n",
        "\n"
      ]
    },
    {
      "cell_type": "code",
      "execution_count": 191,
      "metadata": {
        "id": "UN7SZSi4WsY7"
      },
      "outputs": [],
      "source": [
        "from sklearn.model_selection import cross_val_score\n",
        "\n"
      ]
    },
    {
      "cell_type": "code",
      "execution_count": 191,
      "metadata": {
        "id": "kPgAi3wfXkg_"
      },
      "outputs": [],
      "source": [
        ""
      ]
    },
    {
      "cell_type": "code",
      "execution_count": 192,
      "metadata": {
        "id": "cxITzUZTXvtK"
      },
      "outputs": [],
      "source": [
        "#"
      ]
    },
    {
      "cell_type": "code",
      "execution_count": 193,
      "metadata": {
        "id": "j8EONwRHX7YU"
      },
      "outputs": [],
      "source": [
        "#------analyzing accuracy "
      ]
    },
    {
      "cell_type": "code",
      "execution_count": 194,
      "metadata": {
        "id": "4O9SbDU2cnXC"
      },
      "outputs": [],
      "source": [
        "accuracy = metrics.accuracy_score(y_train, DTC_Classifier.predict(x_train))\n",
        "scores = cross_val_score(DTC_Classifier,x_train,y_train,cv=10)\n",
        "confusion_matrix = metrics.confusion_matrix(y_train,DTC_Classifier.predict(x_train))\n",
        "classification = metrics.classification_report(y_train,DTC_Classifier.predict(x_train))\n"
      ]
    },
    {
      "cell_type": "code",
      "execution_count": 195,
      "metadata": {
        "colab": {
          "base_uri": "https://localhost:8080/"
        },
        "id": "jwsT7SWtcgCJ",
        "outputId": "0840cb97-e3c3-4069-c537-fe6e6606fcb9"
      },
      "outputs": [
        {
          "output_type": "stream",
          "name": "stdout",
          "text": [
            "------------Decision Tree Model Evaluation------------\n",
            "Cross Validation Scores \n",
            "[0.99984819 0.99962046 0.99956986 0.99977228 0.99972167 0.99974698\n",
            " 0.99982288 0.99964576 0.99989879 0.99951924]\n",
            "\n",
            "Model Accuracy : 0.9999974697380672\n",
            "\n",
            "Confusion Matrix :\n",
            "[[313026      0      0      0      0]\n",
            " [     1  77952      0      0      0]\n",
            " [     0      0   3285      0      0]\n",
            " [     0      0      0    911      0]\n",
            " [     0      0      0      0     41]]\n",
            "\n",
            "Classification report : \n",
            "               precision    recall  f1-score   support\n",
            "\n",
            "         dos       1.00      1.00      1.00    313026\n",
            "      normal       1.00      1.00      1.00     77953\n",
            "       probe       1.00      1.00      1.00      3285\n",
            "         r2l       1.00      1.00      1.00       911\n",
            "         u2r       1.00      1.00      1.00        41\n",
            "\n",
            "    accuracy                           1.00    395216\n",
            "   macro avg       1.00      1.00      1.00    395216\n",
            "weighted avg       1.00      1.00      1.00    395216\n",
            "\n",
            "\n"
          ]
        }
      ],
      "source": [
        "print('------------Decision Tree Model Evaluation------------')\n",
        "print(f'Cross Validation Scores \\n{scores}\\n')\n",
        "print(f'Model Accuracy : {accuracy}\\n')\n",
        "print(f'Confusion Matrix :\\n{confusion_matrix}\\n')\n",
        "print(f'Classification report : \\n {classification}\\n')"
      ]
    },
    {
      "cell_type": "code",
      "execution_count": 196,
      "metadata": {
        "id": "uaJiQ3Loc0vk"
      },
      "outputs": [],
      "source": [
        "accuracy = metrics.accuracy_score(y_test, DTC_Classifier.predict(x_test))\n",
        "scores = cross_val_score(DTC_Classifier,x_test,y_test,cv=10)\n",
        "confusion_matrix = metrics.confusion_matrix(y_test,DTC_Classifier.predict(x_test))\n",
        "classification = metrics.classification_report(y_test,DTC_Classifier.predict(x_test))"
      ]
    },
    {
      "cell_type": "code",
      "execution_count": 197,
      "metadata": {
        "colab": {
          "base_uri": "https://localhost:8080/"
        },
        "id": "DEttPpbLZBfl",
        "outputId": "f1e58fbe-3e0c-4b05-c123-1834b326c531"
      },
      "outputs": [
        {
          "output_type": "stream",
          "name": "stdout",
          "text": [
            "------------Decision Tree Model Validation------------\n",
            "Cross Validation Scores \n",
            "[0.99929157 0.99908916 0.99969639 0.99919037 0.9992915  0.99939271\n",
            " 0.99979757 0.99959514 0.99919028 0.99959514]\n",
            "\n",
            "Model Accuracy : 0.9997469738067285\n",
            "\n",
            "Confusion Matrix :\n",
            "[[78430     1     1     0     0]\n",
            " [    0 19311     7     6     0]\n",
            " [    0     5   817     0     0]\n",
            " [    0     1     0   211     3]\n",
            " [    0     1     0     0    10]]\n",
            "\n",
            "Classification report : \n",
            "               precision    recall  f1-score   support\n",
            "\n",
            "         dos       1.00      1.00      1.00     78432\n",
            "      normal       1.00      1.00      1.00     19324\n",
            "       probe       0.99      0.99      0.99       822\n",
            "         r2l       0.97      0.98      0.98       215\n",
            "         u2r       0.77      0.91      0.83        11\n",
            "\n",
            "    accuracy                           1.00     98804\n",
            "   macro avg       0.95      0.98      0.96     98804\n",
            "weighted avg       1.00      1.00      1.00     98804\n",
            "\n",
            "\n"
          ]
        }
      ],
      "source": [
        "print('------------Decision Tree Model Validation------------')\n",
        "print(f'Cross Validation Scores \\n{scores}\\n')\n",
        "print(f'Model Accuracy : {accuracy}\\n')\n",
        "print(f'Confusion Matrix :\\n{confusion_matrix}\\n')\n",
        "print(f'Classification report : \\n {classification}\\n')"
      ]
    },
    {
      "cell_type": "code",
      "execution_count": 198,
      "metadata": {
        "colab": {
          "base_uri": "https://localhost:8080/"
        },
        "id": "IJgkd6L3YTT8",
        "outputId": "1ba68311-d3bf-43c5-8ea9-6bae772377ae"
      },
      "outputs": [
        {
          "output_type": "execute_result",
          "data": {
            "text/plain": [
              "BernoulliNB()"
            ]
          },
          "metadata": {},
          "execution_count": 198
        }
      ],
      "source": [
        "# \n",
        "from sklearn.naive_bayes import BernoulliNB \n",
        "# Train Gaussian Naive Baye Model\n",
        "BNB_Classifier = BernoulliNB()\n",
        "BNB_Classifier.fit(x_train, y_train)"
      ]
    },
    {
      "cell_type": "code",
      "execution_count": 199,
      "metadata": {
        "id": "O0ZA1V8gYec_"
      },
      "outputs": [],
      "source": [
        "accuracy = metrics.accuracy_score(y_train, BNB_Classifier.predict(x_train))\n",
        "scores = cross_val_score(BNB_Classifier,x_train,y_train,cv=10)\n",
        "confusion_matrix = metrics.confusion_matrix(y_train,BNB_Classifier.predict(x_train))\n",
        "classification = metrics.classification_report(y_train,BNB_Classifier.predict(x_train))\n"
      ]
    },
    {
      "cell_type": "code",
      "execution_count": 200,
      "metadata": {
        "colab": {
          "base_uri": "https://localhost:8080/"
        },
        "id": "5amDaJgNZT6m",
        "outputId": "d71a4b2d-4b94-4f02-9bef-d5162dd75b98"
      },
      "outputs": [
        {
          "output_type": "stream",
          "name": "stdout",
          "text": [
            "------------Naive Baye Model Evaluation------------\n",
            "Cross Validation Scores \n",
            "[0.93304995 0.93089925 0.93229088 0.93097515 0.93069683 0.9304438\n",
            " 0.93087219 0.93109992 0.93115053 0.93223856]\n",
            "\n",
            "Model Accuracy : 0.9313691753370309\n",
            "\n",
            "Confusion Matrix :\n",
            "[[294555   1510  16470     18    473]\n",
            " [  2083  71121   4322    372     55]\n",
            " [   204   1025   2056      0      0]\n",
            " [     8    554      6    336      7]\n",
            " [     0     13      0      4     24]]\n",
            "\n",
            "Classification report : \n",
            "               precision    recall  f1-score   support\n",
            "\n",
            "         dos       0.99      0.94      0.97    313026\n",
            "      normal       0.96      0.91      0.93     77953\n",
            "       probe       0.09      0.63      0.16      3285\n",
            "         r2l       0.46      0.37      0.41       911\n",
            "         u2r       0.04      0.59      0.08        41\n",
            "\n",
            "    accuracy                           0.93    395216\n",
            "   macro avg       0.51      0.69      0.51    395216\n",
            "weighted avg       0.98      0.93      0.95    395216\n",
            "\n",
            "\n"
          ]
        }
      ],
      "source": [
        "print('------------Naive Baye Model Evaluation------------')\n",
        "print(f'Cross Validation Scores \\n{scores}\\n')\n",
        "print(f'Model Accuracy : {accuracy}\\n')\n",
        "print(f'Confusion Matrix :\\n{confusion_matrix}\\n')\n",
        "print(f'Classification report : \\n {classification}\\n')"
      ]
    },
    {
      "cell_type": "markdown",
      "metadata": {
        "id": "nq6Ae6-4Yoqv"
      },
      "source": [
        "StratifiedKFold cross validation is used by cv=10"
      ]
    },
    {
      "cell_type": "code",
      "execution_count": 201,
      "metadata": {
        "id": "VHMBiwP7YnmO"
      },
      "outputs": [],
      "source": [
        "accuracy = metrics.accuracy_score(y_test, BNB_Classifier.predict(x_test))\n",
        "scores = cross_val_score(BNB_Classifier,x_test,y_test,cv=10)\n",
        "confusion_matrix = metrics.confusion_matrix(y_test,BNB_Classifier.predict(x_test))\n",
        "classification = metrics.classification_report(y_test,BNB_Classifier.predict(x_test))"
      ]
    },
    {
      "cell_type": "code",
      "execution_count": 202,
      "metadata": {
        "id": "LxxNTSVmbZhr",
        "colab": {
          "base_uri": "https://localhost:8080/"
        },
        "outputId": "c87229bc-26b3-461a-9077-b7c5942e0b9d"
      },
      "outputs": [
        {
          "output_type": "stream",
          "name": "stdout",
          "text": [
            "------------Naive Baye Model Validation------------\n",
            "Cross Validation Scores \n",
            "[0.92521    0.93310394 0.9368485  0.92682927 0.93248988 0.93502024\n",
            " 0.92975709 0.92894737 0.92560729 0.93026316]\n",
            "\n",
            "Model Accuracy : 0.9310554228573742\n",
            "\n",
            "Confusion Matrix :\n",
            "[[73840   358  4127     1   106]\n",
            " [  559 17537  1109   110     9]\n",
            " [   44   264   514     0     0]\n",
            " [    3   117     0    94     1]\n",
            " [    0     3     0     1     7]]\n",
            "\n",
            "Classification report : \n",
            "               precision    recall  f1-score   support\n",
            "\n",
            "         dos       0.99      0.94      0.97     78432\n",
            "      normal       0.96      0.91      0.93     19324\n",
            "       probe       0.09      0.63      0.16       822\n",
            "         r2l       0.46      0.44      0.45       215\n",
            "         u2r       0.06      0.64      0.10        11\n",
            "\n",
            "    accuracy                           0.93     98804\n",
            "   macro avg       0.51      0.71      0.52     98804\n",
            "weighted avg       0.98      0.93      0.95     98804\n",
            "\n",
            "\n"
          ]
        }
      ],
      "source": [
        "print('------------Naive Baye Model Validation------------')\n",
        "print(f'Cross Validation Scores \\n{scores}\\n')\n",
        "print(f'Model Accuracy : {accuracy}\\n')\n",
        "print(f'Confusion Matrix :\\n{confusion_matrix}\\n')\n",
        "print(f'Classification report : \\n {classification}\\n')"
      ]
    },
    {
      "cell_type": "code",
      "execution_count": 203,
      "metadata": {
        "id": "1kgPUusoZJ04"
      },
      "outputs": [],
      "source": [
        "from sklearn.linear_model import LogisticRegression\n",
        "\n"
      ]
    },
    {
      "cell_type": "code",
      "source": [
        "LGR_Classifier = LogisticRegression(n_jobs=-1, random_state=0)\n",
        "LGR_Classifier.fit(x_train, y_train);"
      ],
      "metadata": {
        "id": "XxGoeXL-xIk4"
      },
      "execution_count": 204,
      "outputs": []
    },
    {
      "cell_type": "code",
      "source": [
        "accuracy = metrics.accuracy_score(y_train, LGR_Classifier.predict(x_train))\n",
        "scores = cross_val_score(LGR_Classifier,x_train,y_train,cv=10)\n",
        "confusion_matrix = metrics.confusion_matrix(y_train,LGR_Classifier.predict(x_train))\n",
        "classification = metrics.classification_report(y_train,LGR_Classifier.predict(x_train))\n"
      ],
      "metadata": {
        "id": "scfMpD4fTTOG"
      },
      "execution_count": 205,
      "outputs": []
    },
    {
      "cell_type": "code",
      "source": [
        "print('------------Logistic regression Model Evaluation------------')\n",
        "print(f'Cross Validation Scores \\n{scores}\\n')\n",
        "print(f'Model Accuracy : {accuracy}\\n')\n",
        "print(f'Confusion Matrix :\\n{confusion_matrix}\\n')\n",
        "print(f'Classification report : \\n {classification}\\n')"
      ],
      "metadata": {
        "colab": {
          "base_uri": "https://localhost:8080/"
        },
        "id": "rfBOErpTTfzT",
        "outputId": "d0305492-b8e7-4cba-f8cd-b8382aa44fdc"
      },
      "execution_count": 206,
      "outputs": [
        {
          "output_type": "stream",
          "name": "stdout",
          "text": [
            "------------Logistic regression Model Evaluation------------\n",
            "Cross Validation Scores \n",
            "[0.99810232 0.99767218 0.99741916 0.99754567 0.99769748 0.99736855\n",
            " 0.99782394 0.99762152 0.99792515 0.99734318]\n",
            "\n",
            "Model Accuracy : 0.9978012023804704\n",
            "\n",
            "Confusion Matrix :\n",
            "[[312892    128      6      0      0]\n",
            " [    80  77659     88    121      5]\n",
            " [    32    269   2984      0      0]\n",
            " [    13    102      0    795      1]\n",
            " [     1     14      0      9     17]]\n",
            "\n",
            "Classification report : \n",
            "               precision    recall  f1-score   support\n",
            "\n",
            "         dos       1.00      1.00      1.00    313026\n",
            "      normal       0.99      1.00      0.99     77953\n",
            "       probe       0.97      0.91      0.94      3285\n",
            "         r2l       0.86      0.87      0.87       911\n",
            "         u2r       0.74      0.41      0.53        41\n",
            "\n",
            "    accuracy                           1.00    395216\n",
            "   macro avg       0.91      0.84      0.87    395216\n",
            "weighted avg       1.00      1.00      1.00    395216\n",
            "\n",
            "\n"
          ]
        }
      ]
    },
    {
      "cell_type": "code",
      "source": [
        "accuracy = metrics.accuracy_score(y_test, LGR_Classifier.predict(x_test))\n",
        "scores = cross_val_score(LGR_Classifier,x_test,y_test,cv=10)\n",
        "confusion_matrix = metrics.confusion_matrix(y_test,LGR_Classifier.predict(x_test))\n",
        "classification = metrics.classification_report(y_test,LGR_Classifier.predict(x_test))"
      ],
      "metadata": {
        "id": "xPNhvC9wW4If"
      },
      "execution_count": null,
      "outputs": []
    },
    {
      "cell_type": "code",
      "source": [
        "print('------------Logistic regression Model Validation------------')\n",
        "print(f'Cross Validation Scores \\n{scores}\\n')\n",
        "print(f'Model Accuracy : {accuracy}\\n')\n",
        "print(f'Confusion Matrix :\\n{confusion_matrix}\\n')\n",
        "print(f'Classification report : \\n {classification}\\n')"
      ],
      "metadata": {
        "colab": {
          "base_uri": "https://localhost:8080/"
        },
        "id": "tyNVC6GiXD8m",
        "outputId": "93a46390-af8b-46ee-b12b-49ba694838c4"
      },
      "execution_count": 208,
      "outputs": [
        {
          "output_type": "stream",
          "name": "stdout",
          "text": [
            "------------Logistic regression Model Validation------------\n",
            "Cross Validation Scores \n",
            "[0.99817832 0.99746989 0.99787471 0.99807712 0.99777328 0.99787449\n",
            " 0.99746964 0.99787449 0.99827935 0.99817814]\n",
            "\n",
            "Model Accuracy : 0.9979757904538278\n",
            "\n",
            "Confusion Matrix :\n",
            "[[78401    29     2     0     0]\n",
            " [   18 19256    24    26     0]\n",
            " [    1    74   747     0     0]\n",
            " [    9    12     0   193     1]\n",
            " [    0     3     0     1     7]]\n",
            "\n",
            "Classification report : \n",
            "               precision    recall  f1-score   support\n",
            "\n",
            "         dos       1.00      1.00      1.00     78432\n",
            "      normal       0.99      1.00      1.00     19324\n",
            "       probe       0.97      0.91      0.94       822\n",
            "         r2l       0.88      0.90      0.89       215\n",
            "         u2r       0.88      0.64      0.74        11\n",
            "\n",
            "    accuracy                           1.00     98804\n",
            "   macro avg       0.94      0.89      0.91     98804\n",
            "weighted avg       1.00      1.00      1.00     98804\n",
            "\n",
            "\n"
          ]
        }
      ]
    },
    {
      "cell_type": "code",
      "source": [
        ""
      ],
      "metadata": {
        "id": "4eQF2nRrXIuS"
      },
      "execution_count": 208,
      "outputs": []
    }
  ],
  "metadata": {
    "colab": {
      "collapsed_sections": [],
      "name": "MiniProject_demo.ipynb",
      "provenance": [],
      "include_colab_link": true
    },
    "kernelspec": {
      "display_name": "Python 3",
      "name": "python3"
    },
    "language_info": {
      "name": "python"
    }
  },
  "nbformat": 4,
  "nbformat_minor": 0
}