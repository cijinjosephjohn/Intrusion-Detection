{
  "nbformat": 4,
  "nbformat_minor": 0,
  "metadata": {
    "colab": {
      "name": "MiniProject_demo.ipynb",
      "provenance": [],
      "collapsed_sections": [],
      "include_colab_link": true
    },
    "kernelspec": {
      "name": "python3",
      "display_name": "Python 3"
    },
    "language_info": {
      "name": "python"
    }
  },
  "cells": [
    {
      "cell_type": "markdown",
      "metadata": {
        "id": "view-in-github",
        "colab_type": "text"
      },
      "source": [
        "<a href=\"https://colab.research.google.com/github/cijinjosephjohn/Intrusion-Detection/blob/main/MiniProject_demo.ipynb\" target=\"_parent\"><img src=\"https://colab.research.google.com/assets/colab-badge.svg\" alt=\"Open In Colab\"/></a>"
      ]
    },
    {
      "cell_type": "code",
      "source": [
        "\n",
        "import matplotlib\n",
        "import matplotlib.pyplot as plt\n",
        "import pandas as pd\n",
        "import numpy as np\n"
      ],
      "metadata": {
        "id": "MHSfO_H6mOHi"
      },
      "execution_count": 76,
      "outputs": []
    },
    {
      "cell_type": "markdown",
      "source": [
        ""
      ],
      "metadata": {
        "id": "8ld4xP9WIV_x"
      }
    },
    {
      "cell_type": "code",
      "source": [
        "from google.colab import drive\n",
        "drive.mount('/content/drive')"
      ],
      "metadata": {
        "colab": {
          "base_uri": "https://localhost:8080/"
        },
        "id": "Yio_GdYuqC-E",
        "outputId": "68a08edc-4a9d-4e35-d26a-378b489c5a72"
      },
      "execution_count": 77,
      "outputs": [
        {
          "output_type": "stream",
          "name": "stdout",
          "text": [
            "Drive already mounted at /content/drive; to attempt to forcibly remount, call drive.mount(\"/content/drive\", force_remount=True).\n"
          ]
        }
      ]
    },
    {
      "cell_type": "code",
      "source": [
        "data1 = pd.read_csv(\"/content/drive/MyDrive/data_set for intrusion detection/KDDCup99.csv\")"
      ],
      "metadata": {
        "id": "Emw7Yzv3U97j"
      },
      "execution_count": 78,
      "outputs": []
    },
    {
      "cell_type": "code",
      "source": [
        "data1.head()"
      ],
      "metadata": {
        "colab": {
          "base_uri": "https://localhost:8080/",
          "height": 299
        },
        "id": "mj8F6RyNmcz4",
        "outputId": "a021fb6b-a696-445a-a5e1-36be119bcdc4"
      },
      "execution_count": 79,
      "outputs": [
        {
          "output_type": "execute_result",
          "data": {
            "text/plain": [
              "   id  duration protocol_type service flag  src_bytes  dst_bytes  land  \\\n",
              "0   1         0           tcp    http   SF        181       5450     0   \n",
              "1   2         0           tcp    http   SF        239        486     0   \n",
              "2   3         0           tcp    http   SF        235       1337     0   \n",
              "3   4         0           tcp    http   SF        219       1337     0   \n",
              "4   5         0           tcp    http   SF        217       2032     0   \n",
              "\n",
              "   wrong_fragment  urgent  ...  dst_host_srv_count  dst_host_same_srv_rate  \\\n",
              "0               0       0  ...                   9                     1.0   \n",
              "1               0       0  ...                  19                     1.0   \n",
              "2               0       0  ...                  29                     1.0   \n",
              "3               0       0  ...                  39                     1.0   \n",
              "4               0       0  ...                  49                     1.0   \n",
              "\n",
              "   dst_host_diff_srv_rate  dst_host_same_src_port_rate  \\\n",
              "0                     0.0                         0.11   \n",
              "1                     0.0                         0.05   \n",
              "2                     0.0                         0.03   \n",
              "3                     0.0                         0.03   \n",
              "4                     0.0                         0.02   \n",
              "\n",
              "   dst_host_srv_diff_host_rate  dst_host_serror_rate  \\\n",
              "0                          0.0                   0.0   \n",
              "1                          0.0                   0.0   \n",
              "2                          0.0                   0.0   \n",
              "3                          0.0                   0.0   \n",
              "4                          0.0                   0.0   \n",
              "\n",
              "   dst_host_srv_serror_rate  dst_host_rerror_rate  dst_host_srv_rerror_rate  \\\n",
              "0                       0.0                   0.0                       0.0   \n",
              "1                       0.0                   0.0                       0.0   \n",
              "2                       0.0                   0.0                       0.0   \n",
              "3                       0.0                   0.0                       0.0   \n",
              "4                       0.0                   0.0                       0.0   \n",
              "\n",
              "    label  \n",
              "0  normal  \n",
              "1  normal  \n",
              "2  normal  \n",
              "3  normal  \n",
              "4  normal  \n",
              "\n",
              "[5 rows x 43 columns]"
            ],
            "text/html": [
              "\n",
              "  <div id=\"df-b20a99b4-d7de-4e02-b9d7-f4654eb45317\">\n",
              "    <div class=\"colab-df-container\">\n",
              "      <div>\n",
              "<style scoped>\n",
              "    .dataframe tbody tr th:only-of-type {\n",
              "        vertical-align: middle;\n",
              "    }\n",
              "\n",
              "    .dataframe tbody tr th {\n",
              "        vertical-align: top;\n",
              "    }\n",
              "\n",
              "    .dataframe thead th {\n",
              "        text-align: right;\n",
              "    }\n",
              "</style>\n",
              "<table border=\"1\" class=\"dataframe\">\n",
              "  <thead>\n",
              "    <tr style=\"text-align: right;\">\n",
              "      <th></th>\n",
              "      <th>id</th>\n",
              "      <th>duration</th>\n",
              "      <th>protocol_type</th>\n",
              "      <th>service</th>\n",
              "      <th>flag</th>\n",
              "      <th>src_bytes</th>\n",
              "      <th>dst_bytes</th>\n",
              "      <th>land</th>\n",
              "      <th>wrong_fragment</th>\n",
              "      <th>urgent</th>\n",
              "      <th>...</th>\n",
              "      <th>dst_host_srv_count</th>\n",
              "      <th>dst_host_same_srv_rate</th>\n",
              "      <th>dst_host_diff_srv_rate</th>\n",
              "      <th>dst_host_same_src_port_rate</th>\n",
              "      <th>dst_host_srv_diff_host_rate</th>\n",
              "      <th>dst_host_serror_rate</th>\n",
              "      <th>dst_host_srv_serror_rate</th>\n",
              "      <th>dst_host_rerror_rate</th>\n",
              "      <th>dst_host_srv_rerror_rate</th>\n",
              "      <th>label</th>\n",
              "    </tr>\n",
              "  </thead>\n",
              "  <tbody>\n",
              "    <tr>\n",
              "      <th>0</th>\n",
              "      <td>1</td>\n",
              "      <td>0</td>\n",
              "      <td>tcp</td>\n",
              "      <td>http</td>\n",
              "      <td>SF</td>\n",
              "      <td>181</td>\n",
              "      <td>5450</td>\n",
              "      <td>0</td>\n",
              "      <td>0</td>\n",
              "      <td>0</td>\n",
              "      <td>...</td>\n",
              "      <td>9</td>\n",
              "      <td>1.0</td>\n",
              "      <td>0.0</td>\n",
              "      <td>0.11</td>\n",
              "      <td>0.0</td>\n",
              "      <td>0.0</td>\n",
              "      <td>0.0</td>\n",
              "      <td>0.0</td>\n",
              "      <td>0.0</td>\n",
              "      <td>normal</td>\n",
              "    </tr>\n",
              "    <tr>\n",
              "      <th>1</th>\n",
              "      <td>2</td>\n",
              "      <td>0</td>\n",
              "      <td>tcp</td>\n",
              "      <td>http</td>\n",
              "      <td>SF</td>\n",
              "      <td>239</td>\n",
              "      <td>486</td>\n",
              "      <td>0</td>\n",
              "      <td>0</td>\n",
              "      <td>0</td>\n",
              "      <td>...</td>\n",
              "      <td>19</td>\n",
              "      <td>1.0</td>\n",
              "      <td>0.0</td>\n",
              "      <td>0.05</td>\n",
              "      <td>0.0</td>\n",
              "      <td>0.0</td>\n",
              "      <td>0.0</td>\n",
              "      <td>0.0</td>\n",
              "      <td>0.0</td>\n",
              "      <td>normal</td>\n",
              "    </tr>\n",
              "    <tr>\n",
              "      <th>2</th>\n",
              "      <td>3</td>\n",
              "      <td>0</td>\n",
              "      <td>tcp</td>\n",
              "      <td>http</td>\n",
              "      <td>SF</td>\n",
              "      <td>235</td>\n",
              "      <td>1337</td>\n",
              "      <td>0</td>\n",
              "      <td>0</td>\n",
              "      <td>0</td>\n",
              "      <td>...</td>\n",
              "      <td>29</td>\n",
              "      <td>1.0</td>\n",
              "      <td>0.0</td>\n",
              "      <td>0.03</td>\n",
              "      <td>0.0</td>\n",
              "      <td>0.0</td>\n",
              "      <td>0.0</td>\n",
              "      <td>0.0</td>\n",
              "      <td>0.0</td>\n",
              "      <td>normal</td>\n",
              "    </tr>\n",
              "    <tr>\n",
              "      <th>3</th>\n",
              "      <td>4</td>\n",
              "      <td>0</td>\n",
              "      <td>tcp</td>\n",
              "      <td>http</td>\n",
              "      <td>SF</td>\n",
              "      <td>219</td>\n",
              "      <td>1337</td>\n",
              "      <td>0</td>\n",
              "      <td>0</td>\n",
              "      <td>0</td>\n",
              "      <td>...</td>\n",
              "      <td>39</td>\n",
              "      <td>1.0</td>\n",
              "      <td>0.0</td>\n",
              "      <td>0.03</td>\n",
              "      <td>0.0</td>\n",
              "      <td>0.0</td>\n",
              "      <td>0.0</td>\n",
              "      <td>0.0</td>\n",
              "      <td>0.0</td>\n",
              "      <td>normal</td>\n",
              "    </tr>\n",
              "    <tr>\n",
              "      <th>4</th>\n",
              "      <td>5</td>\n",
              "      <td>0</td>\n",
              "      <td>tcp</td>\n",
              "      <td>http</td>\n",
              "      <td>SF</td>\n",
              "      <td>217</td>\n",
              "      <td>2032</td>\n",
              "      <td>0</td>\n",
              "      <td>0</td>\n",
              "      <td>0</td>\n",
              "      <td>...</td>\n",
              "      <td>49</td>\n",
              "      <td>1.0</td>\n",
              "      <td>0.0</td>\n",
              "      <td>0.02</td>\n",
              "      <td>0.0</td>\n",
              "      <td>0.0</td>\n",
              "      <td>0.0</td>\n",
              "      <td>0.0</td>\n",
              "      <td>0.0</td>\n",
              "      <td>normal</td>\n",
              "    </tr>\n",
              "  </tbody>\n",
              "</table>\n",
              "<p>5 rows × 43 columns</p>\n",
              "</div>\n",
              "      <button class=\"colab-df-convert\" onclick=\"convertToInteractive('df-b20a99b4-d7de-4e02-b9d7-f4654eb45317')\"\n",
              "              title=\"Convert this dataframe to an interactive table.\"\n",
              "              style=\"display:none;\">\n",
              "        \n",
              "  <svg xmlns=\"http://www.w3.org/2000/svg\" height=\"24px\"viewBox=\"0 0 24 24\"\n",
              "       width=\"24px\">\n",
              "    <path d=\"M0 0h24v24H0V0z\" fill=\"none\"/>\n",
              "    <path d=\"M18.56 5.44l.94 2.06.94-2.06 2.06-.94-2.06-.94-.94-2.06-.94 2.06-2.06.94zm-11 1L8.5 8.5l.94-2.06 2.06-.94-2.06-.94L8.5 2.5l-.94 2.06-2.06.94zm10 10l.94 2.06.94-2.06 2.06-.94-2.06-.94-.94-2.06-.94 2.06-2.06.94z\"/><path d=\"M17.41 7.96l-1.37-1.37c-.4-.4-.92-.59-1.43-.59-.52 0-1.04.2-1.43.59L10.3 9.45l-7.72 7.72c-.78.78-.78 2.05 0 2.83L4 21.41c.39.39.9.59 1.41.59.51 0 1.02-.2 1.41-.59l7.78-7.78 2.81-2.81c.8-.78.8-2.07 0-2.86zM5.41 20L4 18.59l7.72-7.72 1.47 1.35L5.41 20z\"/>\n",
              "  </svg>\n",
              "      </button>\n",
              "      \n",
              "  <style>\n",
              "    .colab-df-container {\n",
              "      display:flex;\n",
              "      flex-wrap:wrap;\n",
              "      gap: 12px;\n",
              "    }\n",
              "\n",
              "    .colab-df-convert {\n",
              "      background-color: #E8F0FE;\n",
              "      border: none;\n",
              "      border-radius: 50%;\n",
              "      cursor: pointer;\n",
              "      display: none;\n",
              "      fill: #1967D2;\n",
              "      height: 32px;\n",
              "      padding: 0 0 0 0;\n",
              "      width: 32px;\n",
              "    }\n",
              "\n",
              "    .colab-df-convert:hover {\n",
              "      background-color: #E2EBFA;\n",
              "      box-shadow: 0px 1px 2px rgba(60, 64, 67, 0.3), 0px 1px 3px 1px rgba(60, 64, 67, 0.15);\n",
              "      fill: #174EA6;\n",
              "    }\n",
              "\n",
              "    [theme=dark] .colab-df-convert {\n",
              "      background-color: #3B4455;\n",
              "      fill: #D2E3FC;\n",
              "    }\n",
              "\n",
              "    [theme=dark] .colab-df-convert:hover {\n",
              "      background-color: #434B5C;\n",
              "      box-shadow: 0px 1px 3px 1px rgba(0, 0, 0, 0.15);\n",
              "      filter: drop-shadow(0px 1px 2px rgba(0, 0, 0, 0.3));\n",
              "      fill: #FFFFFF;\n",
              "    }\n",
              "  </style>\n",
              "\n",
              "      <script>\n",
              "        const buttonEl =\n",
              "          document.querySelector('#df-b20a99b4-d7de-4e02-b9d7-f4654eb45317 button.colab-df-convert');\n",
              "        buttonEl.style.display =\n",
              "          google.colab.kernel.accessAllowed ? 'block' : 'none';\n",
              "\n",
              "        async function convertToInteractive(key) {\n",
              "          const element = document.querySelector('#df-b20a99b4-d7de-4e02-b9d7-f4654eb45317');\n",
              "          const dataTable =\n",
              "            await google.colab.kernel.invokeFunction('convertToInteractive',\n",
              "                                                     [key], {});\n",
              "          if (!dataTable) return;\n",
              "\n",
              "          const docLinkHtml = 'Like what you see? Visit the ' +\n",
              "            '<a target=\"_blank\" href=https://colab.research.google.com/notebooks/data_table.ipynb>data table notebook</a>'\n",
              "            + ' to learn more about interactive tables.';\n",
              "          element.innerHTML = '';\n",
              "          dataTable['output_type'] = 'display_data';\n",
              "          await google.colab.output.renderOutput(dataTable, element);\n",
              "          const docLink = document.createElement('div');\n",
              "          docLink.innerHTML = docLinkHtml;\n",
              "          element.appendChild(docLink);\n",
              "        }\n",
              "      </script>\n",
              "    </div>\n",
              "  </div>\n",
              "  "
            ]
          },
          "metadata": {},
          "execution_count": 79
        }
      ]
    },
    {
      "cell_type": "code",
      "source": [
        "print(\"Train data has {} rows & {} columns\".format(data1.shape[0],data1.shape[1]))"
      ],
      "metadata": {
        "colab": {
          "base_uri": "https://localhost:8080/"
        },
        "id": "GOqzBrGRmo9T",
        "outputId": "5cfc0114-41dd-4713-b8a5-64c09f189ee3"
      },
      "execution_count": 80,
      "outputs": [
        {
          "output_type": "stream",
          "name": "stdout",
          "text": [
            "Train data has 494020 rows & 43 columns\n"
          ]
        }
      ]
    },
    {
      "cell_type": "code",
      "source": [
        "data1['label'].value_counts()"
      ],
      "metadata": {
        "colab": {
          "base_uri": "https://localhost:8080/"
        },
        "id": "H9GuPIGPnZvn",
        "outputId": "e6238641-1ba4-4c5d-c5d7-a13a758ab63a"
      },
      "execution_count": 81,
      "outputs": [
        {
          "output_type": "execute_result",
          "data": {
            "text/plain": [
              "smurf              280790\n",
              "neptune            107201\n",
              "normal              97277\n",
              "back                 2203\n",
              "satan                1589\n",
              "ipsweep              1247\n",
              "portsweep            1040\n",
              "warezclient          1020\n",
              "teardrop              979\n",
              "pod                   264\n",
              "nmap                  231\n",
              "guess_passwd           53\n",
              "buffer_overflow        30\n",
              "land                   21\n",
              "warezmaster            20\n",
              "imap                   12\n",
              "rootkit                10\n",
              "loadmodule              9\n",
              "ftp_write               8\n",
              "multihop                7\n",
              "phf                     4\n",
              "perl                    3\n",
              "spy                     2\n",
              "Name: label, dtype: int64"
            ]
          },
          "metadata": {},
          "execution_count": 81
        }
      ]
    },
    {
      "cell_type": "code",
      "source": [
        "plt.figure(figsize=(20,15))\n",
        "class_distribution = data1['label'].value_counts()\n",
        "class_distribution.plot(kind='bar')\n",
        "plt.xlabel('Label')\n",
        "plt.ylabel('Data points per Label')\n",
        "plt.title('Distribution of y in  data')\n",
        "plt.grid()\n",
        "plt.show()"
      ],
      "metadata": {
        "colab": {
          "base_uri": "https://localhost:8080/",
          "height": 961
        },
        "id": "94-za9NlNV7T",
        "outputId": "4f8d8528-0011-4d1a-ada2-677b57b0c4fb"
      },
      "execution_count": 82,
      "outputs": [
        {
          "output_type": "display_data",
          "data": {
            "text/plain": [
              "<Figure size 1440x1080 with 1 Axes>"
            ],
            "image/png": "[encoded data removed]"
          },
          "metadata": {
            "needs_background": "light"
          }
        }
      ]
    },
    {
      "cell_type": "code",
      "source": [
        "\n",
        "attacks_types = {\n",
        "    'normal': 'normal',\n",
        "'back': 'dos',\n",
        "'buffer_overflow': 'u2r',\n",
        "'ftp_write': 'r2l',\n",
        "'guess_passwd': 'r2l',\n",
        "'imap': 'r2l',\n",
        "'ipsweep': 'probe',\n",
        "'land': 'dos',\n",
        "'loadmodule': 'u2r',\n",
        "'multihop': 'r2l',\n",
        "'neptune': 'dos',\n",
        "'nmap': 'probe',\n",
        "'perl': 'u2r',\n",
        "'phf': 'r2l',\n",
        "'pod': 'dos',\n",
        "'portsweep': 'probe',\n",
        "'rootkit': 'u2r',\n",
        "'satan': 'probe',\n",
        "'smurf': 'dos',\n",
        "'spy': 'r2l',\n",
        "'teardrop': 'dos',\n",
        "'warezclient': 'r2l',\n",
        "'warezmaster': 'r2l',\n",
        "}"
      ],
      "metadata": {
        "id": "uqxLTAskNn_7"
      },
      "execution_count": 83,
      "outputs": []
    },
    {
      "cell_type": "code",
      "source": [
        "\n",
        "data1['label'] = data1['label'].apply(lambda v : attacks_types[v])"
      ],
      "metadata": {
        "id": "7lwHaENkNrJR"
      },
      "execution_count": 84,
      "outputs": []
    },
    {
      "cell_type": "code",
      "source": [
        "data1.head()"
      ],
      "metadata": {
        "colab": {
          "base_uri": "https://localhost:8080/",
          "height": 299
        },
        "id": "VduzPPhlO0f2",
        "outputId": "79bc4309-ccca-447a-e96a-2543b627bc39"
      },
      "execution_count": 85,
      "outputs": [
        {
          "output_type": "execute_result",
          "data": {
            "text/plain": [
              "   id  duration protocol_type service flag  src_bytes  dst_bytes  land  \\\n",
              "0   1         0           tcp    http   SF        181       5450     0   \n",
              "1   2         0           tcp    http   SF        239        486     0   \n",
              "2   3         0           tcp    http   SF        235       1337     0   \n",
              "3   4         0           tcp    http   SF        219       1337     0   \n",
              "4   5         0           tcp    http   SF        217       2032     0   \n",
              "\n",
              "   wrong_fragment  urgent  ...  dst_host_srv_count  dst_host_same_srv_rate  \\\n",
              "0               0       0  ...                   9                     1.0   \n",
              "1               0       0  ...                  19                     1.0   \n",
              "2               0       0  ...                  29                     1.0   \n",
              "3               0       0  ...                  39                     1.0   \n",
              "4               0       0  ...                  49                     1.0   \n",
              "\n",
              "   dst_host_diff_srv_rate  dst_host_same_src_port_rate  \\\n",
              "0                     0.0                         0.11   \n",
              "1                     0.0                         0.05   \n",
              "2                     0.0                         0.03   \n",
              "3                     0.0                         0.03   \n",
              "4                     0.0                         0.02   \n",
              "\n",
              "   dst_host_srv_diff_host_rate  dst_host_serror_rate  \\\n",
              "0                          0.0                   0.0   \n",
              "1                          0.0                   0.0   \n",
              "2                          0.0                   0.0   \n",
              "3                          0.0                   0.0   \n",
              "4                          0.0                   0.0   \n",
              "\n",
              "   dst_host_srv_serror_rate  dst_host_rerror_rate  dst_host_srv_rerror_rate  \\\n",
              "0                       0.0                   0.0                       0.0   \n",
              "1                       0.0                   0.0                       0.0   \n",
              "2                       0.0                   0.0                       0.0   \n",
              "3                       0.0                   0.0                       0.0   \n",
              "4                       0.0                   0.0                       0.0   \n",
              "\n",
              "    label  \n",
              "0  normal  \n",
              "1  normal  \n",
              "2  normal  \n",
              "3  normal  \n",
              "4  normal  \n",
              "\n",
              "[5 rows x 43 columns]"
            ],
            "text/html": [
              "\n",
              "  <div id=\"df-2d86f7ab-f38d-4ea9-adba-cf7d4f905acf\">\n",
              "    <div class=\"colab-df-container\">\n",
              "      <div>\n",
              "<style scoped>\n",
              "    .dataframe tbody tr th:only-of-type {\n",
              "        vertical-align: middle;\n",
              "    }\n",
              "\n",
              "    .dataframe tbody tr th {\n",
              "        vertical-align: top;\n",
              "    }\n",
              "\n",
              "    .dataframe thead th {\n",
              "        text-align: right;\n",
              "    }\n",
              "</style>\n",
              "<table border=\"1\" class=\"dataframe\">\n",
              "  <thead>\n",
              "    <tr style=\"text-align: right;\">\n",
              "      <th></th>\n",
              "      <th>id</th>\n",
              "      <th>duration</th>\n",
              "      <th>protocol_type</th>\n",
              "      <th>service</th>\n",
              "      <th>flag</th>\n",
              "      <th>src_bytes</th>\n",
              "      <th>dst_bytes</th>\n",
              "      <th>land</th>\n",
              "      <th>wrong_fragment</th>\n",
              "      <th>urgent</th>\n",
              "      <th>...</th>\n",
              "      <th>dst_host_srv_count</th>\n",
              "      <th>dst_host_same_srv_rate</th>\n",
              "      <th>dst_host_diff_srv_rate</th>\n",
              "      <th>dst_host_same_src_port_rate</th>\n",
              "      <th>dst_host_srv_diff_host_rate</th>\n",
              "      <th>dst_host_serror_rate</th>\n",
              "      <th>dst_host_srv_serror_rate</th>\n",
              "      <th>dst_host_rerror_rate</th>\n",
              "      <th>dst_host_srv_rerror_rate</th>\n",
              "      <th>label</th>\n",
              "    </tr>\n",
              "  </thead>\n",
              "  <tbody>\n",
              "    <tr>\n",
              "      <th>0</th>\n",
              "      <td>1</td>\n",
              "      <td>0</td>\n",
              "      <td>tcp</td>\n",
              "      <td>http</td>\n",
              "      <td>SF</td>\n",
              "      <td>181</td>\n",
              "      <td>5450</td>\n",
              "      <td>0</td>\n",
              "      <td>0</td>\n",
              "      <td>0</td>\n",
              "      <td>...</td>\n",
              "      <td>9</td>\n",
              "      <td>1.0</td>\n",
              "      <td>0.0</td>\n",
              "      <td>0.11</td>\n",
              "      <td>0.0</td>\n",
              "      <td>0.0</td>\n",
              "      <td>0.0</td>\n",
              "      <td>0.0</td>\n",
              "      <td>0.0</td>\n",
              "      <td>normal</td>\n",
              "    </tr>\n",
              "    <tr>\n",
              "      <th>1</th>\n",
              "      <td>2</td>\n",
              "      <td>0</td>\n",
              "      <td>tcp</td>\n",
              "      <td>http</td>\n",
              "      <td>SF</td>\n",
              "      <td>239</td>\n",
              "      <td>486</td>\n",
              "      <td>0</td>\n",
              "      <td>0</td>\n",
              "      <td>0</td>\n",
              "      <td>...</td>\n",
              "      <td>19</td>\n",
              "      <td>1.0</td>\n",
              "      <td>0.0</td>\n",
              "      <td>0.05</td>\n",
              "      <td>0.0</td>\n",
              "      <td>0.0</td>\n",
              "      <td>0.0</td>\n",
              "      <td>0.0</td>\n",
              "      <td>0.0</td>\n",
              "      <td>normal</td>\n",
              "    </tr>\n",
              "    <tr>\n",
              "      <th>2</th>\n",
              "      <td>3</td>\n",
              "      <td>0</td>\n",
              "      <td>tcp</td>\n",
              "      <td>http</td>\n",
              "      <td>SF</td>\n",
              "      <td>235</td>\n",
              "      <td>1337</td>\n",
              "      <td>0</td>\n",
              "      <td>0</td>\n",
              "      <td>0</td>\n",
              "      <td>...</td>\n",
              "      <td>29</td>\n",
              "      <td>1.0</td>\n",
              "      <td>0.0</td>\n",
              "      <td>0.03</td>\n",
              "      <td>0.0</td>\n",
              "      <td>0.0</td>\n",
              "      <td>0.0</td>\n",
              "      <td>0.0</td>\n",
              "      <td>0.0</td>\n",
              "      <td>normal</td>\n",
              "    </tr>\n",
              "    <tr>\n",
              "      <th>3</th>\n",
              "      <td>4</td>\n",
              "      <td>0</td>\n",
              "      <td>tcp</td>\n",
              "      <td>http</td>\n",
              "      <td>SF</td>\n",
              "      <td>219</td>\n",
              "      <td>1337</td>\n",
              "      <td>0</td>\n",
              "      <td>0</td>\n",
              "      <td>0</td>\n",
              "      <td>...</td>\n",
              "      <td>39</td>\n",
              "      <td>1.0</td>\n",
              "      <td>0.0</td>\n",
              "      <td>0.03</td>\n",
              "      <td>0.0</td>\n",
              "      <td>0.0</td>\n",
              "      <td>0.0</td>\n",
              "      <td>0.0</td>\n",
              "      <td>0.0</td>\n",
              "      <td>normal</td>\n",
              "    </tr>\n",
              "    <tr>\n",
              "      <th>4</th>\n",
              "      <td>5</td>\n",
              "      <td>0</td>\n",
              "      <td>tcp</td>\n",
              "      <td>http</td>\n",
              "      <td>SF</td>\n",
              "      <td>217</td>\n",
              "      <td>2032</td>\n",
              "      <td>0</td>\n",
              "      <td>0</td>\n",
              "      <td>0</td>\n",
              "      <td>...</td>\n",
              "      <td>49</td>\n",
              "      <td>1.0</td>\n",
              "      <td>0.0</td>\n",
              "      <td>0.02</td>\n",
              "      <td>0.0</td>\n",
              "      <td>0.0</td>\n",
              "      <td>0.0</td>\n",
              "      <td>0.0</td>\n",
              "      <td>0.0</td>\n",
              "      <td>normal</td>\n",
              "    </tr>\n",
              "  </tbody>\n",
              "</table>\n",
              "<p>5 rows × 43 columns</p>\n",
              "</div>\n",
              "      <button class=\"colab-df-convert\" onclick=\"convertToInteractive('df-2d86f7ab-f38d-4ea9-adba-cf7d4f905acf')\"\n",
              "              title=\"Convert this dataframe to an interactive table.\"\n",
              "              style=\"display:none;\">\n",
              "        \n",
              "  <svg xmlns=\"http://www.w3.org/2000/svg\" height=\"24px\"viewBox=\"0 0 24 24\"\n",
              "       width=\"24px\">\n",
              "    <path d=\"M0 0h24v24H0V0z\" fill=\"none\"/>\n",
              "    <path d=\"M18.56 5.44l.94 2.06.94-2.06 2.06-.94-2.06-.94-.94-2.06-.94 2.06-2.06.94zm-11 1L8.5 8.5l.94-2.06 2.06-.94-2.06-.94L8.5 2.5l-.94 2.06-2.06.94zm10 10l.94 2.06.94-2.06 2.06-.94-2.06-.94-.94-2.06-.94 2.06-2.06.94z\"/><path d=\"M17.41 7.96l-1.37-1.37c-.4-.4-.92-.59-1.43-.59-.52 0-1.04.2-1.43.59L10.3 9.45l-7.72 7.72c-.78.78-.78 2.05 0 2.83L4 21.41c.39.39.9.59 1.41.59.51 0 1.02-.2 1.41-.59l7.78-7.78 2.81-2.81c.8-.78.8-2.07 0-2.86zM5.41 20L4 18.59l7.72-7.72 1.47 1.35L5.41 20z\"/>\n",
              "  </svg>\n",
              "      </button>\n",
              "      \n",
              "  <style>\n",
              "    .colab-df-container {\n",
              "      display:flex;\n",
              "      flex-wrap:wrap;\n",
              "      gap: 12px;\n",
              "    }\n",
              "\n",
              "    .colab-df-convert {\n",
              "      background-color: #E8F0FE;\n",
              "      border: none;\n",
              "      border-radius: 50%;\n",
              "      cursor: pointer;\n",
              "      display: none;\n",
              "      fill: #1967D2;\n",
              "      height: 32px;\n",
              "      padding: 0 0 0 0;\n",
              "      width: 32px;\n",
              "    }\n",
              "\n",
              "    .colab-df-convert:hover {\n",
              "      background-color: #E2EBFA;\n",
              "      box-shadow: 0px 1px 2px rgba(60, 64, 67, 0.3), 0px 1px 3px 1px rgba(60, 64, 67, 0.15);\n",
              "      fill: #174EA6;\n",
              "    }\n",
              "\n",
              "    [theme=dark] .colab-df-convert {\n",
              "      background-color: #3B4455;\n",
              "      fill: #D2E3FC;\n",
              "    }\n",
              "\n",
              "    [theme=dark] .colab-df-convert:hover {\n",
              "      background-color: #434B5C;\n",
              "      box-shadow: 0px 1px 3px 1px rgba(0, 0, 0, 0.15);\n",
              "      filter: drop-shadow(0px 1px 2px rgba(0, 0, 0, 0.3));\n",
              "      fill: #FFFFFF;\n",
              "    }\n",
              "  </style>\n",
              "\n",
              "      <script>\n",
              "        const buttonEl =\n",
              "          document.querySelector('#df-2d86f7ab-f38d-4ea9-adba-cf7d4f905acf button.colab-df-convert');\n",
              "        buttonEl.style.display =\n",
              "          google.colab.kernel.accessAllowed ? 'block' : 'none';\n",
              "\n",
              "        async function convertToInteractive(key) {\n",
              "          const element = document.querySelector('#df-2d86f7ab-f38d-4ea9-adba-cf7d4f905acf');\n",
              "          const dataTable =\n",
              "            await google.colab.kernel.invokeFunction('convertToInteractive',\n",
              "                                                     [key], {});\n",
              "          if (!dataTable) return;\n",
              "\n",
              "          const docLinkHtml = 'Like what you see? Visit the ' +\n",
              "            '<a target=\"_blank\" href=https://colab.research.google.com/notebooks/data_table.ipynb>data table notebook</a>'\n",
              "            + ' to learn more about interactive tables.';\n",
              "          element.innerHTML = '';\n",
              "          dataTable['output_type'] = 'display_data';\n",
              "          await google.colab.output.renderOutput(dataTable, element);\n",
              "          const docLink = document.createElement('div');\n",
              "          docLink.innerHTML = docLinkHtml;\n",
              "          element.appendChild(docLink);\n",
              "        }\n",
              "      </script>\n",
              "    </div>\n",
              "  </div>\n",
              "  "
            ]
          },
          "metadata": {},
          "execution_count": 85
        }
      ]
    },
    {
      "cell_type": "code",
      "source": [
        "data1['label'].value_counts()"
      ],
      "metadata": {
        "colab": {
          "base_uri": "https://localhost:8080/"
        },
        "id": "FhVExjn5O7Ya",
        "outputId": "25d9b811-8380-44eb-8d6a-29a1f5c043ab"
      },
      "execution_count": 86,
      "outputs": [
        {
          "output_type": "execute_result",
          "data": {
            "text/plain": [
              "dos       391458\n",
              "normal     97277\n",
              "probe       4107\n",
              "r2l         1126\n",
              "u2r           52\n",
              "Name: label, dtype: int64"
            ]
          },
          "metadata": {},
          "execution_count": 86
        }
      ]
    },
    {
      "cell_type": "code",
      "source": [
        "plt.figure(figsize=(20,15))\n",
        "class_distribution = data1['label'].value_counts()\n",
        "class_distribution.plot(kind='bar')\n",
        "plt.xlabel('Label')\n",
        "plt.ylabel('Data points per Label')\n",
        "plt.title('Distribution of y in  data')\n",
        "plt.grid()\n",
        "plt.show()"
      ],
      "metadata": {
        "colab": {
          "base_uri": "https://localhost:8080/",
          "height": 918
        },
        "id": "b5C9wtBhPW5-",
        "outputId": "bb49113e-5ae7-4472-b785-e646a1fd87b7"
      },
      "execution_count": 87,
      "outputs": [
        {
          "output_type": "display_data",
          "data": {
            "text/plain": [
              "<Figure size 1440x1080 with 1 Axes>"
            ],
            "image/png": "[encoded data removed]"
          },
          "metadata": {
            "needs_background": "light"
          }
        }
      ]
    },
    {
      "cell_type": "code",
      "source": [
        "print(\"data has {} rows & {} columns\".format(data1.shape[0],data1.shape[1]))"
      ],
      "metadata": {
        "colab": {
          "base_uri": "https://localhost:8080/"
        },
        "id": "76PaFZIfrm0w",
        "outputId": "0a74baf7-5624-499b-b1c3-247b2e31aa49"
      },
      "execution_count": 88,
      "outputs": [
        {
          "output_type": "stream",
          "name": "stdout",
          "text": [
            "data has 494020 rows & 43 columns\n"
          ]
        }
      ]
    },
    {
      "cell_type": "code",
      "source": [
        "import seaborn as sns\n",
        "  \n",
        "data1 = data1[[col for col in data1 if data1[col].nunique() > 1]]\n",
        "corr = data1.corr()\n",
        "plt.figure(figsize =(15, 12))\n",
        "  \n",
        "sns.heatmap(corr)\n",
        "  \n",
        "plt.show()"
      ],
      "metadata": {
        "id": "ucuYAm1tfODg",
        "colab": {
          "base_uri": "https://localhost:8080/",
          "height": 838
        },
        "outputId": "544bb682-bb87-4ce9-c940-9a5b93177577"
      },
      "execution_count": 89,
      "outputs": [
        {
          "output_type": "display_data",
          "data": {
            "text/plain": [
              "<Figure size 1080x864 with 2 Axes>"
            ],
            "image/png": "[encoded data removed]"
          },
          "metadata": {
            "needs_background": "light"
          }
        }
      ]
    },
    {
      "cell_type": "code",
      "source": [
        "from sklearn.preprocessing import StandardScaler\n",
        "scaler = StandardScaler()\n",
        "\n",
        "# extract numerical attributes and scale it to have zero mean and unit variance  \n",
        "cols = data1.select_dtypes(include=['float64','int64']).columns\n",
        "sc_data = scaler.fit_transform(data1.select_dtypes(include=['float64','int64']))\n",
        "\n",
        "# turn the result back to a dataframe\n",
        "sc_dataframe1 = pd.DataFrame(sc_data, columns = cols)"
      ],
      "metadata": {
        "id": "RGjenghHrr1P"
      },
      "execution_count": 90,
      "outputs": []
    },
    {
      "cell_type": "code",
      "source": [
        "from sklearn.preprocessing import LabelEncoder\n",
        "encoder = LabelEncoder()\n",
        "\n",
        "# extract categorical attributes from data sets \n",
        "cat_data1 = data1.select_dtypes(include=['object']).copy()\n",
        "\n",
        "# encode the categorical attributes\n",
        "en_data1 = cat_data1.apply(encoder.fit_transform)\n"
      ],
      "metadata": {
        "id": "Q2d_hRr6sI89"
      },
      "execution_count": 91,
      "outputs": []
    },
    {
      "cell_type": "code",
      "source": [
        "data1_df = pd.concat([sc_dataframe1,en_data1],axis=1)\n",
        "data1_df.shape"
      ],
      "metadata": {
        "colab": {
          "base_uri": "https://localhost:8080/"
        },
        "id": "N7TKXESatJc9",
        "outputId": "3ba0077c-7740-4aa3-c804-187ddca2b127"
      },
      "execution_count": 92,
      "outputs": [
        {
          "output_type": "execute_result",
          "data": {
            "text/plain": [
              "(494020, 41)"
            ]
          },
          "metadata": {},
          "execution_count": 92
        }
      ]
    },
    {
      "cell_type": "code",
      "source": [
        "data1_df.describe()"
      ],
      "metadata": {
        "id": "oC9v6Ao94QdT",
        "colab": {
          "base_uri": "https://localhost:8080/",
          "height": 480
        },
        "outputId": "130a139b-c606-418e-d4ea-7d86b6e09d90"
      },
      "execution_count": 93,
      "outputs": [
        {
          "output_type": "execute_result",
          "data": {
            "text/plain": [
              "                 id      duration     src_bytes     dst_bytes          land  \\\n",
              "count  4.940200e+05  4.940200e+05  4.940200e+05  4.940200e+05  4.940200e+05   \n",
              "mean   3.313814e-17 -3.720849e-17 -4.818263e-19  1.369250e-17  7.479094e-18   \n",
              "std    1.000001e+00  1.000001e+00  1.000001e+00  1.000001e+00  1.000001e+00   \n",
              "min   -1.732047e+00 -6.779179e-02 -3.061688e-03 -2.628725e-02 -6.673424e-03   \n",
              "25%   -8.660237e-01 -6.779179e-02 -3.016152e-03 -2.628725e-02 -6.673424e-03   \n",
              "50%    0.000000e+00 -6.779179e-02 -2.535489e-03 -2.628725e-02 -6.673424e-03   \n",
              "75%    8.660237e-01 -6.779179e-02 -2.017384e-03 -2.628725e-02 -6.673424e-03   \n",
              "max    1.732047e+00  8.234731e+01  7.016393e+02  1.560109e+02  1.498481e+02   \n",
              "\n",
              "       wrong_fragment        urgent           hot  num_failed_logins  \\\n",
              "count    4.940200e+05  4.940200e+05  4.940200e+05       4.940200e+05   \n",
              "mean     3.428877e-17 -2.443291e-18 -2.876575e-17       5.968893e-18   \n",
              "std      1.000001e+00  1.000001e+00  1.000001e+00       1.000001e+00   \n",
              "min     -4.772023e-02 -2.571471e-03 -4.413596e-02      -9.782195e-03   \n",
              "25%     -4.772023e-02 -2.571471e-03 -4.413596e-02      -9.782195e-03   \n",
              "50%     -4.772023e-02 -2.571471e-03 -4.413596e-02      -9.782195e-03   \n",
              "75%     -4.772023e-02 -2.571471e-03 -4.413596e-02      -9.782195e-03   \n",
              "max      2.220661e+01  5.444366e+02  3.831400e+01       3.221635e+02   \n",
              "\n",
              "          logged_in  ...  dst_host_same_src_port_rate  \\\n",
              "count  4.940200e+05  ...                 4.940200e+05   \n",
              "mean  -9.941442e-17  ...                 2.107954e-16   \n",
              "std    1.000001e+00  ...                 1.000001e+00   \n",
              "min   -4.171889e-01  ...                -1.250624e+00   \n",
              "25%   -4.171889e-01  ...                -1.250624e+00   \n",
              "50%   -4.171889e-01  ...                 8.270455e-01   \n",
              "75%   -4.171889e-01  ...                 8.270455e-01   \n",
              "max    2.396996e+00  ...                 8.270455e-01   \n",
              "\n",
              "       dst_host_srv_diff_host_rate  dst_host_serror_rate  \\\n",
              "count                 4.940200e+05          4.940200e+05   \n",
              "mean                  8.284535e-18         -2.485361e-17   \n",
              "std                   1.000001e+00          1.000001e+00   \n",
              "min                  -1.586295e-01         -4.644182e-01   \n",
              "25%                  -1.586295e-01         -4.644182e-01   \n",
              "50%                  -1.586295e-01         -4.644182e-01   \n",
              "75%                  -1.586295e-01         -4.644182e-01   \n",
              "max                   2.357581e+01          2.163060e+00   \n",
              "\n",
              "       dst_host_srv_serror_rate  dst_host_rerror_rate  \\\n",
              "count              4.940200e+05          4.940200e+05   \n",
              "mean              -1.896238e-16          2.319670e-16   \n",
              "std                1.000001e+00          1.000001e+00   \n",
              "min               -4.632030e-01         -2.520398e-01   \n",
              "25%               -4.632030e-01         -2.520398e-01   \n",
              "50%               -4.632030e-01         -2.520398e-01   \n",
              "75%               -4.632030e-01         -2.520398e-01   \n",
              "max                2.162025e+00          4.084671e+00   \n",
              "\n",
              "       dst_host_srv_rerror_rate  protocol_type        service           flag  \\\n",
              "count              4.940200e+05  494020.000000  494020.000000  494020.000000   \n",
              "mean               1.146027e-16       0.467131      23.408896       7.842444   \n",
              "std                1.000001e+00       0.575606      13.538346       2.250855   \n",
              "min               -2.494643e-01       0.000000       0.000000       0.000000   \n",
              "25%               -2.494643e-01       0.000000      14.000000       9.000000   \n",
              "50%               -2.494643e-01       0.000000      14.000000       9.000000   \n",
              "75%               -2.494643e-01       1.000000      42.000000       9.000000   \n",
              "max                4.095711e+00       2.000000      65.000000      10.000000   \n",
              "\n",
              "               label  \n",
              "count  494020.000000  \n",
              "mean        0.220795  \n",
              "std         0.451232  \n",
              "min         0.000000  \n",
              "25%         0.000000  \n",
              "50%         0.000000  \n",
              "75%         0.000000  \n",
              "max         4.000000  \n",
              "\n",
              "[8 rows x 41 columns]"
            ],
            "text/html": [
              "\n",
              "  <div id=\"df-646d0e8b-be16-4dfd-b7b8-a3dd7281b857\">\n",
              "    <div class=\"colab-df-container\">\n",
              "      <div>\n",
              "<style scoped>\n",
              "    .dataframe tbody tr th:only-of-type {\n",
              "        vertical-align: middle;\n",
              "    }\n",
              "\n",
              "    .dataframe tbody tr th {\n",
              "        vertical-align: top;\n",
              "    }\n",
              "\n",
              "    .dataframe thead th {\n",
              "        text-align: right;\n",
              "    }\n",
              "</style>\n",
              "<table border=\"1\" class=\"dataframe\">\n",
              "  <thead>\n",
              "    <tr style=\"text-align: right;\">\n",
              "      <th></th>\n",
              "      <th>id</th>\n",
              "      <th>duration</th>\n",
              "      <th>src_bytes</th>\n",
              "      <th>dst_bytes</th>\n",
              "      <th>land</th>\n",
              "      <th>wrong_fragment</th>\n",
              "      <th>urgent</th>\n",
              "      <th>hot</th>\n",
              "      <th>num_failed_logins</th>\n",
              "      <th>logged_in</th>\n",
              "      <th>...</th>\n",
              "      <th>dst_host_same_src_port_rate</th>\n",
              "      <th>dst_host_srv_diff_host_rate</th>\n",
              "      <th>dst_host_serror_rate</th>\n",
              "      <th>dst_host_srv_serror_rate</th>\n",
              "      <th>dst_host_rerror_rate</th>\n",
              "      <th>dst_host_srv_rerror_rate</th>\n",
              "      <th>protocol_type</th>\n",
              "      <th>service</th>\n",
              "      <th>flag</th>\n",
              "      <th>label</th>\n",
              "    </tr>\n",
              "  </thead>\n",
              "  <tbody>\n",
              "    <tr>\n",
              "      <th>count</th>\n",
              "      <td>4.940200e+05</td>\n",
              "      <td>4.940200e+05</td>\n",
              "      <td>4.940200e+05</td>\n",
              "      <td>4.940200e+05</td>\n",
              "      <td>4.940200e+05</td>\n",
              "      <td>4.940200e+05</td>\n",
              "      <td>4.940200e+05</td>\n",
              "      <td>4.940200e+05</td>\n",
              "      <td>4.940200e+05</td>\n",
              "      <td>4.940200e+05</td>\n",
              "      <td>...</td>\n",
              "      <td>4.940200e+05</td>\n",
              "      <td>4.940200e+05</td>\n",
              "      <td>4.940200e+05</td>\n",
              "      <td>4.940200e+05</td>\n",
              "      <td>4.940200e+05</td>\n",
              "      <td>4.940200e+05</td>\n",
              "      <td>494020.000000</td>\n",
              "      <td>494020.000000</td>\n",
              "      <td>494020.000000</td>\n",
              "      <td>494020.000000</td>\n",
              "    </tr>\n",
              "    <tr>\n",
              "      <th>mean</th>\n",
              "      <td>3.313814e-17</td>\n",
              "      <td>-3.720849e-17</td>\n",
              "      <td>-4.818263e-19</td>\n",
              "      <td>1.369250e-17</td>\n",
              "      <td>7.479094e-18</td>\n",
              "      <td>3.428877e-17</td>\n",
              "      <td>-2.443291e-18</td>\n",
              "      <td>-2.876575e-17</td>\n",
              "      <td>5.968893e-18</td>\n",
              "      <td>-9.941442e-17</td>\n",
              "      <td>...</td>\n",
              "      <td>2.107954e-16</td>\n",
              "      <td>8.284535e-18</td>\n",
              "      <td>-2.485361e-17</td>\n",
              "      <td>-1.896238e-16</td>\n",
              "      <td>2.319670e-16</td>\n",
              "      <td>1.146027e-16</td>\n",
              "      <td>0.467131</td>\n",
              "      <td>23.408896</td>\n",
              "      <td>7.842444</td>\n",
              "      <td>0.220795</td>\n",
              "    </tr>\n",
              "    <tr>\n",
              "      <th>std</th>\n",
              "      <td>1.000001e+00</td>\n",
              "      <td>1.000001e+00</td>\n",
              "      <td>1.000001e+00</td>\n",
              "      <td>1.000001e+00</td>\n",
              "      <td>1.000001e+00</td>\n",
              "      <td>1.000001e+00</td>\n",
              "      <td>1.000001e+00</td>\n",
              "      <td>1.000001e+00</td>\n",
              "      <td>1.000001e+00</td>\n",
              "      <td>1.000001e+00</td>\n",
              "      <td>...</td>\n",
              "      <td>1.000001e+00</td>\n",
              "      <td>1.000001e+00</td>\n",
              "      <td>1.000001e+00</td>\n",
              "      <td>1.000001e+00</td>\n",
              "      <td>1.000001e+00</td>\n",
              "      <td>1.000001e+00</td>\n",
              "      <td>0.575606</td>\n",
              "      <td>13.538346</td>\n",
              "      <td>2.250855</td>\n",
              "      <td>0.451232</td>\n",
              "    </tr>\n",
              "    <tr>\n",
              "      <th>min</th>\n",
              "      <td>-1.732047e+00</td>\n",
              "      <td>-6.779179e-02</td>\n",
              "      <td>-3.061688e-03</td>\n",
              "      <td>-2.628725e-02</td>\n",
              "      <td>-6.673424e-03</td>\n",
              "      <td>-4.772023e-02</td>\n",
              "      <td>-2.571471e-03</td>\n",
              "      <td>-4.413596e-02</td>\n",
              "      <td>-9.782195e-03</td>\n",
              "      <td>-4.171889e-01</td>\n",
              "      <td>...</td>\n",
              "      <td>-1.250624e+00</td>\n",
              "      <td>-1.586295e-01</td>\n",
              "      <td>-4.644182e-01</td>\n",
              "      <td>-4.632030e-01</td>\n",
              "      <td>-2.520398e-01</td>\n",
              "      <td>-2.494643e-01</td>\n",
              "      <td>0.000000</td>\n",
              "      <td>0.000000</td>\n",
              "      <td>0.000000</td>\n",
              "      <td>0.000000</td>\n",
              "    </tr>\n",
              "    <tr>\n",
              "      <th>25%</th>\n",
              "      <td>-8.660237e-01</td>\n",
              "      <td>-6.779179e-02</td>\n",
              "      <td>-3.016152e-03</td>\n",
              "      <td>-2.628725e-02</td>\n",
              "      <td>-6.673424e-03</td>\n",
              "      <td>-4.772023e-02</td>\n",
              "      <td>-2.571471e-03</td>\n",
              "      <td>-4.413596e-02</td>\n",
              "      <td>-9.782195e-03</td>\n",
              "      <td>-4.171889e-01</td>\n",
              "      <td>...</td>\n",
              "      <td>-1.250624e+00</td>\n",
              "      <td>-1.586295e-01</td>\n",
              "      <td>-4.644182e-01</td>\n",
              "      <td>-4.632030e-01</td>\n",
              "      <td>-2.520398e-01</td>\n",
              "      <td>-2.494643e-01</td>\n",
              "      <td>0.000000</td>\n",
              "      <td>14.000000</td>\n",
              "      <td>9.000000</td>\n",
              "      <td>0.000000</td>\n",
              "    </tr>\n",
              "    <tr>\n",
              "      <th>50%</th>\n",
              "      <td>0.000000e+00</td>\n",
              "      <td>-6.779179e-02</td>\n",
              "      <td>-2.535489e-03</td>\n",
              "      <td>-2.628725e-02</td>\n",
              "      <td>-6.673424e-03</td>\n",
              "      <td>-4.772023e-02</td>\n",
              "      <td>-2.571471e-03</td>\n",
              "      <td>-4.413596e-02</td>\n",
              "      <td>-9.782195e-03</td>\n",
              "      <td>-4.171889e-01</td>\n",
              "      <td>...</td>\n",
              "      <td>8.270455e-01</td>\n",
              "      <td>-1.586295e-01</td>\n",
              "      <td>-4.644182e-01</td>\n",
              "      <td>-4.632030e-01</td>\n",
              "      <td>-2.520398e-01</td>\n",
              "      <td>-2.494643e-01</td>\n",
              "      <td>0.000000</td>\n",
              "      <td>14.000000</td>\n",
              "      <td>9.000000</td>\n",
              "      <td>0.000000</td>\n",
              "    </tr>\n",
              "    <tr>\n",
              "      <th>75%</th>\n",
              "      <td>8.660237e-01</td>\n",
              "      <td>-6.779179e-02</td>\n",
              "      <td>-2.017384e-03</td>\n",
              "      <td>-2.628725e-02</td>\n",
              "      <td>-6.673424e-03</td>\n",
              "      <td>-4.772023e-02</td>\n",
              "      <td>-2.571471e-03</td>\n",
              "      <td>-4.413596e-02</td>\n",
              "      <td>-9.782195e-03</td>\n",
              "      <td>-4.171889e-01</td>\n",
              "      <td>...</td>\n",
              "      <td>8.270455e-01</td>\n",
              "      <td>-1.586295e-01</td>\n",
              "      <td>-4.644182e-01</td>\n",
              "      <td>-4.632030e-01</td>\n",
              "      <td>-2.520398e-01</td>\n",
              "      <td>-2.494643e-01</td>\n",
              "      <td>1.000000</td>\n",
              "      <td>42.000000</td>\n",
              "      <td>9.000000</td>\n",
              "      <td>0.000000</td>\n",
              "    </tr>\n",
              "    <tr>\n",
              "      <th>max</th>\n",
              "      <td>1.732047e+00</td>\n",
              "      <td>8.234731e+01</td>\n",
              "      <td>7.016393e+02</td>\n",
              "      <td>1.560109e+02</td>\n",
              "      <td>1.498481e+02</td>\n",
              "      <td>2.220661e+01</td>\n",
              "      <td>5.444366e+02</td>\n",
              "      <td>3.831400e+01</td>\n",
              "      <td>3.221635e+02</td>\n",
              "      <td>2.396996e+00</td>\n",
              "      <td>...</td>\n",
              "      <td>8.270455e-01</td>\n",
              "      <td>2.357581e+01</td>\n",
              "      <td>2.163060e+00</td>\n",
              "      <td>2.162025e+00</td>\n",
              "      <td>4.084671e+00</td>\n",
              "      <td>4.095711e+00</td>\n",
              "      <td>2.000000</td>\n",
              "      <td>65.000000</td>\n",
              "      <td>10.000000</td>\n",
              "      <td>4.000000</td>\n",
              "    </tr>\n",
              "  </tbody>\n",
              "</table>\n",
              "<p>8 rows × 41 columns</p>\n",
              "</div>\n",
              "      <button class=\"colab-df-convert\" onclick=\"convertToInteractive('df-646d0e8b-be16-4dfd-b7b8-a3dd7281b857')\"\n",
              "              title=\"Convert this dataframe to an interactive table.\"\n",
              "              style=\"display:none;\">\n",
              "        \n",
              "  <svg xmlns=\"http://www.w3.org/2000/svg\" height=\"24px\"viewBox=\"0 0 24 24\"\n",
              "       width=\"24px\">\n",
              "    <path d=\"M0 0h24v24H0V0z\" fill=\"none\"/>\n",
              "    <path d=\"M18.56 5.44l.94 2.06.94-2.06 2.06-.94-2.06-.94-.94-2.06-.94 2.06-2.06.94zm-11 1L8.5 8.5l.94-2.06 2.06-.94-2.06-.94L8.5 2.5l-.94 2.06-2.06.94zm10 10l.94 2.06.94-2.06 2.06-.94-2.06-.94-.94-2.06-.94 2.06-2.06.94z\"/><path d=\"M17.41 7.96l-1.37-1.37c-.4-.4-.92-.59-1.43-.59-.52 0-1.04.2-1.43.59L10.3 9.45l-7.72 7.72c-.78.78-.78 2.05 0 2.83L4 21.41c.39.39.9.59 1.41.59.51 0 1.02-.2 1.41-.59l7.78-7.78 2.81-2.81c.8-.78.8-2.07 0-2.86zM5.41 20L4 18.59l7.72-7.72 1.47 1.35L5.41 20z\"/>\n",
              "  </svg>\n",
              "      </button>\n",
              "      \n",
              "  <style>\n",
              "    .colab-df-container {\n",
              "      display:flex;\n",
              "      flex-wrap:wrap;\n",
              "      gap: 12px;\n",
              "    }\n",
              "\n",
              "    .colab-df-convert {\n",
              "      background-color: #E8F0FE;\n",
              "      border: none;\n",
              "      border-radius: 50%;\n",
              "      cursor: pointer;\n",
              "      display: none;\n",
              "      fill: #1967D2;\n",
              "      height: 32px;\n",
              "      padding: 0 0 0 0;\n",
              "      width: 32px;\n",
              "    }\n",
              "\n",
              "    .colab-df-convert:hover {\n",
              "      background-color: #E2EBFA;\n",
              "      box-shadow: 0px 1px 2px rgba(60, 64, 67, 0.3), 0px 1px 3px 1px rgba(60, 64, 67, 0.15);\n",
              "      fill: #174EA6;\n",
              "    }\n",
              "\n",
              "    [theme=dark] .colab-df-convert {\n",
              "      background-color: #3B4455;\n",
              "      fill: #D2E3FC;\n",
              "    }\n",
              "\n",
              "    [theme=dark] .colab-df-convert:hover {\n",
              "      background-color: #434B5C;\n",
              "      box-shadow: 0px 1px 3px 1px rgba(0, 0, 0, 0.15);\n",
              "      filter: drop-shadow(0px 1px 2px rgba(0, 0, 0, 0.3));\n",
              "      fill: #FFFFFF;\n",
              "    }\n",
              "  </style>\n",
              "\n",
              "      <script>\n",
              "        const buttonEl =\n",
              "          document.querySelector('#df-646d0e8b-be16-4dfd-b7b8-a3dd7281b857 button.colab-df-convert');\n",
              "        buttonEl.style.display =\n",
              "          google.colab.kernel.accessAllowed ? 'block' : 'none';\n",
              "\n",
              "        async function convertToInteractive(key) {\n",
              "          const element = document.querySelector('#df-646d0e8b-be16-4dfd-b7b8-a3dd7281b857');\n",
              "          const dataTable =\n",
              "            await google.colab.kernel.invokeFunction('convertToInteractive',\n",
              "                                                     [key], {});\n",
              "          if (!dataTable) return;\n",
              "\n",
              "          const docLinkHtml = 'Like what you see? Visit the ' +\n",
              "            '<a target=\"_blank\" href=https://colab.research.google.com/notebooks/data_table.ipynb>data table notebook</a>'\n",
              "            + ' to learn more about interactive tables.';\n",
              "          element.innerHTML = '';\n",
              "          dataTable['output_type'] = 'display_data';\n",
              "          await google.colab.output.renderOutput(dataTable, element);\n",
              "          const docLink = document.createElement('div');\n",
              "          docLink.innerHTML = docLinkHtml;\n",
              "          element.appendChild(docLink);\n",
              "        }\n",
              "      </script>\n",
              "    </div>\n",
              "  </div>\n",
              "  "
            ]
          },
          "metadata": {},
          "execution_count": 93
        }
      ]
    },
    {
      "cell_type": "code",
      "source": [
        "data1_df.head()"
      ],
      "metadata": {
        "colab": {
          "base_uri": "https://localhost:8080/",
          "height": 299
        },
        "id": "c1Whab2j4hp_",
        "outputId": "b3b36f6d-1cd8-4a71-a5ed-104da4a861e1"
      },
      "execution_count": 94,
      "outputs": [
        {
          "output_type": "execute_result",
          "data": {
            "text/plain": [
              "         id  duration  src_bytes  dst_bytes      land  wrong_fragment  \\\n",
              "0 -1.732047 -0.067792  -0.002879   0.138664 -0.006673        -0.04772   \n",
              "1 -1.732040 -0.067792  -0.002820  -0.011578 -0.006673        -0.04772   \n",
              "2 -1.732033 -0.067792  -0.002824   0.014179 -0.006673        -0.04772   \n",
              "3 -1.732026 -0.067792  -0.002840   0.014179 -0.006673        -0.04772   \n",
              "4 -1.732019 -0.067792  -0.002842   0.035214 -0.006673        -0.04772   \n",
              "\n",
              "     urgent       hot  num_failed_logins  logged_in  ...  \\\n",
              "0 -0.002571 -0.044136          -0.009782   2.396996  ...   \n",
              "1 -0.002571 -0.044136          -0.009782   2.396996  ...   \n",
              "2 -0.002571 -0.044136          -0.009782   2.396996  ...   \n",
              "3 -0.002571 -0.044136          -0.009782   2.396996  ...   \n",
              "4 -0.002571 -0.044136          -0.009782   2.396996  ...   \n",
              "\n",
              "   dst_host_same_src_port_rate  dst_host_srv_diff_host_rate  \\\n",
              "0                    -1.022080                    -0.158629   \n",
              "1                    -1.146741                    -0.158629   \n",
              "2                    -1.188294                    -0.158629   \n",
              "3                    -1.188294                    -0.158629   \n",
              "4                    -1.209071                    -0.158629   \n",
              "\n",
              "   dst_host_serror_rate  dst_host_srv_serror_rate  dst_host_rerror_rate  \\\n",
              "0             -0.464418                 -0.463203              -0.25204   \n",
              "1             -0.464418                 -0.463203              -0.25204   \n",
              "2             -0.464418                 -0.463203              -0.25204   \n",
              "3             -0.464418                 -0.463203              -0.25204   \n",
              "4             -0.464418                 -0.463203              -0.25204   \n",
              "\n",
              "   dst_host_srv_rerror_rate  protocol_type  service  flag  label  \n",
              "0                 -0.249464              1       22     9      1  \n",
              "1                 -0.249464              1       22     9      1  \n",
              "2                 -0.249464              1       22     9      1  \n",
              "3                 -0.249464              1       22     9      1  \n",
              "4                 -0.249464              1       22     9      1  \n",
              "\n",
              "[5 rows x 41 columns]"
            ],
            "text/html": [
              "\n",
              "  <div id=\"df-2ecbcc71-f9dc-407b-bab4-97cc2a2309c6\">\n",
              "    <div class=\"colab-df-container\">\n",
              "      <div>\n",
              "<style scoped>\n",
              "    .dataframe tbody tr th:only-of-type {\n",
              "        vertical-align: middle;\n",
              "    }\n",
              "\n",
              "    .dataframe tbody tr th {\n",
              "        vertical-align: top;\n",
              "    }\n",
              "\n",
              "    .dataframe thead th {\n",
              "        text-align: right;\n",
              "    }\n",
              "</style>\n",
              "<table border=\"1\" class=\"dataframe\">\n",
              "  <thead>\n",
              "    <tr style=\"text-align: right;\">\n",
              "      <th></th>\n",
              "      <th>id</th>\n",
              "      <th>duration</th>\n",
              "      <th>src_bytes</th>\n",
              "      <th>dst_bytes</th>\n",
              "      <th>land</th>\n",
              "      <th>wrong_fragment</th>\n",
              "      <th>urgent</th>\n",
              "      <th>hot</th>\n",
              "      <th>num_failed_logins</th>\n",
              "      <th>logged_in</th>\n",
              "      <th>...</th>\n",
              "      <th>dst_host_same_src_port_rate</th>\n",
              "      <th>dst_host_srv_diff_host_rate</th>\n",
              "      <th>dst_host_serror_rate</th>\n",
              "      <th>dst_host_srv_serror_rate</th>\n",
              "      <th>dst_host_rerror_rate</th>\n",
              "      <th>dst_host_srv_rerror_rate</th>\n",
              "      <th>protocol_type</th>\n",
              "      <th>service</th>\n",
              "      <th>flag</th>\n",
              "      <th>label</th>\n",
              "    </tr>\n",
              "  </thead>\n",
              "  <tbody>\n",
              "    <tr>\n",
              "      <th>0</th>\n",
              "      <td>-1.732047</td>\n",
              "      <td>-0.067792</td>\n",
              "      <td>-0.002879</td>\n",
              "      <td>0.138664</td>\n",
              "      <td>-0.006673</td>\n",
              "      <td>-0.04772</td>\n",
              "      <td>-0.002571</td>\n",
              "      <td>-0.044136</td>\n",
              "      <td>-0.009782</td>\n",
              "      <td>2.396996</td>\n",
              "      <td>...</td>\n",
              "      <td>-1.022080</td>\n",
              "      <td>-0.158629</td>\n",
              "      <td>-0.464418</td>\n",
              "      <td>-0.463203</td>\n",
              "      <td>-0.25204</td>\n",
              "      <td>-0.249464</td>\n",
              "      <td>1</td>\n",
              "      <td>22</td>\n",
              "      <td>9</td>\n",
              "      <td>1</td>\n",
              "    </tr>\n",
              "    <tr>\n",
              "      <th>1</th>\n",
              "      <td>-1.732040</td>\n",
              "      <td>-0.067792</td>\n",
              "      <td>-0.002820</td>\n",
              "      <td>-0.011578</td>\n",
              "      <td>-0.006673</td>\n",
              "      <td>-0.04772</td>\n",
              "      <td>-0.002571</td>\n",
              "      <td>-0.044136</td>\n",
              "      <td>-0.009782</td>\n",
              "      <td>2.396996</td>\n",
              "      <td>...</td>\n",
              "      <td>-1.146741</td>\n",
              "      <td>-0.158629</td>\n",
              "      <td>-0.464418</td>\n",
              "      <td>-0.463203</td>\n",
              "      <td>-0.25204</td>\n",
              "      <td>-0.249464</td>\n",
              "      <td>1</td>\n",
              "      <td>22</td>\n",
              "      <td>9</td>\n",
              "      <td>1</td>\n",
              "    </tr>\n",
              "    <tr>\n",
              "      <th>2</th>\n",
              "      <td>-1.732033</td>\n",
              "      <td>-0.067792</td>\n",
              "      <td>-0.002824</td>\n",
              "      <td>0.014179</td>\n",
              "      <td>-0.006673</td>\n",
              "      <td>-0.04772</td>\n",
              "      <td>-0.002571</td>\n",
              "      <td>-0.044136</td>\n",
              "      <td>-0.009782</td>\n",
              "      <td>2.396996</td>\n",
              "      <td>...</td>\n",
              "      <td>-1.188294</td>\n",
              "      <td>-0.158629</td>\n",
              "      <td>-0.464418</td>\n",
              "      <td>-0.463203</td>\n",
              "      <td>-0.25204</td>\n",
              "      <td>-0.249464</td>\n",
              "      <td>1</td>\n",
              "      <td>22</td>\n",
              "      <td>9</td>\n",
              "      <td>1</td>\n",
              "    </tr>\n",
              "    <tr>\n",
              "      <th>3</th>\n",
              "      <td>-1.732026</td>\n",
              "      <td>-0.067792</td>\n",
              "      <td>-0.002840</td>\n",
              "      <td>0.014179</td>\n",
              "      <td>-0.006673</td>\n",
              "      <td>-0.04772</td>\n",
              "      <td>-0.002571</td>\n",
              "      <td>-0.044136</td>\n",
              "      <td>-0.009782</td>\n",
              "      <td>2.396996</td>\n",
              "      <td>...</td>\n",
              "      <td>-1.188294</td>\n",
              "      <td>-0.158629</td>\n",
              "      <td>-0.464418</td>\n",
              "      <td>-0.463203</td>\n",
              "      <td>-0.25204</td>\n",
              "      <td>-0.249464</td>\n",
              "      <td>1</td>\n",
              "      <td>22</td>\n",
              "      <td>9</td>\n",
              "      <td>1</td>\n",
              "    </tr>\n",
              "    <tr>\n",
              "      <th>4</th>\n",
              "      <td>-1.732019</td>\n",
              "      <td>-0.067792</td>\n",
              "      <td>-0.002842</td>\n",
              "      <td>0.035214</td>\n",
              "      <td>-0.006673</td>\n",
              "      <td>-0.04772</td>\n",
              "      <td>-0.002571</td>\n",
              "      <td>-0.044136</td>\n",
              "      <td>-0.009782</td>\n",
              "      <td>2.396996</td>\n",
              "      <td>...</td>\n",
              "      <td>-1.209071</td>\n",
              "      <td>-0.158629</td>\n",
              "      <td>-0.464418</td>\n",
              "      <td>-0.463203</td>\n",
              "      <td>-0.25204</td>\n",
              "      <td>-0.249464</td>\n",
              "      <td>1</td>\n",
              "      <td>22</td>\n",
              "      <td>9</td>\n",
              "      <td>1</td>\n",
              "    </tr>\n",
              "  </tbody>\n",
              "</table>\n",
              "<p>5 rows × 41 columns</p>\n",
              "</div>\n",
              "      <button class=\"colab-df-convert\" onclick=\"convertToInteractive('df-2ecbcc71-f9dc-407b-bab4-97cc2a2309c6')\"\n",
              "              title=\"Convert this dataframe to an interactive table.\"\n",
              "              style=\"display:none;\">\n",
              "        \n",
              "  <svg xmlns=\"http://www.w3.org/2000/svg\" height=\"24px\"viewBox=\"0 0 24 24\"\n",
              "       width=\"24px\">\n",
              "    <path d=\"M0 0h24v24H0V0z\" fill=\"none\"/>\n",
              "    <path d=\"M18.56 5.44l.94 2.06.94-2.06 2.06-.94-2.06-.94-.94-2.06-.94 2.06-2.06.94zm-11 1L8.5 8.5l.94-2.06 2.06-.94-2.06-.94L8.5 2.5l-.94 2.06-2.06.94zm10 10l.94 2.06.94-2.06 2.06-.94-2.06-.94-.94-2.06-.94 2.06-2.06.94z\"/><path d=\"M17.41 7.96l-1.37-1.37c-.4-.4-.92-.59-1.43-.59-.52 0-1.04.2-1.43.59L10.3 9.45l-7.72 7.72c-.78.78-.78 2.05 0 2.83L4 21.41c.39.39.9.59 1.41.59.51 0 1.02-.2 1.41-.59l7.78-7.78 2.81-2.81c.8-.78.8-2.07 0-2.86zM5.41 20L4 18.59l7.72-7.72 1.47 1.35L5.41 20z\"/>\n",
              "  </svg>\n",
              "      </button>\n",
              "      \n",
              "  <style>\n",
              "    .colab-df-container {\n",
              "      display:flex;\n",
              "      flex-wrap:wrap;\n",
              "      gap: 12px;\n",
              "    }\n",
              "\n",
              "    .colab-df-convert {\n",
              "      background-color: #E8F0FE;\n",
              "      border: none;\n",
              "      border-radius: 50%;\n",
              "      cursor: pointer;\n",
              "      display: none;\n",
              "      fill: #1967D2;\n",
              "      height: 32px;\n",
              "      padding: 0 0 0 0;\n",
              "      width: 32px;\n",
              "    }\n",
              "\n",
              "    .colab-df-convert:hover {\n",
              "      background-color: #E2EBFA;\n",
              "      box-shadow: 0px 1px 2px rgba(60, 64, 67, 0.3), 0px 1px 3px 1px rgba(60, 64, 67, 0.15);\n",
              "      fill: #174EA6;\n",
              "    }\n",
              "\n",
              "    [theme=dark] .colab-df-convert {\n",
              "      background-color: #3B4455;\n",
              "      fill: #D2E3FC;\n",
              "    }\n",
              "\n",
              "    [theme=dark] .colab-df-convert:hover {\n",
              "      background-color: #434B5C;\n",
              "      box-shadow: 0px 1px 3px 1px rgba(0, 0, 0, 0.15);\n",
              "      filter: drop-shadow(0px 1px 2px rgba(0, 0, 0, 0.3));\n",
              "      fill: #FFFFFF;\n",
              "    }\n",
              "  </style>\n",
              "\n",
              "      <script>\n",
              "        const buttonEl =\n",
              "          document.querySelector('#df-2ecbcc71-f9dc-407b-bab4-97cc2a2309c6 button.colab-df-convert');\n",
              "        buttonEl.style.display =\n",
              "          google.colab.kernel.accessAllowed ? 'block' : 'none';\n",
              "\n",
              "        async function convertToInteractive(key) {\n",
              "          const element = document.querySelector('#df-2ecbcc71-f9dc-407b-bab4-97cc2a2309c6');\n",
              "          const dataTable =\n",
              "            await google.colab.kernel.invokeFunction('convertToInteractive',\n",
              "                                                     [key], {});\n",
              "          if (!dataTable) return;\n",
              "\n",
              "          const docLinkHtml = 'Like what you see? Visit the ' +\n",
              "            '<a target=\"_blank\" href=https://colab.research.google.com/notebooks/data_table.ipynb>data table notebook</a>'\n",
              "            + ' to learn more about interactive tables.';\n",
              "          element.innerHTML = '';\n",
              "          dataTable['output_type'] = 'display_data';\n",
              "          await google.colab.output.renderOutput(dataTable, element);\n",
              "          const docLink = document.createElement('div');\n",
              "          docLink.innerHTML = docLinkHtml;\n",
              "          element.appendChild(docLink);\n",
              "        }\n",
              "      </script>\n",
              "    </div>\n",
              "  </div>\n",
              "  "
            ]
          },
          "metadata": {},
          "execution_count": 94
        }
      ]
    },
    {
      "cell_type": "code",
      "source": [
        "#dividing the data to 2 categories X and Y for training\n",
        "X = data1_df.drop(columns=['id','label'],axis=1)\n",
        "Y = data1_df['label']"
      ],
      "metadata": {
        "id": "QutvhN5m40XR"
      },
      "execution_count": 95,
      "outputs": []
    },
    {
      "cell_type": "code",
      "source": [
        "X.head()"
      ],
      "metadata": {
        "colab": {
          "base_uri": "https://localhost:8080/",
          "height": 299
        },
        "id": "TcW3zyIeT9Uz",
        "outputId": "1c832257-79ab-4fb9-c28c-7fabf4af3451"
      },
      "execution_count": 96,
      "outputs": [
        {
          "output_type": "execute_result",
          "data": {
            "text/plain": [
              "   duration  src_bytes  dst_bytes      land  wrong_fragment    urgent  \\\n",
              "0 -0.067792  -0.002879   0.138664 -0.006673        -0.04772 -0.002571   \n",
              "1 -0.067792  -0.002820  -0.011578 -0.006673        -0.04772 -0.002571   \n",
              "2 -0.067792  -0.002824   0.014179 -0.006673        -0.04772 -0.002571   \n",
              "3 -0.067792  -0.002840   0.014179 -0.006673        -0.04772 -0.002571   \n",
              "4 -0.067792  -0.002842   0.035214 -0.006673        -0.04772 -0.002571   \n",
              "\n",
              "        hot  num_failed_logins  logged_in  lnum_compromised  ...  \\\n",
              "0 -0.044136          -0.009782   2.396996         -0.005679  ...   \n",
              "1 -0.044136          -0.009782   2.396996         -0.005679  ...   \n",
              "2 -0.044136          -0.009782   2.396996         -0.005679  ...   \n",
              "3 -0.044136          -0.009782   2.396996         -0.005679  ...   \n",
              "4 -0.044136          -0.009782   2.396996         -0.005679  ...   \n",
              "\n",
              "   dst_host_diff_srv_rate  dst_host_same_src_port_rate  \\\n",
              "0               -0.282867                    -1.022080   \n",
              "1               -0.282867                    -1.146741   \n",
              "2               -0.282867                    -1.188294   \n",
              "3               -0.282867                    -1.188294   \n",
              "4               -0.282867                    -1.209071   \n",
              "\n",
              "   dst_host_srv_diff_host_rate  dst_host_serror_rate  \\\n",
              "0                    -0.158629             -0.464418   \n",
              "1                    -0.158629             -0.464418   \n",
              "2                    -0.158629             -0.464418   \n",
              "3                    -0.158629             -0.464418   \n",
              "4                    -0.158629             -0.464418   \n",
              "\n",
              "   dst_host_srv_serror_rate  dst_host_rerror_rate  dst_host_srv_rerror_rate  \\\n",
              "0                 -0.463203              -0.25204                 -0.249464   \n",
              "1                 -0.463203              -0.25204                 -0.249464   \n",
              "2                 -0.463203              -0.25204                 -0.249464   \n",
              "3                 -0.463203              -0.25204                 -0.249464   \n",
              "4                 -0.463203              -0.25204                 -0.249464   \n",
              "\n",
              "   protocol_type  service  flag  \n",
              "0              1       22     9  \n",
              "1              1       22     9  \n",
              "2              1       22     9  \n",
              "3              1       22     9  \n",
              "4              1       22     9  \n",
              "\n",
              "[5 rows x 39 columns]"
            ],
            "text/html": [
              "\n",
              "  <div id=\"df-606e6281-f737-4af1-bc6a-2181066c374f\">\n",
              "    <div class=\"colab-df-container\">\n",
              "      <div>\n",
              "<style scoped>\n",
              "    .dataframe tbody tr th:only-of-type {\n",
              "        vertical-align: middle;\n",
              "    }\n",
              "\n",
              "    .dataframe tbody tr th {\n",
              "        vertical-align: top;\n",
              "    }\n",
              "\n",
              "    .dataframe thead th {\n",
              "        text-align: right;\n",
              "    }\n",
              "</style>\n",
              "<table border=\"1\" class=\"dataframe\">\n",
              "  <thead>\n",
              "    <tr style=\"text-align: right;\">\n",
              "      <th></th>\n",
              "      <th>duration</th>\n",
              "      <th>src_bytes</th>\n",
              "      <th>dst_bytes</th>\n",
              "      <th>land</th>\n",
              "      <th>wrong_fragment</th>\n",
              "      <th>urgent</th>\n",
              "      <th>hot</th>\n",
              "      <th>num_failed_logins</th>\n",
              "      <th>logged_in</th>\n",
              "      <th>lnum_compromised</th>\n",
              "      <th>...</th>\n",
              "      <th>dst_host_diff_srv_rate</th>\n",
              "      <th>dst_host_same_src_port_rate</th>\n",
              "      <th>dst_host_srv_diff_host_rate</th>\n",
              "      <th>dst_host_serror_rate</th>\n",
              "      <th>dst_host_srv_serror_rate</th>\n",
              "      <th>dst_host_rerror_rate</th>\n",
              "      <th>dst_host_srv_rerror_rate</th>\n",
              "      <th>protocol_type</th>\n",
              "      <th>service</th>\n",
              "      <th>flag</th>\n",
              "    </tr>\n",
              "  </thead>\n",
              "  <tbody>\n",
              "    <tr>\n",
              "      <th>0</th>\n",
              "      <td>-0.067792</td>\n",
              "      <td>-0.002879</td>\n",
              "      <td>0.138664</td>\n",
              "      <td>-0.006673</td>\n",
              "      <td>-0.04772</td>\n",
              "      <td>-0.002571</td>\n",
              "      <td>-0.044136</td>\n",
              "      <td>-0.009782</td>\n",
              "      <td>2.396996</td>\n",
              "      <td>-0.005679</td>\n",
              "      <td>...</td>\n",
              "      <td>-0.282867</td>\n",
              "      <td>-1.022080</td>\n",
              "      <td>-0.158629</td>\n",
              "      <td>-0.464418</td>\n",
              "      <td>-0.463203</td>\n",
              "      <td>-0.25204</td>\n",
              "      <td>-0.249464</td>\n",
              "      <td>1</td>\n",
              "      <td>22</td>\n",
              "      <td>9</td>\n",
              "    </tr>\n",
              "    <tr>\n",
              "      <th>1</th>\n",
              "      <td>-0.067792</td>\n",
              "      <td>-0.002820</td>\n",
              "      <td>-0.011578</td>\n",
              "      <td>-0.006673</td>\n",
              "      <td>-0.04772</td>\n",
              "      <td>-0.002571</td>\n",
              "      <td>-0.044136</td>\n",
              "      <td>-0.009782</td>\n",
              "      <td>2.396996</td>\n",
              "      <td>-0.005679</td>\n",
              "      <td>...</td>\n",
              "      <td>-0.282867</td>\n",
              "      <td>-1.146741</td>\n",
              "      <td>-0.158629</td>\n",
              "      <td>-0.464418</td>\n",
              "      <td>-0.463203</td>\n",
              "      <td>-0.25204</td>\n",
              "      <td>-0.249464</td>\n",
              "      <td>1</td>\n",
              "      <td>22</td>\n",
              "      <td>9</td>\n",
              "    </tr>\n",
              "    <tr>\n",
              "      <th>2</th>\n",
              "      <td>-0.067792</td>\n",
              "      <td>-0.002824</td>\n",
              "      <td>0.014179</td>\n",
              "      <td>-0.006673</td>\n",
              "      <td>-0.04772</td>\n",
              "      <td>-0.002571</td>\n",
              "      <td>-0.044136</td>\n",
              "      <td>-0.009782</td>\n",
              "      <td>2.396996</td>\n",
              "      <td>-0.005679</td>\n",
              "      <td>...</td>\n",
              "      <td>-0.282867</td>\n",
              "      <td>-1.188294</td>\n",
              "      <td>-0.158629</td>\n",
              "      <td>-0.464418</td>\n",
              "      <td>-0.463203</td>\n",
              "      <td>-0.25204</td>\n",
              "      <td>-0.249464</td>\n",
              "      <td>1</td>\n",
              "      <td>22</td>\n",
              "      <td>9</td>\n",
              "    </tr>\n",
              "    <tr>\n",
              "      <th>3</th>\n",
              "      <td>-0.067792</td>\n",
              "      <td>-0.002840</td>\n",
              "      <td>0.014179</td>\n",
              "      <td>-0.006673</td>\n",
              "      <td>-0.04772</td>\n",
              "      <td>-0.002571</td>\n",
              "      <td>-0.044136</td>\n",
              "      <td>-0.009782</td>\n",
              "      <td>2.396996</td>\n",
              "      <td>-0.005679</td>\n",
              "      <td>...</td>\n",
              "      <td>-0.282867</td>\n",
              "      <td>-1.188294</td>\n",
              "      <td>-0.158629</td>\n",
              "      <td>-0.464418</td>\n",
              "      <td>-0.463203</td>\n",
              "      <td>-0.25204</td>\n",
              "      <td>-0.249464</td>\n",
              "      <td>1</td>\n",
              "      <td>22</td>\n",
              "      <td>9</td>\n",
              "    </tr>\n",
              "    <tr>\n",
              "      <th>4</th>\n",
              "      <td>-0.067792</td>\n",
              "      <td>-0.002842</td>\n",
              "      <td>0.035214</td>\n",
              "      <td>-0.006673</td>\n",
              "      <td>-0.04772</td>\n",
              "      <td>-0.002571</td>\n",
              "      <td>-0.044136</td>\n",
              "      <td>-0.009782</td>\n",
              "      <td>2.396996</td>\n",
              "      <td>-0.005679</td>\n",
              "      <td>...</td>\n",
              "      <td>-0.282867</td>\n",
              "      <td>-1.209071</td>\n",
              "      <td>-0.158629</td>\n",
              "      <td>-0.464418</td>\n",
              "      <td>-0.463203</td>\n",
              "      <td>-0.25204</td>\n",
              "      <td>-0.249464</td>\n",
              "      <td>1</td>\n",
              "      <td>22</td>\n",
              "      <td>9</td>\n",
              "    </tr>\n",
              "  </tbody>\n",
              "</table>\n",
              "<p>5 rows × 39 columns</p>\n",
              "</div>\n",
              "      <button class=\"colab-df-convert\" onclick=\"convertToInteractive('df-606e6281-f737-4af1-bc6a-2181066c374f')\"\n",
              "              title=\"Convert this dataframe to an interactive table.\"\n",
              "              style=\"display:none;\">\n",
              "        \n",
              "  <svg xmlns=\"http://www.w3.org/2000/svg\" height=\"24px\"viewBox=\"0 0 24 24\"\n",
              "       width=\"24px\">\n",
              "    <path d=\"M0 0h24v24H0V0z\" fill=\"none\"/>\n",
              "    <path d=\"M18.56 5.44l.94 2.06.94-2.06 2.06-.94-2.06-.94-.94-2.06-.94 2.06-2.06.94zm-11 1L8.5 8.5l.94-2.06 2.06-.94-2.06-.94L8.5 2.5l-.94 2.06-2.06.94zm10 10l.94 2.06.94-2.06 2.06-.94-2.06-.94-.94-2.06-.94 2.06-2.06.94z\"/><path d=\"M17.41 7.96l-1.37-1.37c-.4-.4-.92-.59-1.43-.59-.52 0-1.04.2-1.43.59L10.3 9.45l-7.72 7.72c-.78.78-.78 2.05 0 2.83L4 21.41c.39.39.9.59 1.41.59.51 0 1.02-.2 1.41-.59l7.78-7.78 2.81-2.81c.8-.78.8-2.07 0-2.86zM5.41 20L4 18.59l7.72-7.72 1.47 1.35L5.41 20z\"/>\n",
              "  </svg>\n",
              "      </button>\n",
              "      \n",
              "  <style>\n",
              "    .colab-df-container {\n",
              "      display:flex;\n",
              "      flex-wrap:wrap;\n",
              "      gap: 12px;\n",
              "    }\n",
              "\n",
              "    .colab-df-convert {\n",
              "      background-color: #E8F0FE;\n",
              "      border: none;\n",
              "      border-radius: 50%;\n",
              "      cursor: pointer;\n",
              "      display: none;\n",
              "      fill: #1967D2;\n",
              "      height: 32px;\n",
              "      padding: 0 0 0 0;\n",
              "      width: 32px;\n",
              "    }\n",
              "\n",
              "    .colab-df-convert:hover {\n",
              "      background-color: #E2EBFA;\n",
              "      box-shadow: 0px 1px 2px rgba(60, 64, 67, 0.3), 0px 1px 3px 1px rgba(60, 64, 67, 0.15);\n",
              "      fill: #174EA6;\n",
              "    }\n",
              "\n",
              "    [theme=dark] .colab-df-convert {\n",
              "      background-color: #3B4455;\n",
              "      fill: #D2E3FC;\n",
              "    }\n",
              "\n",
              "    [theme=dark] .colab-df-convert:hover {\n",
              "      background-color: #434B5C;\n",
              "      box-shadow: 0px 1px 3px 1px rgba(0, 0, 0, 0.15);\n",
              "      filter: drop-shadow(0px 1px 2px rgba(0, 0, 0, 0.3));\n",
              "      fill: #FFFFFF;\n",
              "    }\n",
              "  </style>\n",
              "\n",
              "      <script>\n",
              "        const buttonEl =\n",
              "          document.querySelector('#df-606e6281-f737-4af1-bc6a-2181066c374f button.colab-df-convert');\n",
              "        buttonEl.style.display =\n",
              "          google.colab.kernel.accessAllowed ? 'block' : 'none';\n",
              "\n",
              "        async function convertToInteractive(key) {\n",
              "          const element = document.querySelector('#df-606e6281-f737-4af1-bc6a-2181066c374f');\n",
              "          const dataTable =\n",
              "            await google.colab.kernel.invokeFunction('convertToInteractive',\n",
              "                                                     [key], {});\n",
              "          if (!dataTable) return;\n",
              "\n",
              "          const docLinkHtml = 'Like what you see? Visit the ' +\n",
              "            '<a target=\"_blank\" href=https://colab.research.google.com/notebooks/data_table.ipynb>data table notebook</a>'\n",
              "            + ' to learn more about interactive tables.';\n",
              "          element.innerHTML = '';\n",
              "          dataTable['output_type'] = 'display_data';\n",
              "          await google.colab.output.renderOutput(dataTable, element);\n",
              "          const docLink = document.createElement('div');\n",
              "          docLink.innerHTML = docLinkHtml;\n",
              "          element.appendChild(docLink);\n",
              "        }\n",
              "      </script>\n",
              "    </div>\n",
              "  </div>\n",
              "  "
            ]
          },
          "metadata": {},
          "execution_count": 96
        }
      ]
    },
    {
      "cell_type": "code",
      "source": [
        "Y.head()"
      ],
      "metadata": {
        "colab": {
          "base_uri": "https://localhost:8080/"
        },
        "id": "qFkSJNJpUBaB",
        "outputId": "83625987-0cfc-4034-e740-9107a0f68364"
      },
      "execution_count": 97,
      "outputs": [
        {
          "output_type": "execute_result",
          "data": {
            "text/plain": [
              "0    1\n",
              "1    1\n",
              "2    1\n",
              "3    1\n",
              "4    1\n",
              "Name: label, dtype: int64"
            ]
          },
          "metadata": {},
          "execution_count": 97
        }
      ]
    },
    {
      "cell_type": "code",
      "source": [
        "from sklearn.model_selection import train_test_split\n",
        "x_train,x_test,y_train,y_test = train_test_split(X,Y,test_size=0.2,random_state=2)"
      ],
      "metadata": {
        "id": "DqFG0PIL5krG"
      },
      "execution_count": 98,
      "outputs": []
    },
    {
      "cell_type": "code",
      "source": [
        "from sklearn.ensemble import RandomForestClassifier\n",
        "rfc = RandomForestClassifier();\n",
        "\n",
        "# fit random forest classifier on the training set\n",
        "rfc.fit(x_train,y_train);\n",
        "# extract important features\n",
        "score = np.round(rfc.feature_importances_,3)\n",
        "importances = pd.DataFrame({'feature':x_train.columns,'importance':score})\n",
        "importances = importances.sort_values('importance',ascending=False).set_index('feature')\n",
        "# plot importances\n",
        "plt.rcParams['figure.figsize'] = (11, 4)\n",
        "importances.plot.bar(); "
      ],
      "metadata": {
        "colab": {
          "base_uri": "https://localhost:8080/",
          "height": 414
        },
        "id": "Bat55kwj6Dyc",
        "outputId": "e9f38a0c-f5eb-4318-f463-eb1f24f836e7"
      },
      "execution_count": 99,
      "outputs": [
        {
          "output_type": "display_data",
          "data": {
            "text/plain": [
              "<Figure size 792x288 with 1 Axes>"
            ],
            "image/png": "[encoded data removed]"
          },
          "metadata": {
            "needs_background": "light"
          }
        }
      ]
    },
    {
      "cell_type": "markdown",
      "source": [
        "selecting the important feature by dividing the actual data set into train and test data set\n",
        "and only  using the train data set we plot the importance of the data"
      ],
      "metadata": {
        "id": "tO5RrQ96agUa"
      }
    },
    {
      "cell_type": "code",
      "source": [
        "from sklearn.feature_selection import RFE\n",
        "import itertools\n",
        "rfc = RandomForestClassifier()\n",
        "\n",
        "# create the RFE model and select 15 attributes\n",
        "rfe = RFE(rfc, n_features_to_select=15)\n",
        "rfe = rfe.fit(x_train, y_train)\n"
      ],
      "metadata": {
        "id": "eqOxCP2H9Uqj"
      },
      "execution_count": 100,
      "outputs": []
    },
    {
      "cell_type": "code",
      "source": [
        "\n",
        "# summarize the selection of the attributes\n",
        "feature_map = [(i, v) for i, v in itertools.zip_longest(rfe.get_support(), x_train.columns)]\n",
        "selected_features = [v for i, v in feature_map if i==True]\n",
        "\n",
        "selected_features"
      ],
      "metadata": {
        "colab": {
          "base_uri": "https://localhost:8080/"
        },
        "id": "b_Qwm-rS9_cG",
        "outputId": "40f402f1-722d-4c2a-b723-30f750135e68"
      },
      "execution_count": 101,
      "outputs": [
        {
          "output_type": "execute_result",
          "data": {
            "text/plain": [
              "['src_bytes',\n",
              " 'dst_bytes',\n",
              " 'logged_in',\n",
              " 'lnum_compromised',\n",
              " 'count',\n",
              " 'srv_count',\n",
              " 'same_srv_rate',\n",
              " 'diff_srv_rate',\n",
              " 'dst_host_count',\n",
              " 'dst_host_same_srv_rate',\n",
              " 'dst_host_diff_srv_rate',\n",
              " 'dst_host_same_src_port_rate',\n",
              " 'dst_host_srv_diff_host_rate',\n",
              " 'protocol_type',\n",
              " 'flag']"
            ]
          },
          "metadata": {},
          "execution_count": 101
        }
      ]
    },
    {
      "cell_type": "code",
      "source": [
        "x_train.shape"
      ],
      "metadata": {
        "colab": {
          "base_uri": "https://localhost:8080/"
        },
        "id": "xx9fciM7Dtad",
        "outputId": "461c43e3-9068-4052-f9c3-344e8b7e3dde"
      },
      "execution_count": 102,
      "outputs": [
        {
          "output_type": "execute_result",
          "data": {
            "text/plain": [
              "(395216, 39)"
            ]
          },
          "metadata": {},
          "execution_count": 102
        }
      ]
    },
    {
      "cell_type": "code",
      "source": [
        "#from sklearn.svm import SVC \n",
        "#\n",
        "\n",
        "#from sklearn.model_selection import cross_val_score\n",
        "# from sklearn.neighbors import K-NeighborsClassifier\n",
        "# from sklearn.linear_model import LogisticRegression\n",
        "\n",
        "\n"
      ],
      "metadata": {
        "id": "e240KZwECl2F"
      },
      "execution_count": 103,
      "outputs": []
    },
    {
      "cell_type": "markdown",
      "source": [
        ""
      ],
      "metadata": {
        "id": "t5kpog-dDEiO"
      }
    },
    {
      "cell_type": "code",
      "source": [
        "from sklearn import tree\n",
        "# Train Decision Tree Model\n",
        "DTC_Classifier = tree.DecisionTreeClassifier(criterion='entropy', random_state=0)\n",
        "DTC_Classifier.fit(x_train, y_train)"
      ],
      "metadata": {
        "colab": {
          "base_uri": "https://localhost:8080/"
        },
        "id": "o-GfLs45dUSA",
        "outputId": "fa65000f-d243-4e8c-af19-0d63418fd35f"
      },
      "execution_count": 104,
      "outputs": [
        {
          "output_type": "execute_result",
          "data": {
            "text/plain": [
              "DecisionTreeClassifier(criterion='entropy', random_state=0)"
            ]
          },
          "metadata": {},
          "execution_count": 104
        }
      ]
    },
    {
      "cell_type": "code",
      "source": [
        "# \n",
        "from sklearn.naive_bayes import BernoulliNB \n",
        "# Train Gaussian Naive Baye Model\n",
        "BNB_Classifier = BernoulliNB()\n",
        "BNB_Classifier.fit(x_train, y_train)"
      ],
      "metadata": {
        "colab": {
          "base_uri": "https://localhost:8080/"
        },
        "id": "IJgkd6L3YTT8",
        "outputId": "2a4cbaef-8492-4c26-dc57-276e8baccd78"
      },
      "execution_count": 105,
      "outputs": [
        {
          "output_type": "execute_result",
          "data": {
            "text/plain": [
              "BernoulliNB()"
            ]
          },
          "metadata": {},
          "execution_count": 105
        }
      ]
    },
    {
      "cell_type": "code",
      "source": [
        ""
      ],
      "metadata": {
        "id": "zZffsfqQYca8"
      },
      "execution_count": 105,
      "outputs": []
    },
    {
      "cell_type": "code",
      "source": [
        "from sklearn import metrics\n",
        "\n",
        "accuracy = metrics.accuracy_score(y_train, DTC_Classifier.predict(x_train))\n",
        "\n",
        "print(f\"Accuracy = {accuracy}\")\n",
        "\n",
        "accuracy2 = metrics.accuracy_score(y_test, DTC_Classifier.predict(x_test))\n",
        "\n",
        "print(f\"\\nAccuracy of test = {accuracy2}\")"
      ],
      "metadata": {
        "colab": {
          "base_uri": "https://localhost:8080/"
        },
        "id": "lj9bYrZRd9Xm",
        "outputId": "b2b46d0e-c31c-4027-dae0-0ccb58accab9"
      },
      "execution_count": 106,
      "outputs": [
        {
          "output_type": "stream",
          "name": "stdout",
          "text": [
            "Accuracy = 0.9999974697380672\n",
            "\n",
            "Accuracy of test = 0.9997166106635359\n"
          ]
        }
      ]
    },
    {
      "cell_type": "code",
      "source": [
        "from sklearn.model_selection import cross_val_score\n",
        "#finding the cross validation accuracy\n",
        "scores = cross_val_score(DTC_Classifier,x_train,y_train,cv=10)\n"
      ],
      "metadata": {
        "id": "UN7SZSi4WsY7"
      },
      "execution_count": 107,
      "outputs": []
    },
    {
      "cell_type": "code",
      "source": [
        "confusion_matrix = metrics.confusion_matrix(y_train,DTC_Classifier.predict(x_train))"
      ],
      "metadata": {
        "id": "kPgAi3wfXkg_"
      },
      "execution_count": 108,
      "outputs": []
    },
    {
      "cell_type": "code",
      "source": [
        "classification = metrics.classification_report(y_train,DTC_Classifier.predict(x_train))"
      ],
      "metadata": {
        "id": "cxITzUZTXvtK"
      },
      "execution_count": 109,
      "outputs": []
    },
    {
      "cell_type": "code",
      "source": [
        "print(f\"Scores \\n {scores}\\n\\nConfusion matrix \\n {confusion_matrix}\\n\\nclassification \\n{classification}\\n\")"
      ],
      "metadata": {
        "colab": {
          "base_uri": "https://localhost:8080/"
        },
        "id": "j8EONwRHX7YU",
        "outputId": "9c7f6012-d6f9-4cc9-a4ba-e83c10ef32b2"
      },
      "execution_count": 110,
      "outputs": [
        {
          "output_type": "stream",
          "name": "stdout",
          "text": [
            "Scores \n",
            " [0.99979758 0.99951926 0.99967107 0.99972167 0.99974698 0.99972167\n",
            " 0.99979758 0.99969636 0.99987348 0.99941803]\n",
            "\n",
            "Confusion matrix \n",
            " [[313026      0      0      0      0]\n",
            " [     1  77952      0      0      0]\n",
            " [     0      0   3285      0      0]\n",
            " [     0      0      0    911      0]\n",
            " [     0      0      0      0     41]]\n",
            "\n",
            "classification \n",
            "              precision    recall  f1-score   support\n",
            "\n",
            "           0       1.00      1.00      1.00    313026\n",
            "           1       1.00      1.00      1.00     77953\n",
            "           2       1.00      1.00      1.00      3285\n",
            "           3       1.00      1.00      1.00       911\n",
            "           4       1.00      1.00      1.00        41\n",
            "\n",
            "    accuracy                           1.00    395216\n",
            "   macro avg       1.00      1.00      1.00    395216\n",
            "weighted avg       1.00      1.00      1.00    395216\n",
            "\n",
            "\n"
          ]
        }
      ]
    },
    {
      "cell_type": "code",
      "source": [
        ""
      ],
      "metadata": {
        "id": "DEttPpbLZBfl"
      },
      "execution_count": 110,
      "outputs": []
    },
    {
      "cell_type": "code",
      "source": [
        "from sklearn import metrics\n",
        "\n",
        "accuracy = metrics.accuracy_score(y_train, BNB_Classifier.predict(x_train))\n",
        "\n",
        "print(f\"Accuracy = {accuracy}\")\n",
        "\n",
        "accuracy2 = metrics.accuracy_score(y_test, BNB_Classifier.predict(x_test))\n",
        "\n",
        "print(f\"\\nAccuracy of test = {accuracy2}\")"
      ],
      "metadata": {
        "colab": {
          "base_uri": "https://localhost:8080/"
        },
        "id": "O0ZA1V8gYec_",
        "outputId": "2bf11927-cde1-4df8-fece-45c8b7a01e84"
      },
      "execution_count": 111,
      "outputs": [
        {
          "output_type": "stream",
          "name": "stdout",
          "text": [
            "Accuracy = 0.9313615845512327\n",
            "\n",
            "Accuracy of test = 0.9310453018096433\n"
          ]
        }
      ]
    },
    {
      "cell_type": "markdown",
      "source": [
        "StratifiedKFold cross validation is used by cv=10"
      ],
      "metadata": {
        "id": "nq6Ae6-4Yoqv"
      }
    },
    {
      "cell_type": "code",
      "source": [
        "scores = cross_val_score(BNB_Classifier,x_train,y_train,cv=10)\n",
        "confusion_matrix = metrics.confusion_matrix(y_train,BNB_Classifier.predict(x_train))\n",
        "classification = metrics.classification_report(y_train,BNB_Classifier.predict(x_train))"
      ],
      "metadata": {
        "id": "VHMBiwP7YnmO"
      },
      "execution_count": 113,
      "outputs": []
    },
    {
      "cell_type": "code",
      "source": [
        "print(f\"Scores \\n {scores}\\n\\nConfusion matrix \\n {confusion_matrix}\\n\\nclassification \\n{classification}\\n\")"
      ],
      "metadata": {
        "id": "gl5AmnNZZCbf",
        "outputId": "5627e0a4-0ce5-452f-bcc8-0a883e4293ea",
        "colab": {
          "base_uri": "https://localhost:8080/"
        }
      },
      "execution_count": 114,
      "outputs": [
        {
          "output_type": "stream",
          "name": "stdout",
          "text": [
            "Scores \n",
            " [0.93304995 0.93089925 0.93229088 0.93094985 0.93069683 0.9304185\n",
            " 0.93087219 0.93109992 0.93115053 0.93223856]\n",
            "\n",
            "Confusion matrix \n",
            " [[294555   1510  16470     18    473]\n",
            " [  2083  71118   4322    372     58]\n",
            " [   204   1025   2056      0      0]\n",
            " [     8    554      6    336      7]\n",
            " [     0     13      0      4     24]]\n",
            "\n",
            "classification \n",
            "              precision    recall  f1-score   support\n",
            "\n",
            "           0       0.99      0.94      0.97    313026\n",
            "           1       0.96      0.91      0.93     77953\n",
            "           2       0.09      0.63      0.16      3285\n",
            "           3       0.46      0.37      0.41       911\n",
            "           4       0.04      0.59      0.08        41\n",
            "\n",
            "    accuracy                           0.93    395216\n",
            "   macro avg       0.51      0.69      0.51    395216\n",
            "weighted avg       0.98      0.93      0.95    395216\n",
            "\n",
            "\n"
          ]
        }
      ]
    },
    {
      "cell_type": "code",
      "source": [
        "#new to be "
      ],
      "metadata": {
        "id": "O6pCdaEgcFM9"
      },
      "execution_count": null,
      "outputs": []
    }
  ]
}